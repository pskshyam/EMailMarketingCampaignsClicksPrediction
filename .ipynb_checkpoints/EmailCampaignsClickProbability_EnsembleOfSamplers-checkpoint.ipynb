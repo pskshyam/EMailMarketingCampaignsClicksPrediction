{
 "cells": [
  {
   "cell_type": "markdown",
   "metadata": {},
   "source": [
    "# <center> Lord of the Machines - Data Science Hackathon\n",
    "\n",
    "<b>Problem Statement</b><br>\n",
    "Email Marketing is still the most successful marketing channel and the essential element of any digital marketing strategy. Marketers spend a lot of time in writing that perfect email, labouring over each word, catchy layouts on multiple devices to get them best in-industry open rates & click rates.\n",
    "\n",
    "How can I build my campaign to increase the click-through rates of email? - a question that is often heard when marketers are creating their email marketing plans.\n",
    "\n",
    "Can we optimize our email marketing campaigns with Data Science?\n",
    "\n",
    "It's time to unlock marketing potential and build some exceptional data-science products for email marketing.\n",
    "\n",
    "Analytics Vidhya sends out marketing emailers for various events such as conferences, hackathons, etc. We have provided a sample of user-email interaction data from July 2017 to December 2017. You are required to predict the click probability of links inside a mailer for email campaigns from January 2018 to March 2018.\n",
    "\n",
    "<b>EVALUATION METRIC</b><br>\n",
    "The evaluation metric for this competition is AUC-ROC score.\n",
    "\n",
    "https://datahack.analyticsvidhya.com/contest/lord-of-the-machines/?utm_source=sendinblue&utm_campaign=Lord_Of_The_Machines__Go_live&utm_medium=email"
   ]
  },
  {
   "cell_type": "code",
   "execution_count": 1,
   "metadata": {
    "collapsed": true
   },
   "outputs": [],
   "source": [
    "#Import basic necessary datasets\n",
    "import pandas as pd\n",
    "import numpy as np\n",
    "import matplotlib.pyplot as plt\n",
    "%matplotlib inline\n",
    "from IPython.core.interactiveshell import InteractiveShell #To print multiple outputs\n",
    "InteractiveShell.ast_node_interactivity = 'all'"
   ]
  },
  {
   "cell_type": "markdown",
   "metadata": {},
   "source": [
    "We are provided with 3 datasets:\n",
    "1. Campaign details of AV\n",
    "2. Train dataset which shows the information whether user opened/clicked links in the campaign mail or not\n",
    "3. Test dataset - to submit with click predictions"
   ]
  },
  {
   "cell_type": "code",
   "execution_count": 2,
   "metadata": {
    "collapsed": false
   },
   "outputs": [
    {
     "data": {
      "text/plain": [
       "(52, 9)"
      ]
     },
     "execution_count": 2,
     "metadata": {},
     "output_type": "execute_result"
    },
    {
     "data": {
      "text/html": [
       "<div>\n",
       "<table border=\"1\" class=\"dataframe\">\n",
       "  <thead>\n",
       "    <tr style=\"text-align: right;\">\n",
       "      <th></th>\n",
       "      <th>campaign_id</th>\n",
       "      <th>communication_type</th>\n",
       "      <th>total_links</th>\n",
       "      <th>no_of_internal_links</th>\n",
       "      <th>no_of_images</th>\n",
       "      <th>no_of_sections</th>\n",
       "      <th>email_body</th>\n",
       "      <th>subject</th>\n",
       "      <th>email_url</th>\n",
       "    </tr>\n",
       "  </thead>\n",
       "  <tbody>\n",
       "    <tr>\n",
       "      <th>0</th>\n",
       "      <td>29</td>\n",
       "      <td>Newsletter</td>\n",
       "      <td>67</td>\n",
       "      <td>61</td>\n",
       "      <td>12</td>\n",
       "      <td>3</td>\n",
       "      <td>Dear AVians,\\r\\n \\r\\nWe are shaping up a super...</td>\n",
       "      <td>Sneak Peek: A look at the emerging data scienc...</td>\n",
       "      <td>http://r.newsletters.analyticsvidhya.com/7um44...</td>\n",
       "    </tr>\n",
       "    <tr>\n",
       "      <th>1</th>\n",
       "      <td>30</td>\n",
       "      <td>Upcoming Events</td>\n",
       "      <td>18</td>\n",
       "      <td>14</td>\n",
       "      <td>7</td>\n",
       "      <td>1</td>\n",
       "      <td>Dear AVians,\\r\\n \\r\\nAre your eager to know wh...</td>\n",
       "      <td>[July] Data Science Expert Meetups &amp; Competiti...</td>\n",
       "      <td>http://r.newsletters.analyticsvidhya.com/7up0e...</td>\n",
       "    </tr>\n",
       "    <tr>\n",
       "      <th>2</th>\n",
       "      <td>31</td>\n",
       "      <td>Conference</td>\n",
       "      <td>15</td>\n",
       "      <td>13</td>\n",
       "      <td>5</td>\n",
       "      <td>1</td>\n",
       "      <td>Early Bird Pricing Till August 07  Save upto ...</td>\n",
       "      <td>Last chance to convince your boss before the E...</td>\n",
       "      <td>http://r.newsletters.analyticsvidhya.com/7usym...</td>\n",
       "    </tr>\n",
       "    <tr>\n",
       "      <th>3</th>\n",
       "      <td>32</td>\n",
       "      <td>Conference</td>\n",
       "      <td>24</td>\n",
       "      <td>19</td>\n",
       "      <td>7</td>\n",
       "      <td>1</td>\n",
       "      <td>\\r\\n \\r\\nHi ?\\r\\n \\r\\nBefore I dive into why y...</td>\n",
       "      <td>A.I. &amp; Machine Learning: 5 reasons why you sho...</td>\n",
       "      <td>http://r.newsletters.analyticsvidhya.com/7uthl...</td>\n",
       "    </tr>\n",
       "    <tr>\n",
       "      <th>4</th>\n",
       "      <td>33</td>\n",
       "      <td>Others</td>\n",
       "      <td>7</td>\n",
       "      <td>3</td>\n",
       "      <td>1</td>\n",
       "      <td>1</td>\n",
       "      <td>Fireside Chat with DJ Patil - the master is he...</td>\n",
       "      <td>[Delhi NCR] Fireside Chat with DJ Patil, Forme...</td>\n",
       "      <td>http://r.newsletters.analyticsvidhya.com/7uvlg...</td>\n",
       "    </tr>\n",
       "  </tbody>\n",
       "</table>\n",
       "</div>"
      ],
      "text/plain": [
       "   campaign_id communication_type  total_links  no_of_internal_links  \\\n",
       "0           29         Newsletter           67                    61   \n",
       "1           30    Upcoming Events           18                    14   \n",
       "2           31         Conference           15                    13   \n",
       "3           32         Conference           24                    19   \n",
       "4           33             Others            7                     3   \n",
       "\n",
       "   no_of_images  no_of_sections  \\\n",
       "0            12               3   \n",
       "1             7               1   \n",
       "2             5               1   \n",
       "3             7               1   \n",
       "4             1               1   \n",
       "\n",
       "                                          email_body  \\\n",
       "0  Dear AVians,\\r\\n \\r\\nWe are shaping up a super...   \n",
       "1  Dear AVians,\\r\\n \\r\\nAre your eager to know wh...   \n",
       "2  Early Bird Pricing Till August 07  Save upto ...   \n",
       "3  \\r\\n \\r\\nHi ?\\r\\n \\r\\nBefore I dive into why y...   \n",
       "4  Fireside Chat with DJ Patil - the master is he...   \n",
       "\n",
       "                                             subject  \\\n",
       "0  Sneak Peek: A look at the emerging data scienc...   \n",
       "1  [July] Data Science Expert Meetups & Competiti...   \n",
       "2  Last chance to convince your boss before the E...   \n",
       "3  A.I. & Machine Learning: 5 reasons why you sho...   \n",
       "4  [Delhi NCR] Fireside Chat with DJ Patil, Forme...   \n",
       "\n",
       "                                           email_url  \n",
       "0  http://r.newsletters.analyticsvidhya.com/7um44...  \n",
       "1  http://r.newsletters.analyticsvidhya.com/7up0e...  \n",
       "2  http://r.newsletters.analyticsvidhya.com/7usym...  \n",
       "3  http://r.newsletters.analyticsvidhya.com/7uthl...  \n",
       "4  http://r.newsletters.analyticsvidhya.com/7uvlg...  "
      ]
     },
     "execution_count": 2,
     "metadata": {},
     "output_type": "execute_result"
    },
    {
     "data": {
      "text/plain": [
       "(1023191, 6)"
      ]
     },
     "execution_count": 2,
     "metadata": {},
     "output_type": "execute_result"
    },
    {
     "data": {
      "text/html": [
       "<div>\n",
       "<table border=\"1\" class=\"dataframe\">\n",
       "  <thead>\n",
       "    <tr style=\"text-align: right;\">\n",
       "      <th></th>\n",
       "      <th>id</th>\n",
       "      <th>user_id</th>\n",
       "      <th>campaign_id</th>\n",
       "      <th>send_date</th>\n",
       "      <th>is_open</th>\n",
       "      <th>is_click</th>\n",
       "    </tr>\n",
       "  </thead>\n",
       "  <tbody>\n",
       "    <tr>\n",
       "      <th>0</th>\n",
       "      <td>42_14051</td>\n",
       "      <td>14051</td>\n",
       "      <td>42</td>\n",
       "      <td>01-09-2017 19:55</td>\n",
       "      <td>0</td>\n",
       "      <td>0</td>\n",
       "    </tr>\n",
       "    <tr>\n",
       "      <th>1</th>\n",
       "      <td>52_134438</td>\n",
       "      <td>134438</td>\n",
       "      <td>52</td>\n",
       "      <td>02-11-2017 12:53</td>\n",
       "      <td>0</td>\n",
       "      <td>0</td>\n",
       "    </tr>\n",
       "    <tr>\n",
       "      <th>2</th>\n",
       "      <td>33_181789</td>\n",
       "      <td>181789</td>\n",
       "      <td>33</td>\n",
       "      <td>24-07-2017 15:15</td>\n",
       "      <td>0</td>\n",
       "      <td>0</td>\n",
       "    </tr>\n",
       "    <tr>\n",
       "      <th>3</th>\n",
       "      <td>44_231448</td>\n",
       "      <td>231448</td>\n",
       "      <td>44</td>\n",
       "      <td>05-09-2017 11:36</td>\n",
       "      <td>0</td>\n",
       "      <td>0</td>\n",
       "    </tr>\n",
       "    <tr>\n",
       "      <th>4</th>\n",
       "      <td>29_185580</td>\n",
       "      <td>185580</td>\n",
       "      <td>29</td>\n",
       "      <td>01-07-2017 18:01</td>\n",
       "      <td>0</td>\n",
       "      <td>0</td>\n",
       "    </tr>\n",
       "  </tbody>\n",
       "</table>\n",
       "</div>"
      ],
      "text/plain": [
       "          id  user_id  campaign_id         send_date  is_open  is_click\n",
       "0   42_14051    14051           42  01-09-2017 19:55        0         0\n",
       "1  52_134438   134438           52  02-11-2017 12:53        0         0\n",
       "2  33_181789   181789           33  24-07-2017 15:15        0         0\n",
       "3  44_231448   231448           44  05-09-2017 11:36        0         0\n",
       "4  29_185580   185580           29  01-07-2017 18:01        0         0"
      ]
     },
     "execution_count": 2,
     "metadata": {},
     "output_type": "execute_result"
    },
    {
     "data": {
      "text/plain": [
       "(773858, 4)"
      ]
     },
     "execution_count": 2,
     "metadata": {},
     "output_type": "execute_result"
    },
    {
     "data": {
      "text/html": [
       "<div>\n",
       "<table border=\"1\" class=\"dataframe\">\n",
       "  <thead>\n",
       "    <tr style=\"text-align: right;\">\n",
       "      <th></th>\n",
       "      <th>id</th>\n",
       "      <th>campaign_id</th>\n",
       "      <th>user_id</th>\n",
       "      <th>send_date</th>\n",
       "    </tr>\n",
       "  </thead>\n",
       "  <tbody>\n",
       "    <tr>\n",
       "      <th>0</th>\n",
       "      <td>63_122715</td>\n",
       "      <td>63</td>\n",
       "      <td>122715</td>\n",
       "      <td>01-02-2018 22:35</td>\n",
       "    </tr>\n",
       "    <tr>\n",
       "      <th>1</th>\n",
       "      <td>56_76206</td>\n",
       "      <td>56</td>\n",
       "      <td>76206</td>\n",
       "      <td>02-01-2018 08:15</td>\n",
       "    </tr>\n",
       "    <tr>\n",
       "      <th>2</th>\n",
       "      <td>57_96189</td>\n",
       "      <td>57</td>\n",
       "      <td>96189</td>\n",
       "      <td>05-01-2018 18:25</td>\n",
       "    </tr>\n",
       "    <tr>\n",
       "      <th>3</th>\n",
       "      <td>56_166917</td>\n",
       "      <td>56</td>\n",
       "      <td>166917</td>\n",
       "      <td>02-01-2018 08:15</td>\n",
       "    </tr>\n",
       "    <tr>\n",
       "      <th>4</th>\n",
       "      <td>56_172838</td>\n",
       "      <td>56</td>\n",
       "      <td>172838</td>\n",
       "      <td>02-01-2018 08:12</td>\n",
       "    </tr>\n",
       "  </tbody>\n",
       "</table>\n",
       "</div>"
      ],
      "text/plain": [
       "          id  campaign_id  user_id         send_date\n",
       "0  63_122715           63   122715  01-02-2018 22:35\n",
       "1   56_76206           56    76206  02-01-2018 08:15\n",
       "2   57_96189           57    96189  05-01-2018 18:25\n",
       "3  56_166917           56   166917  02-01-2018 08:15\n",
       "4  56_172838           56   172838  02-01-2018 08:12"
      ]
     },
     "execution_count": 2,
     "metadata": {},
     "output_type": "execute_result"
    },
    {
     "data": {
      "text/plain": [
       "(773858, 2)"
      ]
     },
     "execution_count": 2,
     "metadata": {},
     "output_type": "execute_result"
    },
    {
     "data": {
      "text/html": [
       "<div>\n",
       "<table border=\"1\" class=\"dataframe\">\n",
       "  <thead>\n",
       "    <tr style=\"text-align: right;\">\n",
       "      <th></th>\n",
       "      <th>id</th>\n",
       "      <th>is_click</th>\n",
       "    </tr>\n",
       "  </thead>\n",
       "  <tbody>\n",
       "    <tr>\n",
       "      <th>0</th>\n",
       "      <td>63_122715</td>\n",
       "      <td>1</td>\n",
       "    </tr>\n",
       "    <tr>\n",
       "      <th>1</th>\n",
       "      <td>56_76206</td>\n",
       "      <td>1</td>\n",
       "    </tr>\n",
       "    <tr>\n",
       "      <th>2</th>\n",
       "      <td>57_96189</td>\n",
       "      <td>1</td>\n",
       "    </tr>\n",
       "    <tr>\n",
       "      <th>3</th>\n",
       "      <td>56_166917</td>\n",
       "      <td>1</td>\n",
       "    </tr>\n",
       "    <tr>\n",
       "      <th>4</th>\n",
       "      <td>56_172838</td>\n",
       "      <td>1</td>\n",
       "    </tr>\n",
       "  </tbody>\n",
       "</table>\n",
       "</div>"
      ],
      "text/plain": [
       "          id  is_click\n",
       "0  63_122715         1\n",
       "1   56_76206         1\n",
       "2   57_96189         1\n",
       "3  56_166917         1\n",
       "4  56_172838         1"
      ]
     },
     "execution_count": 2,
     "metadata": {},
     "output_type": "execute_result"
    }
   ],
   "source": [
    "#Read the datasets provided and view the data\n",
    "campaign = pd.read_csv('campaign_data.csv')\n",
    "train = pd.read_csv('train.csv')\n",
    "test = pd.read_csv('test.csv')\n",
    "sample = pd.read_csv('sample_submission.csv')\n",
    "campaign.shape\n",
    "campaign.head()\n",
    "train.shape\n",
    "train.head()\n",
    "test.shape\n",
    "test.head()\n",
    "sample.shape\n",
    "sample.head()"
   ]
  },
  {
   "cell_type": "code",
   "execution_count": 3,
   "metadata": {
    "collapsed": false
   },
   "outputs": [
    {
     "data": {
      "text/plain": [
       "(1023191, 14)"
      ]
     },
     "execution_count": 3,
     "metadata": {},
     "output_type": "execute_result"
    },
    {
     "data": {
      "text/plain": [
       "(773858, 12)"
      ]
     },
     "execution_count": 3,
     "metadata": {},
     "output_type": "execute_result"
    },
    {
     "data": {
      "text/html": [
       "<div>\n",
       "<table border=\"1\" class=\"dataframe\">\n",
       "  <thead>\n",
       "    <tr style=\"text-align: right;\">\n",
       "      <th></th>\n",
       "      <th>id</th>\n",
       "      <th>user_id</th>\n",
       "      <th>campaign_id</th>\n",
       "      <th>send_date</th>\n",
       "      <th>is_open</th>\n",
       "      <th>is_click</th>\n",
       "      <th>communication_type</th>\n",
       "      <th>total_links</th>\n",
       "      <th>no_of_internal_links</th>\n",
       "      <th>no_of_images</th>\n",
       "      <th>no_of_sections</th>\n",
       "      <th>email_body</th>\n",
       "      <th>subject</th>\n",
       "      <th>email_url</th>\n",
       "    </tr>\n",
       "  </thead>\n",
       "  <tbody>\n",
       "    <tr>\n",
       "      <th>0</th>\n",
       "      <td>42_14051</td>\n",
       "      <td>14051</td>\n",
       "      <td>42</td>\n",
       "      <td>01-09-2017 19:55</td>\n",
       "      <td>0</td>\n",
       "      <td>0</td>\n",
       "      <td>Newsletter</td>\n",
       "      <td>88</td>\n",
       "      <td>79</td>\n",
       "      <td>13</td>\n",
       "      <td>4</td>\n",
       "      <td>September Newsletter\\r\\n \\r\\nDear AVians,\\r\\n ...</td>\n",
       "      <td>[September] Exciting days ahead with DataHack ...</td>\n",
       "      <td>http://r.newsletters.analyticsvidhya.com/7v3rd...</td>\n",
       "    </tr>\n",
       "    <tr>\n",
       "      <th>1</th>\n",
       "      <td>52_134438</td>\n",
       "      <td>134438</td>\n",
       "      <td>52</td>\n",
       "      <td>02-11-2017 12:53</td>\n",
       "      <td>0</td>\n",
       "      <td>0</td>\n",
       "      <td>Newsletter</td>\n",
       "      <td>67</td>\n",
       "      <td>62</td>\n",
       "      <td>10</td>\n",
       "      <td>4</td>\n",
       "      <td>November Newsletter\\r\\n \\r\\nDear AVians,\\r\\n \\...</td>\n",
       "      <td>[Newsletter] Stage for DataHack Summit 2017 is...</td>\n",
       "      <td>http://r.newsletters.analyticsvidhya.com/7vtb2...</td>\n",
       "    </tr>\n",
       "    <tr>\n",
       "      <th>2</th>\n",
       "      <td>33_181789</td>\n",
       "      <td>181789</td>\n",
       "      <td>33</td>\n",
       "      <td>24-07-2017 15:15</td>\n",
       "      <td>0</td>\n",
       "      <td>0</td>\n",
       "      <td>Others</td>\n",
       "      <td>7</td>\n",
       "      <td>3</td>\n",
       "      <td>1</td>\n",
       "      <td>1</td>\n",
       "      <td>Fireside Chat with DJ Patil - the master is he...</td>\n",
       "      <td>[Delhi NCR] Fireside Chat with DJ Patil, Forme...</td>\n",
       "      <td>http://r.newsletters.analyticsvidhya.com/7uvlg...</td>\n",
       "    </tr>\n",
       "    <tr>\n",
       "      <th>3</th>\n",
       "      <td>44_231448</td>\n",
       "      <td>231448</td>\n",
       "      <td>44</td>\n",
       "      <td>05-09-2017 11:36</td>\n",
       "      <td>0</td>\n",
       "      <td>0</td>\n",
       "      <td>Upcoming Events</td>\n",
       "      <td>60</td>\n",
       "      <td>56</td>\n",
       "      <td>19</td>\n",
       "      <td>6</td>\n",
       "      <td>[September Events]\\r\\n \\r\\nDear AVians,\\r\\n \\r...</td>\n",
       "      <td>[September] Data Science Hackathons, Meetups a...</td>\n",
       "      <td>http://r.newsletters.analyticsvidhya.com/7veam...</td>\n",
       "    </tr>\n",
       "    <tr>\n",
       "      <th>4</th>\n",
       "      <td>29_185580</td>\n",
       "      <td>185580</td>\n",
       "      <td>29</td>\n",
       "      <td>01-07-2017 18:01</td>\n",
       "      <td>0</td>\n",
       "      <td>0</td>\n",
       "      <td>Newsletter</td>\n",
       "      <td>67</td>\n",
       "      <td>61</td>\n",
       "      <td>12</td>\n",
       "      <td>3</td>\n",
       "      <td>Dear AVians,\\r\\n \\r\\nWe are shaping up a super...</td>\n",
       "      <td>Sneak Peek: A look at the emerging data scienc...</td>\n",
       "      <td>http://r.newsletters.analyticsvidhya.com/7um44...</td>\n",
       "    </tr>\n",
       "  </tbody>\n",
       "</table>\n",
       "</div>"
      ],
      "text/plain": [
       "          id  user_id  campaign_id         send_date  is_open  is_click  \\\n",
       "0   42_14051    14051           42  01-09-2017 19:55        0         0   \n",
       "1  52_134438   134438           52  02-11-2017 12:53        0         0   \n",
       "2  33_181789   181789           33  24-07-2017 15:15        0         0   \n",
       "3  44_231448   231448           44  05-09-2017 11:36        0         0   \n",
       "4  29_185580   185580           29  01-07-2017 18:01        0         0   \n",
       "\n",
       "  communication_type  total_links  no_of_internal_links  no_of_images  \\\n",
       "0         Newsletter           88                    79            13   \n",
       "1         Newsletter           67                    62            10   \n",
       "2             Others            7                     3             1   \n",
       "3    Upcoming Events           60                    56            19   \n",
       "4         Newsletter           67                    61            12   \n",
       "\n",
       "   no_of_sections                                         email_body  \\\n",
       "0               4  September Newsletter\\r\\n \\r\\nDear AVians,\\r\\n ...   \n",
       "1               4  November Newsletter\\r\\n \\r\\nDear AVians,\\r\\n \\...   \n",
       "2               1  Fireside Chat with DJ Patil - the master is he...   \n",
       "3               6  [September Events]\\r\\n \\r\\nDear AVians,\\r\\n \\r...   \n",
       "4               3  Dear AVians,\\r\\n \\r\\nWe are shaping up a super...   \n",
       "\n",
       "                                             subject  \\\n",
       "0  [September] Exciting days ahead with DataHack ...   \n",
       "1  [Newsletter] Stage for DataHack Summit 2017 is...   \n",
       "2  [Delhi NCR] Fireside Chat with DJ Patil, Forme...   \n",
       "3  [September] Data Science Hackathons, Meetups a...   \n",
       "4  Sneak Peek: A look at the emerging data scienc...   \n",
       "\n",
       "                                           email_url  \n",
       "0  http://r.newsletters.analyticsvidhya.com/7v3rd...  \n",
       "1  http://r.newsletters.analyticsvidhya.com/7vtb2...  \n",
       "2  http://r.newsletters.analyticsvidhya.com/7uvlg...  \n",
       "3  http://r.newsletters.analyticsvidhya.com/7veam...  \n",
       "4  http://r.newsletters.analyticsvidhya.com/7um44...  "
      ]
     },
     "execution_count": 3,
     "metadata": {},
     "output_type": "execute_result"
    }
   ],
   "source": [
    "#Merge train and test datasets with campaign dataset on 'campaign_id' feature\n",
    "train_merged = pd.merge(train, campaign, on='campaign_id', how='left').reset_index(drop=True)\n",
    "test_merged = pd.merge(test, campaign, on='campaign_id', how='left').reset_index(drop=True)\n",
    "train_merged.shape\n",
    "test_merged.shape\n",
    "train_merged.head()"
   ]
  },
  {
   "cell_type": "code",
   "execution_count": 5,
   "metadata": {
    "collapsed": false
   },
   "outputs": [
    {
     "name": "stdout",
     "output_type": "stream",
     "text": [
      "<class 'pandas.core.frame.DataFrame'>\n",
      "RangeIndex: 1023191 entries, 0 to 1023190\n",
      "Data columns (total 14 columns):\n",
      "id                      1023191 non-null object\n",
      "user_id                 1023191 non-null int64\n",
      "campaign_id             1023191 non-null int64\n",
      "send_date               1023191 non-null object\n",
      "is_open                 1023191 non-null int64\n",
      "is_click                1023191 non-null int64\n",
      "communication_type      1023191 non-null object\n",
      "total_links             1023191 non-null int64\n",
      "no_of_internal_links    1023191 non-null int64\n",
      "no_of_images            1023191 non-null int64\n",
      "no_of_sections          1023191 non-null int64\n",
      "email_body              1023191 non-null object\n",
      "subject                 1023191 non-null object\n",
      "email_url               1023191 non-null object\n",
      "dtypes: int64(8), object(6)\n",
      "memory usage: 109.3+ MB\n"
     ]
    }
   ],
   "source": [
    "#Check datatypes of the features in train data\n",
    "train_merged.info()"
   ]
  },
  {
   "cell_type": "code",
   "execution_count": 6,
   "metadata": {
    "collapsed": false
   },
   "outputs": [],
   "source": [
    "#The feature 'send_date' is of type object which needs to be converted into datetime\n",
    "train_merged.send_date = pd.to_datetime(train_merged.send_date)\n",
    "test_merged.send_date = pd.to_datetime(test_merged.send_date)"
   ]
  },
  {
   "cell_type": "code",
   "execution_count": 8,
   "metadata": {
    "collapsed": false
   },
   "outputs": [
    {
     "data": {
      "text/plain": [
       "array(['Newsletter', 'Others', 'Upcoming Events', 'Conference',\n",
       "       'Corporate', 'Hackathon', 'Webinar'], dtype=object)"
      ]
     },
     "execution_count": 8,
     "metadata": {},
     "output_type": "execute_result"
    },
    {
     "data": {
      "text/plain": [
       "array(['Newsletter', 'Upcoming Events', 'Hackathon', 'Corporate'],\n",
       "      dtype=object)"
      ]
     },
     "execution_count": 8,
     "metadata": {},
     "output_type": "execute_result"
    }
   ],
   "source": [
    "#Check unique communication types in train and test datasets\n",
    "train_merged.communication_type.unique()\n",
    "test_merged.communication_type.unique()"
   ]
  },
  {
   "cell_type": "markdown",
   "metadata": {},
   "source": [
    "Note that communication types such as Others, Conference, Webinar are not present in test dataset"
   ]
  },
  {
   "cell_type": "code",
   "execution_count": 9,
   "metadata": {
    "collapsed": false
   },
   "outputs": [
    {
     "data": {
      "text/plain": [
       "LabelEncoder()"
      ]
     },
     "execution_count": 9,
     "metadata": {},
     "output_type": "execute_result"
    },
    {
     "data": {
      "text/plain": [
       "array([3, 4, 5, 0, 1, 2, 6], dtype=int64)"
      ]
     },
     "execution_count": 9,
     "metadata": {},
     "output_type": "execute_result"
    }
   ],
   "source": [
    "#Let us encode the labels of communication types using sklearn.labelencoder\n",
    "from sklearn.preprocessing import LabelEncoder\n",
    "le = LabelEncoder()\n",
    "le.fit(train_merged.communication_type)\n",
    "train_merged.communication_type = le.transform(train_merged.communication_type)\n",
    "train_merged.communication_type.unique()"
   ]
  },
  {
   "cell_type": "code",
   "execution_count": 10,
   "metadata": {
    "collapsed": false
   },
   "outputs": [
    {
     "data": {
      "text/plain": [
       "LabelEncoder()"
      ]
     },
     "execution_count": 10,
     "metadata": {},
     "output_type": "execute_result"
    },
    {
     "data": {
      "text/plain": [
       "array([2, 3, 1, 0], dtype=int64)"
      ]
     },
     "execution_count": 10,
     "metadata": {},
     "output_type": "execute_result"
    }
   ],
   "source": [
    "le.fit(test_merged.communication_type)\n",
    "test_merged.communication_type = le.transform(test_merged.communication_type)\n",
    "test_merged.communication_type.unique()"
   ]
  },
  {
   "cell_type": "markdown",
   "metadata": {},
   "source": [
    "## Feature Engineering"
   ]
  },
  {
   "cell_type": "code",
   "execution_count": 11,
   "metadata": {
    "collapsed": false
   },
   "outputs": [],
   "source": [
    "#Lets split the feature 'send_date' to gain more insights\n",
    "train_merged['day_of_week'] = train_merged['send_date'].dt.dayofweek\n",
    "train_merged['hour'] = train_merged['send_date'].dt.hour\n",
    "train_merged['day'] = train_merged['send_date'].dt.day\n",
    "train_merged['month'] = train_merged['send_date'].dt.month\n",
    "train_merged['IsWeekend'] = train_merged['day_of_week'].apply(lambda x : 0 if x==0 | x==6 else 1)"
   ]
  },
  {
   "cell_type": "code",
   "execution_count": 12,
   "metadata": {
    "collapsed": true
   },
   "outputs": [],
   "source": [
    "test_merged['day_of_week'] = test_merged['send_date'].dt.dayofweek\n",
    "test_merged['hour'] = test_merged['send_date'].dt.hour\n",
    "test_merged['day'] = test_merged['send_date'].dt.day\n",
    "test_merged['month'] = test_merged['send_date'].dt.month\n",
    "test_merged['IsWeekend'] = test_merged['day_of_week'].apply(lambda x : 0 if x==0 | x==6 else 1)"
   ]
  },
  {
   "cell_type": "code",
   "execution_count": 13,
   "metadata": {
    "collapsed": false
   },
   "outputs": [
    {
     "data": {
      "text/html": [
       "<div>\n",
       "<table border=\"1\" class=\"dataframe\">\n",
       "  <thead>\n",
       "    <tr style=\"text-align: right;\">\n",
       "      <th></th>\n",
       "      <th>id</th>\n",
       "      <th>user_id</th>\n",
       "      <th>campaign_id</th>\n",
       "      <th>send_date</th>\n",
       "      <th>is_open</th>\n",
       "      <th>is_click</th>\n",
       "      <th>communication_type</th>\n",
       "      <th>total_links</th>\n",
       "      <th>no_of_internal_links</th>\n",
       "      <th>no_of_images</th>\n",
       "      <th>no_of_sections</th>\n",
       "      <th>email_body</th>\n",
       "      <th>subject</th>\n",
       "      <th>email_url</th>\n",
       "      <th>day_of_week</th>\n",
       "      <th>hour</th>\n",
       "      <th>day</th>\n",
       "      <th>month</th>\n",
       "      <th>IsWeekend</th>\n",
       "    </tr>\n",
       "  </thead>\n",
       "  <tbody>\n",
       "    <tr>\n",
       "      <th>0</th>\n",
       "      <td>42_14051</td>\n",
       "      <td>14051</td>\n",
       "      <td>42</td>\n",
       "      <td>2017-01-09 19:55:00</td>\n",
       "      <td>0</td>\n",
       "      <td>0</td>\n",
       "      <td>3</td>\n",
       "      <td>88</td>\n",
       "      <td>79</td>\n",
       "      <td>13</td>\n",
       "      <td>4</td>\n",
       "      <td>September Newsletter\\r\\n \\r\\nDear AVians,\\r\\n ...</td>\n",
       "      <td>[September] Exciting days ahead with DataHack ...</td>\n",
       "      <td>http://r.newsletters.analyticsvidhya.com/7v3rd...</td>\n",
       "      <td>0</td>\n",
       "      <td>19</td>\n",
       "      <td>9</td>\n",
       "      <td>1</td>\n",
       "      <td>1</td>\n",
       "    </tr>\n",
       "    <tr>\n",
       "      <th>1</th>\n",
       "      <td>52_134438</td>\n",
       "      <td>134438</td>\n",
       "      <td>52</td>\n",
       "      <td>2017-02-11 12:53:00</td>\n",
       "      <td>0</td>\n",
       "      <td>0</td>\n",
       "      <td>3</td>\n",
       "      <td>67</td>\n",
       "      <td>62</td>\n",
       "      <td>10</td>\n",
       "      <td>4</td>\n",
       "      <td>November Newsletter\\r\\n \\r\\nDear AVians,\\r\\n \\...</td>\n",
       "      <td>[Newsletter] Stage for DataHack Summit 2017 is...</td>\n",
       "      <td>http://r.newsletters.analyticsvidhya.com/7vtb2...</td>\n",
       "      <td>5</td>\n",
       "      <td>12</td>\n",
       "      <td>11</td>\n",
       "      <td>2</td>\n",
       "      <td>1</td>\n",
       "    </tr>\n",
       "  </tbody>\n",
       "</table>\n",
       "</div>"
      ],
      "text/plain": [
       "          id  user_id  campaign_id           send_date  is_open  is_click  \\\n",
       "0   42_14051    14051           42 2017-01-09 19:55:00        0         0   \n",
       "1  52_134438   134438           52 2017-02-11 12:53:00        0         0   \n",
       "\n",
       "   communication_type  total_links  no_of_internal_links  no_of_images  \\\n",
       "0                   3           88                    79            13   \n",
       "1                   3           67                    62            10   \n",
       "\n",
       "   no_of_sections                                         email_body  \\\n",
       "0               4  September Newsletter\\r\\n \\r\\nDear AVians,\\r\\n ...   \n",
       "1               4  November Newsletter\\r\\n \\r\\nDear AVians,\\r\\n \\...   \n",
       "\n",
       "                                             subject  \\\n",
       "0  [September] Exciting days ahead with DataHack ...   \n",
       "1  [Newsletter] Stage for DataHack Summit 2017 is...   \n",
       "\n",
       "                                           email_url  day_of_week  hour  day  \\\n",
       "0  http://r.newsletters.analyticsvidhya.com/7v3rd...            0    19    9   \n",
       "1  http://r.newsletters.analyticsvidhya.com/7vtb2...            5    12   11   \n",
       "\n",
       "   month  IsWeekend  \n",
       "0      1          1  \n",
       "1      2          1  "
      ]
     },
     "execution_count": 13,
     "metadata": {},
     "output_type": "execute_result"
    }
   ],
   "source": [
    "train_merged.head(2)"
   ]
  },
  {
   "cell_type": "code",
   "execution_count": 14,
   "metadata": {
    "collapsed": false
   },
   "outputs": [
    {
     "data": {
      "text/plain": [
       "Index(['id', 'user_id', 'campaign_id', 'send_date', 'is_open', 'is_click',\n",
       "       'communication_type', 'total_links', 'no_of_internal_links',\n",
       "       'no_of_images', 'no_of_sections', 'email_body', 'subject', 'email_url',\n",
       "       'day_of_week', 'hour', 'day', 'month', 'IsWeekend'],\n",
       "      dtype='object')"
      ]
     },
     "execution_count": 14,
     "metadata": {},
     "output_type": "execute_result"
    }
   ],
   "source": [
    "train_merged.columns"
   ]
  },
  {
   "cell_type": "code",
   "execution_count": 15,
   "metadata": {
    "collapsed": false
   },
   "outputs": [
    {
     "data": {
      "text/plain": [
       "0    1010409\n",
       "1      12782\n",
       "Name: is_click, dtype: int64"
      ]
     },
     "execution_count": 15,
     "metadata": {},
     "output_type": "execute_result"
    }
   ],
   "source": [
    "train_merged.is_click.value_counts()"
   ]
  },
  {
   "cell_type": "code",
   "execution_count": 17,
   "metadata": {
    "collapsed": false
   },
   "outputs": [],
   "source": [
    "train_merged.to_csv('train_merged.csv', index=False)"
   ]
  },
  {
   "cell_type": "code",
   "execution_count": 27,
   "metadata": {
    "collapsed": true
   },
   "outputs": [],
   "source": [
    "test_merged.to_csv('test_merged.csv', index=False)"
   ]
  },
  {
   "cell_type": "code",
   "execution_count": 5,
   "metadata": {
    "collapsed": false
   },
   "outputs": [],
   "source": [
    "train_merged = pd.read_csv('train_merged.csv')\n",
    "test_merged = pd.read_csv('test_merged.csv')\n",
    "sample = pd.read_csv('sample_submission.csv')"
   ]
  },
  {
   "cell_type": "code",
   "execution_count": 6,
   "metadata": {
    "collapsed": false
   },
   "outputs": [
    {
     "data": {
      "text/plain": [
       "Index(['user_id', 'campaign_id', 'communication_type', 'total_links',\n",
       "       'no_of_internal_links', 'no_of_images', 'no_of_sections', 'day_of_week',\n",
       "       'hour', 'day', 'month', 'IsWeekend'],\n",
       "      dtype='object')"
      ]
     },
     "execution_count": 6,
     "metadata": {},
     "output_type": "execute_result"
    }
   ],
   "source": [
    "feature_cols = train_merged.columns.drop(['id', 'send_date','email_body', 'subject', 'email_url','is_open','is_click'])\n",
    "feature_cols"
   ]
  },
  {
   "cell_type": "code",
   "execution_count": 7,
   "metadata": {
    "collapsed": false
   },
   "outputs": [
    {
     "data": {
      "text/html": [
       "<div>\n",
       "<table border=\"1\" class=\"dataframe\">\n",
       "  <thead>\n",
       "    <tr style=\"text-align: right;\">\n",
       "      <th></th>\n",
       "      <th>user_id</th>\n",
       "      <th>campaign_id</th>\n",
       "      <th>communication_type</th>\n",
       "      <th>total_links</th>\n",
       "      <th>no_of_internal_links</th>\n",
       "      <th>no_of_images</th>\n",
       "      <th>no_of_sections</th>\n",
       "      <th>day_of_week</th>\n",
       "      <th>hour</th>\n",
       "      <th>day</th>\n",
       "      <th>month</th>\n",
       "      <th>IsWeekend</th>\n",
       "    </tr>\n",
       "  </thead>\n",
       "  <tbody>\n",
       "    <tr>\n",
       "      <th>0</th>\n",
       "      <td>14051</td>\n",
       "      <td>42</td>\n",
       "      <td>3</td>\n",
       "      <td>88</td>\n",
       "      <td>79</td>\n",
       "      <td>13</td>\n",
       "      <td>4</td>\n",
       "      <td>0</td>\n",
       "      <td>19</td>\n",
       "      <td>9</td>\n",
       "      <td>1</td>\n",
       "      <td>1</td>\n",
       "    </tr>\n",
       "    <tr>\n",
       "      <th>1</th>\n",
       "      <td>134438</td>\n",
       "      <td>52</td>\n",
       "      <td>3</td>\n",
       "      <td>67</td>\n",
       "      <td>62</td>\n",
       "      <td>10</td>\n",
       "      <td>4</td>\n",
       "      <td>5</td>\n",
       "      <td>12</td>\n",
       "      <td>11</td>\n",
       "      <td>2</td>\n",
       "      <td>1</td>\n",
       "    </tr>\n",
       "    <tr>\n",
       "      <th>2</th>\n",
       "      <td>181789</td>\n",
       "      <td>33</td>\n",
       "      <td>4</td>\n",
       "      <td>7</td>\n",
       "      <td>3</td>\n",
       "      <td>1</td>\n",
       "      <td>1</td>\n",
       "      <td>0</td>\n",
       "      <td>15</td>\n",
       "      <td>24</td>\n",
       "      <td>7</td>\n",
       "      <td>1</td>\n",
       "    </tr>\n",
       "    <tr>\n",
       "      <th>3</th>\n",
       "      <td>231448</td>\n",
       "      <td>44</td>\n",
       "      <td>5</td>\n",
       "      <td>60</td>\n",
       "      <td>56</td>\n",
       "      <td>19</td>\n",
       "      <td>6</td>\n",
       "      <td>1</td>\n",
       "      <td>11</td>\n",
       "      <td>9</td>\n",
       "      <td>5</td>\n",
       "      <td>1</td>\n",
       "    </tr>\n",
       "    <tr>\n",
       "      <th>4</th>\n",
       "      <td>185580</td>\n",
       "      <td>29</td>\n",
       "      <td>3</td>\n",
       "      <td>67</td>\n",
       "      <td>61</td>\n",
       "      <td>12</td>\n",
       "      <td>3</td>\n",
       "      <td>5</td>\n",
       "      <td>18</td>\n",
       "      <td>7</td>\n",
       "      <td>1</td>\n",
       "      <td>1</td>\n",
       "    </tr>\n",
       "  </tbody>\n",
       "</table>\n",
       "</div>"
      ],
      "text/plain": [
       "   user_id  campaign_id  communication_type  total_links  \\\n",
       "0    14051           42                   3           88   \n",
       "1   134438           52                   3           67   \n",
       "2   181789           33                   4            7   \n",
       "3   231448           44                   5           60   \n",
       "4   185580           29                   3           67   \n",
       "\n",
       "   no_of_internal_links  no_of_images  no_of_sections  day_of_week  hour  day  \\\n",
       "0                    79            13               4            0    19    9   \n",
       "1                    62            10               4            5    12   11   \n",
       "2                     3             1               1            0    15   24   \n",
       "3                    56            19               6            1    11    9   \n",
       "4                    61            12               3            5    18    7   \n",
       "\n",
       "   month  IsWeekend  \n",
       "0      1          1  \n",
       "1      2          1  \n",
       "2      7          1  \n",
       "3      5          1  \n",
       "4      1          1  "
      ]
     },
     "execution_count": 7,
     "metadata": {},
     "output_type": "execute_result"
    },
    {
     "data": {
      "text/plain": [
       "0    0\n",
       "1    0\n",
       "2    0\n",
       "3    0\n",
       "4    0\n",
       "Name: is_click, dtype: int64"
      ]
     },
     "execution_count": 7,
     "metadata": {},
     "output_type": "execute_result"
    }
   ],
   "source": [
    "x = train_merged[feature_cols]\n",
    "y = train_merged.is_click\n",
    "x.head()\n",
    "y.head()"
   ]
  },
  {
   "cell_type": "code",
   "execution_count": 6,
   "metadata": {
    "collapsed": false
   },
   "outputs": [
    {
     "data": {
      "text/html": [
       "<div>\n",
       "<table border=\"1\" class=\"dataframe\">\n",
       "  <thead>\n",
       "    <tr style=\"text-align: right;\">\n",
       "      <th></th>\n",
       "      <th>communication_type</th>\n",
       "      <th>total_links</th>\n",
       "      <th>no_of_internal_links</th>\n",
       "      <th>no_of_images</th>\n",
       "      <th>no_of_sections</th>\n",
       "      <th>day_of_week</th>\n",
       "      <th>hour</th>\n",
       "      <th>day</th>\n",
       "      <th>month</th>\n",
       "      <th>IsWeekend</th>\n",
       "    </tr>\n",
       "  </thead>\n",
       "  <tbody>\n",
       "    <tr>\n",
       "      <th>0</th>\n",
       "      <td>0.370532</td>\n",
       "      <td>0.427526</td>\n",
       "      <td>0.359969</td>\n",
       "      <td>0.628424</td>\n",
       "      <td>0.795973</td>\n",
       "      <td>-1.694876</td>\n",
       "      <td>0.665775</td>\n",
       "      <td>-0.556001</td>\n",
       "      <td>-1.091076</td>\n",
       "      <td>0.535918</td>\n",
       "    </tr>\n",
       "    <tr>\n",
       "      <th>1</th>\n",
       "      <td>0.370532</td>\n",
       "      <td>-0.016091</td>\n",
       "      <td>-0.009085</td>\n",
       "      <td>0.010564</td>\n",
       "      <td>0.795973</td>\n",
       "      <td>0.785045</td>\n",
       "      <td>-1.089739</td>\n",
       "      <td>-0.245041</td>\n",
       "      <td>-0.740702</td>\n",
       "      <td>0.535918</td>\n",
       "    </tr>\n",
       "    <tr>\n",
       "      <th>2</th>\n",
       "      <td>0.930090</td>\n",
       "      <td>-1.283568</td>\n",
       "      <td>-1.289920</td>\n",
       "      <td>-1.843018</td>\n",
       "      <td>-0.980920</td>\n",
       "      <td>-1.694876</td>\n",
       "      <td>-0.337376</td>\n",
       "      <td>1.776202</td>\n",
       "      <td>1.011166</td>\n",
       "      <td>0.535918</td>\n",
       "    </tr>\n",
       "    <tr>\n",
       "      <th>3</th>\n",
       "      <td>1.489648</td>\n",
       "      <td>-0.163964</td>\n",
       "      <td>-0.139340</td>\n",
       "      <td>1.864145</td>\n",
       "      <td>1.980569</td>\n",
       "      <td>-1.198892</td>\n",
       "      <td>-1.340527</td>\n",
       "      <td>-0.556001</td>\n",
       "      <td>0.310419</td>\n",
       "      <td>0.535918</td>\n",
       "    </tr>\n",
       "    <tr>\n",
       "      <th>4</th>\n",
       "      <td>0.370532</td>\n",
       "      <td>-0.016091</td>\n",
       "      <td>-0.030794</td>\n",
       "      <td>0.422471</td>\n",
       "      <td>0.203675</td>\n",
       "      <td>0.785045</td>\n",
       "      <td>0.414987</td>\n",
       "      <td>-0.866961</td>\n",
       "      <td>-1.091076</td>\n",
       "      <td>0.535918</td>\n",
       "    </tr>\n",
       "  </tbody>\n",
       "</table>\n",
       "</div>"
      ],
      "text/plain": [
       "   communication_type  total_links  no_of_internal_links  no_of_images  \\\n",
       "0            0.370532     0.427526              0.359969      0.628424   \n",
       "1            0.370532    -0.016091             -0.009085      0.010564   \n",
       "2            0.930090    -1.283568             -1.289920     -1.843018   \n",
       "3            1.489648    -0.163964             -0.139340      1.864145   \n",
       "4            0.370532    -0.016091             -0.030794      0.422471   \n",
       "\n",
       "   no_of_sections  day_of_week      hour       day     month  IsWeekend  \n",
       "0        0.795973    -1.694876  0.665775 -0.556001 -1.091076   0.535918  \n",
       "1        0.795973     0.785045 -1.089739 -0.245041 -0.740702   0.535918  \n",
       "2       -0.980920    -1.694876 -0.337376  1.776202  1.011166   0.535918  \n",
       "3        1.980569    -1.198892 -1.340527 -0.556001  0.310419   0.535918  \n",
       "4        0.203675     0.785045  0.414987 -0.866961 -1.091076   0.535918  "
      ]
     },
     "execution_count": 6,
     "metadata": {},
     "output_type": "execute_result"
    }
   ],
   "source": [
    "from sklearn.preprocessing import StandardScaler\n",
    "scaler = StandardScaler()\n",
    "scaled = scaler.fit_transform(x)\n",
    "x_scaled = pd.DataFrame(columns=x.columns, data=scaled)\n",
    "x_scaled.head()"
   ]
  },
  {
   "cell_type": "code",
   "execution_count": 8,
   "metadata": {
    "collapsed": false
   },
   "outputs": [
    {
     "data": {
      "text/plain": [
       "(767393, 12)"
      ]
     },
     "execution_count": 8,
     "metadata": {},
     "output_type": "execute_result"
    },
    {
     "data": {
      "text/plain": [
       "(255798, 12)"
      ]
     },
     "execution_count": 8,
     "metadata": {},
     "output_type": "execute_result"
    },
    {
     "data": {
      "text/plain": [
       "(767393,)"
      ]
     },
     "execution_count": 8,
     "metadata": {},
     "output_type": "execute_result"
    },
    {
     "data": {
      "text/plain": [
       "(255798,)"
      ]
     },
     "execution_count": 8,
     "metadata": {},
     "output_type": "execute_result"
    }
   ],
   "source": [
    "from sklearn.model_selection import train_test_split\n",
    "x_train, x_test, y_train, y_test = train_test_split(x, y)\n",
    "x_train.shape\n",
    "x_test.shape\n",
    "y_train.shape\n",
    "y_test.shape"
   ]
  },
  {
   "cell_type": "code",
   "execution_count": 7,
   "metadata": {
    "collapsed": false
   },
   "outputs": [
    {
     "data": {
      "text/html": [
       "<div>\n",
       "<table border=\"1\" class=\"dataframe\">\n",
       "  <thead>\n",
       "    <tr style=\"text-align: right;\">\n",
       "      <th></th>\n",
       "      <th>user_id</th>\n",
       "      <th>campaign_id</th>\n",
       "      <th>communication_type</th>\n",
       "      <th>total_links</th>\n",
       "      <th>no_of_internal_links</th>\n",
       "      <th>no_of_images</th>\n",
       "      <th>no_of_sections</th>\n",
       "      <th>day_of_week</th>\n",
       "      <th>hour</th>\n",
       "      <th>day</th>\n",
       "      <th>month</th>\n",
       "      <th>IsWeekend</th>\n",
       "    </tr>\n",
       "  </thead>\n",
       "  <tbody>\n",
       "    <tr>\n",
       "      <th>0</th>\n",
       "      <td>122715</td>\n",
       "      <td>63</td>\n",
       "      <td>2</td>\n",
       "      <td>68</td>\n",
       "      <td>64</td>\n",
       "      <td>15</td>\n",
       "      <td>5</td>\n",
       "      <td>1</td>\n",
       "      <td>22</td>\n",
       "      <td>2</td>\n",
       "      <td>1</td>\n",
       "      <td>1</td>\n",
       "    </tr>\n",
       "    <tr>\n",
       "      <th>1</th>\n",
       "      <td>76206</td>\n",
       "      <td>56</td>\n",
       "      <td>2</td>\n",
       "      <td>42</td>\n",
       "      <td>38</td>\n",
       "      <td>10</td>\n",
       "      <td>4</td>\n",
       "      <td>3</td>\n",
       "      <td>8</td>\n",
       "      <td>1</td>\n",
       "      <td>2</td>\n",
       "      <td>1</td>\n",
       "    </tr>\n",
       "    <tr>\n",
       "      <th>2</th>\n",
       "      <td>96189</td>\n",
       "      <td>57</td>\n",
       "      <td>3</td>\n",
       "      <td>40</td>\n",
       "      <td>36</td>\n",
       "      <td>15</td>\n",
       "      <td>4</td>\n",
       "      <td>1</td>\n",
       "      <td>18</td>\n",
       "      <td>1</td>\n",
       "      <td>5</td>\n",
       "      <td>1</td>\n",
       "    </tr>\n",
       "    <tr>\n",
       "      <th>3</th>\n",
       "      <td>166917</td>\n",
       "      <td>56</td>\n",
       "      <td>2</td>\n",
       "      <td>42</td>\n",
       "      <td>38</td>\n",
       "      <td>10</td>\n",
       "      <td>4</td>\n",
       "      <td>3</td>\n",
       "      <td>8</td>\n",
       "      <td>1</td>\n",
       "      <td>2</td>\n",
       "      <td>1</td>\n",
       "    </tr>\n",
       "    <tr>\n",
       "      <th>4</th>\n",
       "      <td>172838</td>\n",
       "      <td>56</td>\n",
       "      <td>2</td>\n",
       "      <td>42</td>\n",
       "      <td>38</td>\n",
       "      <td>10</td>\n",
       "      <td>4</td>\n",
       "      <td>3</td>\n",
       "      <td>8</td>\n",
       "      <td>1</td>\n",
       "      <td>2</td>\n",
       "      <td>1</td>\n",
       "    </tr>\n",
       "  </tbody>\n",
       "</table>\n",
       "</div>"
      ],
      "text/plain": [
       "   user_id  campaign_id  communication_type  total_links  \\\n",
       "0   122715           63                   2           68   \n",
       "1    76206           56                   2           42   \n",
       "2    96189           57                   3           40   \n",
       "3   166917           56                   2           42   \n",
       "4   172838           56                   2           42   \n",
       "\n",
       "   no_of_internal_links  no_of_images  no_of_sections  day_of_week  hour  day  \\\n",
       "0                    64            15               5            1    22    2   \n",
       "1                    38            10               4            3     8    1   \n",
       "2                    36            15               4            1    18    1   \n",
       "3                    38            10               4            3     8    1   \n",
       "4                    38            10               4            3     8    1   \n",
       "\n",
       "   month  IsWeekend  \n",
       "0      1          1  \n",
       "1      2          1  \n",
       "2      5          1  \n",
       "3      2          1  \n",
       "4      2          1  "
      ]
     },
     "execution_count": 7,
     "metadata": {},
     "output_type": "execute_result"
    }
   ],
   "source": [
    "test_merged[feature_cols].head()"
   ]
  },
  {
   "cell_type": "code",
   "execution_count": 10,
   "metadata": {
    "collapsed": false
   },
   "outputs": [
    {
     "data": {
      "text/html": [
       "<div>\n",
       "<table border=\"1\" class=\"dataframe\">\n",
       "  <thead>\n",
       "    <tr style=\"text-align: right;\">\n",
       "      <th></th>\n",
       "      <th>communication_type</th>\n",
       "      <th>total_links</th>\n",
       "      <th>no_of_internal_links</th>\n",
       "      <th>no_of_images</th>\n",
       "      <th>no_of_sections</th>\n",
       "      <th>day_of_week</th>\n",
       "      <th>hour</th>\n",
       "      <th>day</th>\n",
       "      <th>month</th>\n",
       "      <th>IsWeekend</th>\n",
       "    </tr>\n",
       "  </thead>\n",
       "  <tbody>\n",
       "    <tr>\n",
       "      <th>0</th>\n",
       "      <td>-0.129635</td>\n",
       "      <td>0.405615</td>\n",
       "      <td>0.448060</td>\n",
       "      <td>0.684008</td>\n",
       "      <td>0.794145</td>\n",
       "      <td>-0.790201</td>\n",
       "      <td>1.331030</td>\n",
       "      <td>-0.436621</td>\n",
       "      <td>-0.987799</td>\n",
       "      <td>0.145226</td>\n",
       "    </tr>\n",
       "    <tr>\n",
       "      <th>1</th>\n",
       "      <td>-0.129635</td>\n",
       "      <td>-0.245307</td>\n",
       "      <td>-0.234024</td>\n",
       "      <td>-0.370742</td>\n",
       "      <td>0.099247</td>\n",
       "      <td>0.446796</td>\n",
       "      <td>-1.888278</td>\n",
       "      <td>-0.608705</td>\n",
       "      <td>-0.628489</td>\n",
       "      <td>0.145226</td>\n",
       "    </tr>\n",
       "    <tr>\n",
       "      <th>2</th>\n",
       "      <td>1.026943</td>\n",
       "      <td>-0.295378</td>\n",
       "      <td>-0.286492</td>\n",
       "      <td>0.684008</td>\n",
       "      <td>0.099247</td>\n",
       "      <td>-0.790201</td>\n",
       "      <td>0.411228</td>\n",
       "      <td>-0.608705</td>\n",
       "      <td>0.449443</td>\n",
       "      <td>0.145226</td>\n",
       "    </tr>\n",
       "    <tr>\n",
       "      <th>3</th>\n",
       "      <td>-0.129635</td>\n",
       "      <td>-0.245307</td>\n",
       "      <td>-0.234024</td>\n",
       "      <td>-0.370742</td>\n",
       "      <td>0.099247</td>\n",
       "      <td>0.446796</td>\n",
       "      <td>-1.888278</td>\n",
       "      <td>-0.608705</td>\n",
       "      <td>-0.628489</td>\n",
       "      <td>0.145226</td>\n",
       "    </tr>\n",
       "    <tr>\n",
       "      <th>4</th>\n",
       "      <td>-0.129635</td>\n",
       "      <td>-0.245307</td>\n",
       "      <td>-0.234024</td>\n",
       "      <td>-0.370742</td>\n",
       "      <td>0.099247</td>\n",
       "      <td>0.446796</td>\n",
       "      <td>-1.888278</td>\n",
       "      <td>-0.608705</td>\n",
       "      <td>-0.628489</td>\n",
       "      <td>0.145226</td>\n",
       "    </tr>\n",
       "  </tbody>\n",
       "</table>\n",
       "</div>"
      ],
      "text/plain": [
       "   communication_type  total_links  no_of_internal_links  no_of_images  \\\n",
       "0           -0.129635     0.405615              0.448060      0.684008   \n",
       "1           -0.129635    -0.245307             -0.234024     -0.370742   \n",
       "2            1.026943    -0.295378             -0.286492      0.684008   \n",
       "3           -0.129635    -0.245307             -0.234024     -0.370742   \n",
       "4           -0.129635    -0.245307             -0.234024     -0.370742   \n",
       "\n",
       "   no_of_sections  day_of_week      hour       day     month  IsWeekend  \n",
       "0        0.794145    -0.790201  1.331030 -0.436621 -0.987799   0.145226  \n",
       "1        0.099247     0.446796 -1.888278 -0.608705 -0.628489   0.145226  \n",
       "2        0.099247    -0.790201  0.411228 -0.608705  0.449443   0.145226  \n",
       "3        0.099247     0.446796 -1.888278 -0.608705 -0.628489   0.145226  \n",
       "4        0.099247     0.446796 -1.888278 -0.608705 -0.628489   0.145226  "
      ]
     },
     "execution_count": 10,
     "metadata": {},
     "output_type": "execute_result"
    }
   ],
   "source": [
    "test_scaled = pd.DataFrame(columns=feature_cols, data=scaler.fit_transform(test_merged[feature_cols]))\n",
    "test_scaled.head()"
   ]
  },
  {
   "cell_type": "code",
   "execution_count": null,
   "metadata": {
    "collapsed": true
   },
   "outputs": [],
   "source": [
    "from sklearn.model_selection import GridSearchCV\n",
    "dtc = DecisionTreeClassifier()\n",
    "criterion = ['gini','entropy']\n",
    "depth = np.array(np.arange(1,11))\n",
    "state = np.array(list(range(25)))\n",
    "params = {'criterion':criterion, 'max_depth':depth, 'random_state':state}\n",
    "grid = GridSearchCV(dtc, params, cv=10, scoring='roc_auc', refit=True)\n",
    "grid.fit(x_train,y_train)\n",
    "print('Best roc_auc: {:.4}, with best{}'.format(grid.best_score_, grid.best_params_))\n",
    "dtc_pred = grid.predict_proba(x_test)\n",
    "metrics.roc_auc_score(y_test, dtfc_pred[:,1])"
   ]
  },
  {
   "cell_type": "code",
   "execution_count": 9,
   "metadata": {
    "collapsed": false
   },
   "outputs": [
    {
     "data": {
      "text/plain": [
       "0.7317697617782175"
      ]
     },
     "execution_count": 9,
     "metadata": {},
     "output_type": "execute_result"
    },
    {
     "data": {
      "text/plain": [
       "BalancedBaggingClassifier(base_estimator=DecisionTreeClassifier(class_weight=None, criterion='gini', max_depth=None,\n",
       "            max_features=None, max_leaf_nodes=None,\n",
       "            min_impurity_decrease=0.0, min_impurity_split=None,\n",
       "            min_samples_leaf=1, min_samples_split=2,\n",
       "            min_weight_fraction_leaf=0.0, presort=False, random_state=None,\n",
       "            splitter='best'),\n",
       "             bootstrap=True, bootstrap_features=False, max_features=1.0,\n",
       "             max_samples=1.0, n_estimators=10, n_jobs=1, oob_score=False,\n",
       "             random_state=0, ratio='auto', replacement=False, verbose=0,\n",
       "             warm_start=False)"
      ]
     },
     "execution_count": 9,
     "metadata": {},
     "output_type": "execute_result"
    },
    {
     "data": {
      "text/plain": [
       "0.5504507448298532"
      ]
     },
     "execution_count": 9,
     "metadata": {},
     "output_type": "execute_result"
    }
   ],
   "source": [
    "from imblearn.ensemble import BalancedBaggingClassifier\n",
    "from sklearn.tree import DecisionTreeClassifier\n",
    "from sklearn.model_selection import cross_val_score\n",
    "from sklearn import metrics\n",
    "bbc = BalancedBaggingClassifier(base_estimator=DecisionTreeClassifier(),\n",
    "                                ratio='auto',\n",
    "                                replacement=False,\n",
    "                                random_state=0)\n",
    "bbc_score = cross_val_score(bbc, x_train, y_train, cv=10, scoring='accuracy')\n",
    "bbc_score.mean()\n",
    "bbc.fit(x_train, y_train)\n",
    "y_pred_prob = bbc.predict_proba(x_test)\n",
    "metrics.roc_auc_score(y_test,y_pred_prob[:,1])"
   ]
  },
  {
   "cell_type": "code",
   "execution_count": 10,
   "metadata": {
    "collapsed": false
   },
   "outputs": [
    {
     "data": {
      "text/html": [
       "<div>\n",
       "<table border=\"1\" class=\"dataframe\">\n",
       "  <thead>\n",
       "    <tr style=\"text-align: right;\">\n",
       "      <th></th>\n",
       "      <th>id</th>\n",
       "      <th>is_click</th>\n",
       "    </tr>\n",
       "  </thead>\n",
       "  <tbody>\n",
       "    <tr>\n",
       "      <th>0</th>\n",
       "      <td>63_122715</td>\n",
       "      <td>0.4</td>\n",
       "    </tr>\n",
       "    <tr>\n",
       "      <th>1</th>\n",
       "      <td>56_76206</td>\n",
       "      <td>0.6</td>\n",
       "    </tr>\n",
       "    <tr>\n",
       "      <th>2</th>\n",
       "      <td>57_96189</td>\n",
       "      <td>0.8</td>\n",
       "    </tr>\n",
       "    <tr>\n",
       "      <th>3</th>\n",
       "      <td>56_166917</td>\n",
       "      <td>0.6</td>\n",
       "    </tr>\n",
       "    <tr>\n",
       "      <th>4</th>\n",
       "      <td>56_172838</td>\n",
       "      <td>0.9</td>\n",
       "    </tr>\n",
       "  </tbody>\n",
       "</table>\n",
       "</div>"
      ],
      "text/plain": [
       "          id  is_click\n",
       "0  63_122715       0.4\n",
       "1   56_76206       0.6\n",
       "2   57_96189       0.8\n",
       "3  56_166917       0.6\n",
       "4  56_172838       0.9"
      ]
     },
     "execution_count": 10,
     "metadata": {},
     "output_type": "execute_result"
    }
   ],
   "source": [
    "sub_pred = bbc.predict_proba(test_merged[feature_cols])\n",
    "sample['is_click'] = sub_pred\n",
    "sample.head()\n",
    "sample.to_csv('sample_submission.csv', index=False)"
   ]
  },
  {
   "cell_type": "code",
   "execution_count": 17,
   "metadata": {
    "collapsed": false
   },
   "outputs": [
    {
     "ename": "JoblibValueError",
     "evalue": "JoblibValueError\n___________________________________________________________________________\nMultiprocessing exception:\n...........................................................................\nC:\\ProgramData\\Anaconda3\\lib\\runpy.py in _run_module_as_main(mod_name='ipykernel.__main__', alter_argv=1)\n    188         sys.exit(msg)\n    189     main_globals = sys.modules[\"__main__\"].__dict__\n    190     if alter_argv:\n    191         sys.argv[0] = mod_spec.origin\n    192     return _run_code(code, main_globals, None,\n--> 193                      \"__main__\", mod_spec)\n        mod_spec = ModuleSpec(name='ipykernel.__main__', loader=<_f...da3\\\\lib\\\\site-packages\\\\ipykernel\\\\__main__.py')\n    194 \n    195 def run_module(mod_name, init_globals=None,\n    196                run_name=None, alter_sys=False):\n    197     \"\"\"Execute a module's code without importing it\n\n...........................................................................\nC:\\ProgramData\\Anaconda3\\lib\\runpy.py in _run_code(code=<code object <module> at 0x000001EEA3938C90, fil...lib\\site-packages\\ipykernel\\__main__.py\", line 1>, run_globals={'__annotations__': {}, '__builtins__': <module 'builtins' (built-in)>, '__cached__': r'C:\\ProgramData\\Anaconda3\\lib\\site-packages\\ipykernel\\__pycache__\\__main__.cpython-36.pyc', '__doc__': None, '__file__': r'C:\\ProgramData\\Anaconda3\\lib\\site-packages\\ipykernel\\__main__.py', '__loader__': <_frozen_importlib_external.SourceFileLoader object>, '__name__': '__main__', '__package__': 'ipykernel', '__spec__': ModuleSpec(name='ipykernel.__main__', loader=<_f...da3\\\\lib\\\\site-packages\\\\ipykernel\\\\__main__.py'), 'app': <module 'ipykernel.kernelapp' from 'C:\\\\ProgramD...a3\\\\lib\\\\site-packages\\\\ipykernel\\\\kernelapp.py'>}, init_globals=None, mod_name='__main__', mod_spec=ModuleSpec(name='ipykernel.__main__', loader=<_f...da3\\\\lib\\\\site-packages\\\\ipykernel\\\\__main__.py'), pkg_name='ipykernel', script_name=None)\n     80                        __cached__ = cached,\n     81                        __doc__ = None,\n     82                        __loader__ = loader,\n     83                        __package__ = pkg_name,\n     84                        __spec__ = mod_spec)\n---> 85     exec(code, run_globals)\n        code = <code object <module> at 0x000001EEA3938C90, fil...lib\\site-packages\\ipykernel\\__main__.py\", line 1>\n        run_globals = {'__annotations__': {}, '__builtins__': <module 'builtins' (built-in)>, '__cached__': r'C:\\ProgramData\\Anaconda3\\lib\\site-packages\\ipykernel\\__pycache__\\__main__.cpython-36.pyc', '__doc__': None, '__file__': r'C:\\ProgramData\\Anaconda3\\lib\\site-packages\\ipykernel\\__main__.py', '__loader__': <_frozen_importlib_external.SourceFileLoader object>, '__name__': '__main__', '__package__': 'ipykernel', '__spec__': ModuleSpec(name='ipykernel.__main__', loader=<_f...da3\\\\lib\\\\site-packages\\\\ipykernel\\\\__main__.py'), 'app': <module 'ipykernel.kernelapp' from 'C:\\\\ProgramD...a3\\\\lib\\\\site-packages\\\\ipykernel\\\\kernelapp.py'>}\n     86     return run_globals\n     87 \n     88 def _run_module_code(code, init_globals=None,\n     89                     mod_name=None, mod_spec=None,\n\n...........................................................................\nC:\\ProgramData\\Anaconda3\\lib\\site-packages\\ipykernel\\__main__.py in <module>()\n      1 if __name__ == '__main__':\n      2     from ipykernel import kernelapp as app\n----> 3     app.launch_new_instance()\n\n...........................................................................\nC:\\ProgramData\\Anaconda3\\lib\\site-packages\\traitlets\\config\\application.py in launch_instance(cls=<class 'ipykernel.kernelapp.IPKernelApp'>, argv=None, **kwargs={})\n    653 \n    654         If a global instance already exists, this reinitializes and starts it\n    655         \"\"\"\n    656         app = cls.instance(**kwargs)\n    657         app.initialize(argv)\n--> 658         app.start()\n        app.start = <bound method IPKernelApp.start of <ipykernel.kernelapp.IPKernelApp object>>\n    659 \n    660 #-----------------------------------------------------------------------------\n    661 # utility functions, for convenience\n    662 #-----------------------------------------------------------------------------\n\n...........................................................................\nC:\\ProgramData\\Anaconda3\\lib\\site-packages\\ipykernel\\kernelapp.py in start(self=<ipykernel.kernelapp.IPKernelApp object>)\n    469             return self.subapp.start()\n    470         if self.poller is not None:\n    471             self.poller.start()\n    472         self.kernel.start()\n    473         try:\n--> 474             ioloop.IOLoop.instance().start()\n    475         except KeyboardInterrupt:\n    476             pass\n    477 \n    478 launch_new_instance = IPKernelApp.launch_instance\n\n...........................................................................\nC:\\ProgramData\\Anaconda3\\lib\\site-packages\\zmq\\eventloop\\ioloop.py in start(self=<zmq.eventloop.ioloop.ZMQIOLoop object>)\n    172             )\n    173         return loop\n    174     \n    175     def start(self):\n    176         try:\n--> 177             super(ZMQIOLoop, self).start()\n        self.start = <bound method ZMQIOLoop.start of <zmq.eventloop.ioloop.ZMQIOLoop object>>\n    178         except ZMQError as e:\n    179             if e.errno == ETERM:\n    180                 # quietly return on ETERM\n    181                 pass\n\n...........................................................................\nC:\\ProgramData\\Anaconda3\\lib\\site-packages\\tornado\\ioloop.py in start(self=<zmq.eventloop.ioloop.ZMQIOLoop object>)\n    882                 self._events.update(event_pairs)\n    883                 while self._events:\n    884                     fd, events = self._events.popitem()\n    885                     try:\n    886                         fd_obj, handler_func = self._handlers[fd]\n--> 887                         handler_func(fd_obj, events)\n        handler_func = <function wrap.<locals>.null_wrapper>\n        fd_obj = <zmq.sugar.socket.Socket object>\n        events = 1\n    888                     except (OSError, IOError) as e:\n    889                         if errno_from_exception(e) == errno.EPIPE:\n    890                             # Happens when the client closes the connection\n    891                             pass\n\n...........................................................................\nC:\\ProgramData\\Anaconda3\\lib\\site-packages\\tornado\\stack_context.py in null_wrapper(*args=(<zmq.sugar.socket.Socket object>, 1), **kwargs={})\n    270         # Fast path when there are no active contexts.\n    271         def null_wrapper(*args, **kwargs):\n    272             try:\n    273                 current_state = _state.contexts\n    274                 _state.contexts = cap_contexts[0]\n--> 275                 return fn(*args, **kwargs)\n        args = (<zmq.sugar.socket.Socket object>, 1)\n        kwargs = {}\n    276             finally:\n    277                 _state.contexts = current_state\n    278         null_wrapper._wrapped = True\n    279         return null_wrapper\n\n...........................................................................\nC:\\ProgramData\\Anaconda3\\lib\\site-packages\\zmq\\eventloop\\zmqstream.py in _handle_events(self=<zmq.eventloop.zmqstream.ZMQStream object>, fd=<zmq.sugar.socket.Socket object>, events=1)\n    435             # dispatch events:\n    436             if events & IOLoop.ERROR:\n    437                 gen_log.error(\"got POLLERR event on ZMQStream, which doesn't make sense\")\n    438                 return\n    439             if events & IOLoop.READ:\n--> 440                 self._handle_recv()\n        self._handle_recv = <bound method ZMQStream._handle_recv of <zmq.eventloop.zmqstream.ZMQStream object>>\n    441                 if not self.socket:\n    442                     return\n    443             if events & IOLoop.WRITE:\n    444                 self._handle_send()\n\n...........................................................................\nC:\\ProgramData\\Anaconda3\\lib\\site-packages\\zmq\\eventloop\\zmqstream.py in _handle_recv(self=<zmq.eventloop.zmqstream.ZMQStream object>)\n    467                 gen_log.error(\"RECV Error: %s\"%zmq.strerror(e.errno))\n    468         else:\n    469             if self._recv_callback:\n    470                 callback = self._recv_callback\n    471                 # self._recv_callback = None\n--> 472                 self._run_callback(callback, msg)\n        self._run_callback = <bound method ZMQStream._run_callback of <zmq.eventloop.zmqstream.ZMQStream object>>\n        callback = <function wrap.<locals>.null_wrapper>\n        msg = [<zmq.sugar.frame.Frame object>, <zmq.sugar.frame.Frame object>, <zmq.sugar.frame.Frame object>, <zmq.sugar.frame.Frame object>, <zmq.sugar.frame.Frame object>, <zmq.sugar.frame.Frame object>, <zmq.sugar.frame.Frame object>]\n    473                 \n    474         # self.update_state()\n    475         \n    476 \n\n...........................................................................\nC:\\ProgramData\\Anaconda3\\lib\\site-packages\\zmq\\eventloop\\zmqstream.py in _run_callback(self=<zmq.eventloop.zmqstream.ZMQStream object>, callback=<function wrap.<locals>.null_wrapper>, *args=([<zmq.sugar.frame.Frame object>, <zmq.sugar.frame.Frame object>, <zmq.sugar.frame.Frame object>, <zmq.sugar.frame.Frame object>, <zmq.sugar.frame.Frame object>, <zmq.sugar.frame.Frame object>, <zmq.sugar.frame.Frame object>],), **kwargs={})\n    409         close our socket.\"\"\"\n    410         try:\n    411             # Use a NullContext to ensure that all StackContexts are run\n    412             # inside our blanket exception handler rather than outside.\n    413             with stack_context.NullContext():\n--> 414                 callback(*args, **kwargs)\n        callback = <function wrap.<locals>.null_wrapper>\n        args = ([<zmq.sugar.frame.Frame object>, <zmq.sugar.frame.Frame object>, <zmq.sugar.frame.Frame object>, <zmq.sugar.frame.Frame object>, <zmq.sugar.frame.Frame object>, <zmq.sugar.frame.Frame object>, <zmq.sugar.frame.Frame object>],)\n        kwargs = {}\n    415         except:\n    416             gen_log.error(\"Uncaught exception, closing connection.\",\n    417                           exc_info=True)\n    418             # Close the socket on an uncaught exception from a user callback\n\n...........................................................................\nC:\\ProgramData\\Anaconda3\\lib\\site-packages\\tornado\\stack_context.py in null_wrapper(*args=([<zmq.sugar.frame.Frame object>, <zmq.sugar.frame.Frame object>, <zmq.sugar.frame.Frame object>, <zmq.sugar.frame.Frame object>, <zmq.sugar.frame.Frame object>, <zmq.sugar.frame.Frame object>, <zmq.sugar.frame.Frame object>],), **kwargs={})\n    270         # Fast path when there are no active contexts.\n    271         def null_wrapper(*args, **kwargs):\n    272             try:\n    273                 current_state = _state.contexts\n    274                 _state.contexts = cap_contexts[0]\n--> 275                 return fn(*args, **kwargs)\n        args = ([<zmq.sugar.frame.Frame object>, <zmq.sugar.frame.Frame object>, <zmq.sugar.frame.Frame object>, <zmq.sugar.frame.Frame object>, <zmq.sugar.frame.Frame object>, <zmq.sugar.frame.Frame object>, <zmq.sugar.frame.Frame object>],)\n        kwargs = {}\n    276             finally:\n    277                 _state.contexts = current_state\n    278         null_wrapper._wrapped = True\n    279         return null_wrapper\n\n...........................................................................\nC:\\ProgramData\\Anaconda3\\lib\\site-packages\\ipykernel\\kernelbase.py in dispatcher(msg=[<zmq.sugar.frame.Frame object>, <zmq.sugar.frame.Frame object>, <zmq.sugar.frame.Frame object>, <zmq.sugar.frame.Frame object>, <zmq.sugar.frame.Frame object>, <zmq.sugar.frame.Frame object>, <zmq.sugar.frame.Frame object>])\n    271         if self.control_stream:\n    272             self.control_stream.on_recv(self.dispatch_control, copy=False)\n    273 \n    274         def make_dispatcher(stream):\n    275             def dispatcher(msg):\n--> 276                 return self.dispatch_shell(stream, msg)\n        msg = [<zmq.sugar.frame.Frame object>, <zmq.sugar.frame.Frame object>, <zmq.sugar.frame.Frame object>, <zmq.sugar.frame.Frame object>, <zmq.sugar.frame.Frame object>, <zmq.sugar.frame.Frame object>, <zmq.sugar.frame.Frame object>]\n    277             return dispatcher\n    278 \n    279         for s in self.shell_streams:\n    280             s.on_recv(make_dispatcher(s), copy=False)\n\n...........................................................................\nC:\\ProgramData\\Anaconda3\\lib\\site-packages\\ipykernel\\kernelbase.py in dispatch_shell(self=<ipykernel.ipkernel.IPythonKernel object>, stream=<zmq.eventloop.zmqstream.ZMQStream object>, msg={'buffers': [], 'content': {'allow_stdin': True, 'code': 'from sklearn.model_selection import GridSearchCV...t(x_test)\\nmetrics.roc_auc_score(y_test, bbc_pred)', 'silent': False, 'stop_on_error': True, 'store_history': True, 'user_expressions': {}}, 'header': {'date': '2018-04-01T16:39:51.533156', 'msg_id': '4EA6F8CCAB2E417B96C1E461E5821DDF', 'msg_type': 'execute_request', 'session': '3642CF3DA4A84ACB84E8A5CD268B91EE', 'username': 'username', 'version': '5.0'}, 'metadata': {}, 'msg_id': '4EA6F8CCAB2E417B96C1E461E5821DDF', 'msg_type': 'execute_request', 'parent_header': {}})\n    223             self.log.error(\"UNKNOWN MESSAGE TYPE: %r\", msg_type)\n    224         else:\n    225             self.log.debug(\"%s: %s\", msg_type, msg)\n    226             self.pre_handler_hook()\n    227             try:\n--> 228                 handler(stream, idents, msg)\n        handler = <bound method Kernel.execute_request of <ipykernel.ipkernel.IPythonKernel object>>\n        stream = <zmq.eventloop.zmqstream.ZMQStream object>\n        idents = [b'3642CF3DA4A84ACB84E8A5CD268B91EE']\n        msg = {'buffers': [], 'content': {'allow_stdin': True, 'code': 'from sklearn.model_selection import GridSearchCV...t(x_test)\\nmetrics.roc_auc_score(y_test, bbc_pred)', 'silent': False, 'stop_on_error': True, 'store_history': True, 'user_expressions': {}}, 'header': {'date': '2018-04-01T16:39:51.533156', 'msg_id': '4EA6F8CCAB2E417B96C1E461E5821DDF', 'msg_type': 'execute_request', 'session': '3642CF3DA4A84ACB84E8A5CD268B91EE', 'username': 'username', 'version': '5.0'}, 'metadata': {}, 'msg_id': '4EA6F8CCAB2E417B96C1E461E5821DDF', 'msg_type': 'execute_request', 'parent_header': {}}\n    229             except Exception:\n    230                 self.log.error(\"Exception in message handler:\", exc_info=True)\n    231             finally:\n    232                 self.post_handler_hook()\n\n...........................................................................\nC:\\ProgramData\\Anaconda3\\lib\\site-packages\\ipykernel\\kernelbase.py in execute_request(self=<ipykernel.ipkernel.IPythonKernel object>, stream=<zmq.eventloop.zmqstream.ZMQStream object>, ident=[b'3642CF3DA4A84ACB84E8A5CD268B91EE'], parent={'buffers': [], 'content': {'allow_stdin': True, 'code': 'from sklearn.model_selection import GridSearchCV...t(x_test)\\nmetrics.roc_auc_score(y_test, bbc_pred)', 'silent': False, 'stop_on_error': True, 'store_history': True, 'user_expressions': {}}, 'header': {'date': '2018-04-01T16:39:51.533156', 'msg_id': '4EA6F8CCAB2E417B96C1E461E5821DDF', 'msg_type': 'execute_request', 'session': '3642CF3DA4A84ACB84E8A5CD268B91EE', 'username': 'username', 'version': '5.0'}, 'metadata': {}, 'msg_id': '4EA6F8CCAB2E417B96C1E461E5821DDF', 'msg_type': 'execute_request', 'parent_header': {}})\n    385         if not silent:\n    386             self.execution_count += 1\n    387             self._publish_execute_input(code, parent, self.execution_count)\n    388 \n    389         reply_content = self.do_execute(code, silent, store_history,\n--> 390                                         user_expressions, allow_stdin)\n        user_expressions = {}\n        allow_stdin = True\n    391 \n    392         # Flush output before sending the reply.\n    393         sys.stdout.flush()\n    394         sys.stderr.flush()\n\n...........................................................................\nC:\\ProgramData\\Anaconda3\\lib\\site-packages\\ipykernel\\ipkernel.py in do_execute(self=<ipykernel.ipkernel.IPythonKernel object>, code='from sklearn.model_selection import GridSearchCV...t(x_test)\\nmetrics.roc_auc_score(y_test, bbc_pred)', silent=False, store_history=True, user_expressions={}, allow_stdin=True)\n    191 \n    192         self._forward_input(allow_stdin)\n    193 \n    194         reply_content = {}\n    195         try:\n--> 196             res = shell.run_cell(code, store_history=store_history, silent=silent)\n        res = undefined\n        shell.run_cell = <bound method ZMQInteractiveShell.run_cell of <ipykernel.zmqshell.ZMQInteractiveShell object>>\n        code = 'from sklearn.model_selection import GridSearchCV...t(x_test)\\nmetrics.roc_auc_score(y_test, bbc_pred)'\n        store_history = True\n        silent = False\n    197         finally:\n    198             self._restore_input()\n    199 \n    200         if res.error_before_exec is not None:\n\n...........................................................................\nC:\\ProgramData\\Anaconda3\\lib\\site-packages\\ipykernel\\zmqshell.py in run_cell(self=<ipykernel.zmqshell.ZMQInteractiveShell object>, *args=('from sklearn.model_selection import GridSearchCV...t(x_test)\\nmetrics.roc_auc_score(y_test, bbc_pred)',), **kwargs={'silent': False, 'store_history': True})\n    496             )\n    497         self.payload_manager.write_payload(payload)\n    498 \n    499     def run_cell(self, *args, **kwargs):\n    500         self._last_traceback = None\n--> 501         return super(ZMQInteractiveShell, self).run_cell(*args, **kwargs)\n        self.run_cell = <bound method ZMQInteractiveShell.run_cell of <ipykernel.zmqshell.ZMQInteractiveShell object>>\n        args = ('from sklearn.model_selection import GridSearchCV...t(x_test)\\nmetrics.roc_auc_score(y_test, bbc_pred)',)\n        kwargs = {'silent': False, 'store_history': True}\n    502 \n    503     def _showtraceback(self, etype, evalue, stb):\n    504         # try to preserve ordering of tracebacks and print statements\n    505         sys.stdout.flush()\n\n...........................................................................\nC:\\ProgramData\\Anaconda3\\lib\\site-packages\\IPython\\core\\interactiveshell.py in run_cell(self=<ipykernel.zmqshell.ZMQInteractiveShell object>, raw_cell='from sklearn.model_selection import GridSearchCV...t(x_test)\\nmetrics.roc_auc_score(y_test, bbc_pred)', store_history=True, silent=False, shell_futures=True)\n   2712                 self.displayhook.exec_result = result\n   2713 \n   2714                 # Execute the user code\n   2715                 interactivity = \"none\" if silent else self.ast_node_interactivity\n   2716                 has_raised = self.run_ast_nodes(code_ast.body, cell_name,\n-> 2717                    interactivity=interactivity, compiler=compiler, result=result)\n        interactivity = 'all'\n        compiler = <IPython.core.compilerop.CachingCompiler object>\n   2718                 \n   2719                 self.last_execution_succeeded = not has_raised\n   2720 \n   2721                 # Reset this so later displayed values do not modify the\n\n...........................................................................\nC:\\ProgramData\\Anaconda3\\lib\\site-packages\\IPython\\core\\interactiveshell.py in run_ast_nodes(self=<ipykernel.zmqshell.ZMQInteractiveShell object>, nodelist=[<_ast.ImportFrom object>, <_ast.Assign object>, <_ast.Assign object>, <_ast.Expr object>, <_ast.Expr object>, <_ast.Assign object>, <_ast.Expr object>], cell_name='<ipython-input-17-93531f87d60f>', interactivity='all', compiler=<IPython.core.compilerop.CachingCompiler object>, result=<ExecutionResult object at 1ee801625c0, executio..._before_exec=None error_in_exec=None result=None>)\n   2822                     return True\n   2823 \n   2824             for i, node in enumerate(to_run_interactive):\n   2825                 mod = ast.Interactive([node])\n   2826                 code = compiler(mod, cell_name, \"single\")\n-> 2827                 if self.run_code(code, result):\n        self.run_code = <bound method InteractiveShell.run_code of <ipykernel.zmqshell.ZMQInteractiveShell object>>\n        code = <code object <module> at 0x000001EE80170420, file \"<ipython-input-17-93531f87d60f>\", line 7>\n        result = <ExecutionResult object at 1ee801625c0, executio..._before_exec=None error_in_exec=None result=None>\n   2828                     return True\n   2829 \n   2830             # Flush softspace\n   2831             if softspace(sys.stdout, 0):\n\n...........................................................................\nC:\\ProgramData\\Anaconda3\\lib\\site-packages\\IPython\\core\\interactiveshell.py in run_code(self=<ipykernel.zmqshell.ZMQInteractiveShell object>, code_obj=<code object <module> at 0x000001EE80170420, file \"<ipython-input-17-93531f87d60f>\", line 7>, result=<ExecutionResult object at 1ee801625c0, executio..._before_exec=None error_in_exec=None result=None>)\n   2876         outflag = 1  # happens in more places, so it's easier as default\n   2877         try:\n   2878             try:\n   2879                 self.hooks.pre_run_code_hook()\n   2880                 #rprint('Running code', repr(code_obj)) # dbg\n-> 2881                 exec(code_obj, self.user_global_ns, self.user_ns)\n        code_obj = <code object <module> at 0x000001EE80170420, file \"<ipython-input-17-93531f87d60f>\", line 7>\n        self.user_global_ns = {'BalancedBaggingClassifier': <class 'imblearn.ensemble.classifier.BalancedBaggingClassifier'>, 'DecisionTreeClassifier': <class 'sklearn.tree.tree.DecisionTreeClassifier'>, 'GridSearchCV': <class 'sklearn.model_selection._search.GridSearchCV'>, 'In': ['', \"#Import basic necessary datasets\\nimport pandas a...s\\nInteractiveShell.ast_node_interactivity = 'all'\", '#Read the datasets provided and view the data\\nca...test.shape\\ntest.head()\\nsample.shape\\nsample.head()', \"train_merged = pd.read_csv('train_merged.csv')\\ntest_merged = pd.read_csv('test_merged.csv')\", \"feature_cols = train_merged.columns.drop(['id', ..., 'email_url','is_open','is_click'])\\nfeature_cols\", 'x = train_merged[feature_cols]\\ny = train_merged.is_click\\nx.head()\\ny.head()', 'from sklearn.model_selection import train_test_s...ain.shape\\nx_test.shape\\ny_train.shape\\ny_test.shape', 'test_merged[feature_cols].head()', 'from imblearn.ensemble import BalancedBaggingCla...dict(x_test)\\nmetrics.roc_auc_score(y_test,y_pred)', \"sample['is_click'] = test_pred\\nsample.head()\\nsample.to_csv('sample_submission.csv', index=False)\", 'test_pred = bbc.predict(test_merged[feature_cols])\\ntest_pred.max()', \"sample['is_click'] = test_pred\\nsample.head()\\nsample.to_csv('sample_submission.csv', index=False)\", 'from sklearn.model_selection import GridSearchCV...t(x_test)\\nmetrics.roc_auc_score(y_test, bbc_pred)', 'from sklearn.model_selection import GridSearchCV...t(x_test)\\nmetrics.roc_auc_score(y_test, bbc_pred)', 'from sklearn.model_selection import GridSearchCV...t(x_test)\\nmetrics.roc_auc_score(y_test, bbc_pred)', 'from sklearn.model_selection import GridSearchCV...t(x_test)\\nmetrics.roc_auc_score(y_test, bbc_pred)', 'from sklearn.model_selection import GridSearchCV...t(x_test)\\nmetrics.roc_auc_score(y_test, bbc_pred)', 'from sklearn.model_selection import GridSearchCV...t(x_test)\\nmetrics.roc_auc_score(y_test, bbc_pred)'], 'InteractiveShell': <class 'IPython.core.interactiveshell.InteractiveShell'>, 'Out': {2:           id  is_click\n0  63_122715         0\n1 ...  0\n3  56_166917         0\n4  56_172838         0, 4: Index(['user_id', 'campaign_id', 'communication_...ay', 'month', 'IsWeekend'],\n      dtype='object'), 5: 0    0\n1    0\n2    0\n3    0\n4    0\nName: is_click, dtype: int64, 6: (255798,), 7:    user_id  campaign_id  communication_type  tot...  1  \n3      2          1  \n4      2          1  , 8: 0.53566203607152, 10: 1, 11:           id  is_click\n0  63_122715         0\n1 ...  0\n3  56_166917         0\n4  56_172838         0}, '_':           id  is_click\n0  63_122715         0\n1 ...  0\n3  56_166917         0\n4  56_172838         0, '_10': 1, '_11':           id  is_click\n0  63_122715         0\n1 ...  0\n3  56_166917         0\n4  56_172838         0, '_2':           id  is_click\n0  63_122715         0\n1 ...  0\n3  56_166917         0\n4  56_172838         0, ...}\n        self.user_ns = {'BalancedBaggingClassifier': <class 'imblearn.ensemble.classifier.BalancedBaggingClassifier'>, 'DecisionTreeClassifier': <class 'sklearn.tree.tree.DecisionTreeClassifier'>, 'GridSearchCV': <class 'sklearn.model_selection._search.GridSearchCV'>, 'In': ['', \"#Import basic necessary datasets\\nimport pandas a...s\\nInteractiveShell.ast_node_interactivity = 'all'\", '#Read the datasets provided and view the data\\nca...test.shape\\ntest.head()\\nsample.shape\\nsample.head()', \"train_merged = pd.read_csv('train_merged.csv')\\ntest_merged = pd.read_csv('test_merged.csv')\", \"feature_cols = train_merged.columns.drop(['id', ..., 'email_url','is_open','is_click'])\\nfeature_cols\", 'x = train_merged[feature_cols]\\ny = train_merged.is_click\\nx.head()\\ny.head()', 'from sklearn.model_selection import train_test_s...ain.shape\\nx_test.shape\\ny_train.shape\\ny_test.shape', 'test_merged[feature_cols].head()', 'from imblearn.ensemble import BalancedBaggingCla...dict(x_test)\\nmetrics.roc_auc_score(y_test,y_pred)', \"sample['is_click'] = test_pred\\nsample.head()\\nsample.to_csv('sample_submission.csv', index=False)\", 'test_pred = bbc.predict(test_merged[feature_cols])\\ntest_pred.max()', \"sample['is_click'] = test_pred\\nsample.head()\\nsample.to_csv('sample_submission.csv', index=False)\", 'from sklearn.model_selection import GridSearchCV...t(x_test)\\nmetrics.roc_auc_score(y_test, bbc_pred)', 'from sklearn.model_selection import GridSearchCV...t(x_test)\\nmetrics.roc_auc_score(y_test, bbc_pred)', 'from sklearn.model_selection import GridSearchCV...t(x_test)\\nmetrics.roc_auc_score(y_test, bbc_pred)', 'from sklearn.model_selection import GridSearchCV...t(x_test)\\nmetrics.roc_auc_score(y_test, bbc_pred)', 'from sklearn.model_selection import GridSearchCV...t(x_test)\\nmetrics.roc_auc_score(y_test, bbc_pred)', 'from sklearn.model_selection import GridSearchCV...t(x_test)\\nmetrics.roc_auc_score(y_test, bbc_pred)'], 'InteractiveShell': <class 'IPython.core.interactiveshell.InteractiveShell'>, 'Out': {2:           id  is_click\n0  63_122715         0\n1 ...  0\n3  56_166917         0\n4  56_172838         0, 4: Index(['user_id', 'campaign_id', 'communication_...ay', 'month', 'IsWeekend'],\n      dtype='object'), 5: 0    0\n1    0\n2    0\n3    0\n4    0\nName: is_click, dtype: int64, 6: (255798,), 7:    user_id  campaign_id  communication_type  tot...  1  \n3      2          1  \n4      2          1  , 8: 0.53566203607152, 10: 1, 11:           id  is_click\n0  63_122715         0\n1 ...  0\n3  56_166917         0\n4  56_172838         0}, '_':           id  is_click\n0  63_122715         0\n1 ...  0\n3  56_166917         0\n4  56_172838         0, '_10': 1, '_11':           id  is_click\n0  63_122715         0\n1 ...  0\n3  56_166917         0\n4  56_172838         0, '_2':           id  is_click\n0  63_122715         0\n1 ...  0\n3  56_166917         0\n4  56_172838         0, ...}\n   2882             finally:\n   2883                 # Reset our crash handler in place\n   2884                 sys.excepthook = old_excepthook\n   2885         except SystemExit as e:\n\n...........................................................................\nC:\\Users\\Shyam\\EMailMarketingCampaignsClicksPrediction\\<ipython-input-17-93531f87d60f> in <module>()\n      2 cv_params = {'max_samples': [0.5,0.8,1], 'n_estimators': [50,100]}\n      3 #minsample = np.array([3, 5, 7, 10])\n      4 #minleaf = np.array([2,3,4,5])\n      5 #state = np.array(list(range(25)))\n      6 grid = GridSearchCV(BalancedBaggingClassifier(), cv_params, scoring = 'roc_auc', cv = 10, n_jobs = -1) \n----> 7 grid.fit(x_train,y_train)\n      8 print('Best log_loss: {:.4}, with best{}'.format(grid.best_score_, grid.best_params_))\n      9 bbc_pred = grid.predict(x_test)\n     10 metrics.roc_auc_score(y_test, bbc_pred)\n\n...........................................................................\nC:\\ProgramData\\Anaconda3\\lib\\site-packages\\sklearn\\model_selection\\_search.py in fit(self=GridSearchCV(cv=10, error_score='raise',\n       ...core='warn',\n       scoring='roc_auc', verbose=0), X=         user_id  campaign_id  communication_typ...7      5          0  \n\n[767393 rows x 12 columns], y=51296      0\n239855     0\n36532      0\n823034   ...2     0\n488647     0\nName: is_click, dtype: int64, groups=None, **fit_params={})\n    634                                   return_train_score=self.return_train_score,\n    635                                   return_n_test_samples=True,\n    636                                   return_times=True, return_parameters=False,\n    637                                   error_score=self.error_score)\n    638           for parameters, (train, test) in product(candidate_params,\n--> 639                                                    cv.split(X, y, groups)))\n        cv.split = <bound method StratifiedKFold.split of Stratifie...d(n_splits=10, random_state=None, shuffle=False)>\n        X =          user_id  campaign_id  communication_typ...7      5          0  \n\n[767393 rows x 12 columns]\n        y = 51296      0\n239855     0\n36532      0\n823034   ...2     0\n488647     0\nName: is_click, dtype: int64\n        groups = None\n    640 \n    641         # if one choose to see train score, \"out\" will contain train score info\n    642         if self.return_train_score:\n    643             (train_score_dicts, test_score_dicts, test_sample_counts, fit_time,\n\n...........................................................................\nC:\\ProgramData\\Anaconda3\\lib\\site-packages\\sklearn\\externals\\joblib\\parallel.py in __call__(self=Parallel(n_jobs=-1), iterable=<generator object BaseSearchCV.fit.<locals>.<genexpr>>)\n    784             if pre_dispatch == \"all\" or n_jobs == 1:\n    785                 # The iterable was consumed all at once by the above for loop.\n    786                 # No need to wait for async callbacks to trigger to\n    787                 # consumption.\n    788                 self._iterating = False\n--> 789             self.retrieve()\n        self.retrieve = <bound method Parallel.retrieve of Parallel(n_jobs=-1)>\n    790             # Make sure that we get a last message telling us we are done\n    791             elapsed_time = time.time() - self._start_time\n    792             self._print('Done %3i out of %3i | elapsed: %s finished',\n    793                         (len(self._output), len(self._output),\n\n---------------------------------------------------------------------------\nSub-process traceback:\n---------------------------------------------------------------------------\nValueError                                         Sun Apr  1 17:38:41 2018\nPID: 10092                Python 3.6.0: C:\\ProgramData\\Anaconda3\\python.exe\n...........................................................................\nC:\\ProgramData\\Anaconda3\\lib\\site-packages\\sklearn\\externals\\joblib\\parallel.py in __call__(self=<sklearn.externals.joblib.parallel.BatchedCalls object>)\n    126     def __init__(self, iterator_slice):\n    127         self.items = list(iterator_slice)\n    128         self._size = len(self.items)\n    129 \n    130     def __call__(self):\n--> 131         return [func(*args, **kwargs) for func, args, kwargs in self.items]\n        self.items = [(<function _fit_and_score>, (BalancedBaggingClassifier(base_estimator=None, b..., replacement=False, verbose=0, warm_start=False),          user_id  campaign_id  communication_typ...7      5          0  \n\n[767393 rows x 12 columns], 51296      0\n239855     0\n36532      0\n823034   ...2     0\n488647     0\nName: is_click, dtype: int64, {'score': make_scorer(roc_auc_score, needs_threshold=True)}, memmap([ 76716,  76717,  76718, ..., 767390, 767391, 767392]), array([    0,     1,     2, ..., 78584, 78621, 78674]), 0, {'max_samples': 1, 'n_estimators': 50}), {'error_score': 'raise', 'fit_params': {}, 'return_n_test_samples': True, 'return_parameters': False, 'return_times': True, 'return_train_score': 'warn'})]\n    132 \n    133     def __len__(self):\n    134         return self._size\n    135 \n\n...........................................................................\nC:\\ProgramData\\Anaconda3\\lib\\site-packages\\sklearn\\externals\\joblib\\parallel.py in <listcomp>(.0=<list_iterator object>)\n    126     def __init__(self, iterator_slice):\n    127         self.items = list(iterator_slice)\n    128         self._size = len(self.items)\n    129 \n    130     def __call__(self):\n--> 131         return [func(*args, **kwargs) for func, args, kwargs in self.items]\n        func = <function _fit_and_score>\n        args = (BalancedBaggingClassifier(base_estimator=None, b..., replacement=False, verbose=0, warm_start=False),          user_id  campaign_id  communication_typ...7      5          0  \n\n[767393 rows x 12 columns], 51296      0\n239855     0\n36532      0\n823034   ...2     0\n488647     0\nName: is_click, dtype: int64, {'score': make_scorer(roc_auc_score, needs_threshold=True)}, memmap([ 76716,  76717,  76718, ..., 767390, 767391, 767392]), array([    0,     1,     2, ..., 78584, 78621, 78674]), 0, {'max_samples': 1, 'n_estimators': 50})\n        kwargs = {'error_score': 'raise', 'fit_params': {}, 'return_n_test_samples': True, 'return_parameters': False, 'return_times': True, 'return_train_score': 'warn'}\n    132 \n    133     def __len__(self):\n    134         return self._size\n    135 \n\n...........................................................................\nC:\\ProgramData\\Anaconda3\\lib\\site-packages\\sklearn\\model_selection\\_validation.py in _fit_and_score(estimator=BalancedBaggingClassifier(base_estimator=None, b..., replacement=False, verbose=0, warm_start=False), X=         user_id  campaign_id  communication_typ...7      5          0  \n\n[767393 rows x 12 columns], y=51296      0\n239855     0\n36532      0\n823034   ...2     0\n488647     0\nName: is_click, dtype: int64, scorer={'score': make_scorer(roc_auc_score, needs_threshold=True)}, train=memmap([ 76716,  76717,  76718, ..., 767390, 767391, 767392]), test=array([    0,     1,     2, ..., 78584, 78621, 78674]), verbose=0, parameters={'max_samples': 1, 'n_estimators': 50}, fit_params={}, return_train_score='warn', return_parameters=False, return_n_test_samples=True, return_times=True, error_score='raise')\n    453 \n    454     try:\n    455         if y_train is None:\n    456             estimator.fit(X_train, **fit_params)\n    457         else:\n--> 458             estimator.fit(X_train, y_train, **fit_params)\n        estimator.fit = <bound method BalancedBaggingClassifier.fit of B... replacement=False, verbose=0, warm_start=False)>\n        X_train =          user_id  campaign_id  communication_typ...7      5          0  \n\n[690653 rows x 12 columns]\n        y_train = 65342      0\n622123     0\n60127      0\n453900   ...2     0\n488647     0\nName: is_click, dtype: int64\n        fit_params = {}\n    459 \n    460     except Exception as e:\n    461         # Note fit time as time until error\n    462         fit_time = time.time() - start_time\n\n...........................................................................\nC:\\ProgramData\\Anaconda3\\lib\\site-packages\\imblearn\\ensemble\\classifier.py in fit(self=BalancedBaggingClassifier(base_estimator=None, b..., replacement=False, verbose=0, warm_start=False), X=         user_id  campaign_id  communication_typ...7      5          0  \n\n[690653 rows x 12 columns], y=65342      0\n622123     0\n60127      0\n453900   ...2     0\n488647     0\nName: is_click, dtype: int64)\n    253         self : object\n    254             Returns self.\n    255         \"\"\"\n    256         # RandomUnderSampler is not supporting sample_weight. We need to pass\n    257         # None.\n--> 258         return self._fit(X, y, self.max_samples, sample_weight=None)\n        self._fit = <bound method BaseBagging._fit of BalancedBaggin... replacement=False, verbose=0, warm_start=False)>\n        X =          user_id  campaign_id  communication_typ...7      5          0  \n\n[690653 rows x 12 columns]\n        y = 65342      0\n622123     0\n60127      0\n453900   ...2     0\n488647     0\nName: is_click, dtype: int64\n        self.max_samples = 1\n\n...........................................................................\nC:\\ProgramData\\Anaconda3\\lib\\site-packages\\sklearn\\ensemble\\bagging.py in _fit(self=BalancedBaggingClassifier(base_estimator=None, b..., replacement=False, verbose=0, warm_start=False), X=array([[136359,     44,      5, ...,      9,    ...   5, ...,      7,      5,      0]], dtype=int64), y=array([0, 0, 0, ..., 0, 0, 0], dtype=int64), max_samples=1, max_depth=None, sample_weight=None)\n    370                 y,\n    371                 sample_weight,\n    372                 seeds[starts[i]:starts[i + 1]],\n    373                 total_n_estimators,\n    374                 verbose=self.verbose)\n--> 375             for i in range(n_jobs))\n        n_jobs = 1\n    376 \n    377         # Reduce\n    378         self.estimators_ += list(itertools.chain.from_iterable(\n    379             t[0] for t in all_results))\n\n...........................................................................\nC:\\ProgramData\\Anaconda3\\lib\\site-packages\\sklearn\\externals\\joblib\\parallel.py in __call__(self=Parallel(n_jobs=1), iterable=<generator object BaseBagging._fit.<locals>.<genexpr>>)\n    774         self.n_completed_tasks = 0\n    775         try:\n    776             # Only set self._iterating to True if at least a batch\n    777             # was dispatched. In particular this covers the edge\n    778             # case of Parallel used with an exhausted iterator.\n--> 779             while self.dispatch_one_batch(iterator):\n        self.dispatch_one_batch = <bound method Parallel.dispatch_one_batch of Parallel(n_jobs=1)>\n        iterator = <generator object BaseBagging._fit.<locals>.<genexpr>>\n    780                 self._iterating = True\n    781             else:\n    782                 self._iterating = False\n    783 \n\n...........................................................................\nC:\\ProgramData\\Anaconda3\\lib\\site-packages\\sklearn\\externals\\joblib\\parallel.py in dispatch_one_batch(self=Parallel(n_jobs=1), iterator=<generator object BaseBagging._fit.<locals>.<genexpr>>)\n    620             tasks = BatchedCalls(itertools.islice(iterator, batch_size))\n    621             if len(tasks) == 0:\n    622                 # No more tasks available in the iterator: tell caller to stop.\n    623                 return False\n    624             else:\n--> 625                 self._dispatch(tasks)\n        self._dispatch = <bound method Parallel._dispatch of Parallel(n_jobs=1)>\n        tasks = <sklearn.externals.joblib.parallel.BatchedCalls object>\n    626                 return True\n    627 \n    628     def _print(self, msg, msg_args):\n    629         \"\"\"Display the message on stout or stderr depending on verbosity\"\"\"\n\n...........................................................................\nC:\\ProgramData\\Anaconda3\\lib\\site-packages\\sklearn\\externals\\joblib\\parallel.py in _dispatch(self=Parallel(n_jobs=1), batch=<sklearn.externals.joblib.parallel.BatchedCalls object>)\n    583         self.n_dispatched_tasks += len(batch)\n    584         self.n_dispatched_batches += 1\n    585 \n    586         dispatch_timestamp = time.time()\n    587         cb = BatchCompletionCallBack(dispatch_timestamp, len(batch), self)\n--> 588         job = self._backend.apply_async(batch, callback=cb)\n        job = undefined\n        self._backend.apply_async = <bound method SequentialBackend.apply_async of <...lib._parallel_backends.SequentialBackend object>>\n        batch = <sklearn.externals.joblib.parallel.BatchedCalls object>\n        cb = <sklearn.externals.joblib.parallel.BatchCompletionCallBack object>\n    589         self._jobs.append(job)\n    590 \n    591     def dispatch_next(self):\n    592         \"\"\"Dispatch more data for parallel processing\n\n...........................................................................\nC:\\ProgramData\\Anaconda3\\lib\\site-packages\\sklearn\\externals\\joblib\\_parallel_backends.py in apply_async(self=<sklearn.externals.joblib._parallel_backends.SequentialBackend object>, func=<sklearn.externals.joblib.parallel.BatchedCalls object>, callback=<sklearn.externals.joblib.parallel.BatchCompletionCallBack object>)\n    106             raise ValueError('n_jobs == 0 in Parallel has no meaning')\n    107         return 1\n    108 \n    109     def apply_async(self, func, callback=None):\n    110         \"\"\"Schedule a func to be run\"\"\"\n--> 111         result = ImmediateResult(func)\n        result = undefined\n        func = <sklearn.externals.joblib.parallel.BatchedCalls object>\n    112         if callback:\n    113             callback(result)\n    114         return result\n    115 \n\n...........................................................................\nC:\\ProgramData\\Anaconda3\\lib\\site-packages\\sklearn\\externals\\joblib\\_parallel_backends.py in __init__(self=<sklearn.externals.joblib._parallel_backends.ImmediateResult object>, batch=<sklearn.externals.joblib.parallel.BatchedCalls object>)\n    327 \n    328 class ImmediateResult(object):\n    329     def __init__(self, batch):\n    330         # Don't delay the application, to avoid keeping the input\n    331         # arguments in memory\n--> 332         self.results = batch()\n        self.results = undefined\n        batch = <sklearn.externals.joblib.parallel.BatchedCalls object>\n    333 \n    334     def get(self):\n    335         return self.results\n    336 \n\n...........................................................................\nC:\\ProgramData\\Anaconda3\\lib\\site-packages\\sklearn\\externals\\joblib\\parallel.py in __call__(self=<sklearn.externals.joblib.parallel.BatchedCalls object>)\n    126     def __init__(self, iterator_slice):\n    127         self.items = list(iterator_slice)\n    128         self._size = len(self.items)\n    129 \n    130     def __call__(self):\n--> 131         return [func(*args, **kwargs) for func, args, kwargs in self.items]\n        self.items = [(<function _parallel_build_estimators>, (50, BalancedBaggingClassifier(base_estimator=None, b..., replacement=False, verbose=0, warm_start=False), array([[136359,     44,      5, ...,      9,    ...   5, ...,      7,      5,      0]], dtype=int64), array([0, 0, 0, ..., 0, 0, 0], dtype=int64), None, array([ 870327671, 1434472298, 1547660960,  4530...   62630978, 1853477837,   56872284, 1599684455]), 50), {'verbose': 0})]\n    132 \n    133     def __len__(self):\n    134         return self._size\n    135 \n\n...........................................................................\nC:\\ProgramData\\Anaconda3\\lib\\site-packages\\sklearn\\externals\\joblib\\parallel.py in <listcomp>(.0=<list_iterator object>)\n    126     def __init__(self, iterator_slice):\n    127         self.items = list(iterator_slice)\n    128         self._size = len(self.items)\n    129 \n    130     def __call__(self):\n--> 131         return [func(*args, **kwargs) for func, args, kwargs in self.items]\n        func = <function _parallel_build_estimators>\n        args = (50, BalancedBaggingClassifier(base_estimator=None, b..., replacement=False, verbose=0, warm_start=False), array([[136359,     44,      5, ...,      9,    ...   5, ...,      7,      5,      0]], dtype=int64), array([0, 0, 0, ..., 0, 0, 0], dtype=int64), None, array([ 870327671, 1434472298, 1547660960,  4530...   62630978, 1853477837,   56872284, 1599684455]), 50)\n        kwargs = {'verbose': 0}\n    132 \n    133     def __len__(self):\n    134         return self._size\n    135 \n\n...........................................................................\nC:\\ProgramData\\Anaconda3\\lib\\site-packages\\sklearn\\ensemble\\bagging.py in _parallel_build_estimators(n_estimators=50, ensemble=BalancedBaggingClassifier(base_estimator=None, b..., replacement=False, verbose=0, warm_start=False), X=array([[136359,     44,      5, ...,      9,    ...   5, ...,      7,      5,      0]], dtype=int64), y=array([0, 0, 0, ..., 0, 0, 0], dtype=int64), sample_weight=None, seeds=array([ 870327671, 1434472298, 1547660960,  4530...   62630978, 1853477837,   56872284, 1599684455]), total_n_estimators=50, verbose=0)\n    111 \n    112             estimator.fit(X[:, features], y, sample_weight=curr_sample_weight)\n    113 \n    114         # Draw samples, using a mask, and then fit\n    115         else:\n--> 116             estimator.fit((X[indices])[:, features], y[indices])\n        estimator.fit = <bound method Pipeline.fit of Pipeline(memory=No...     random_state=494641112, splitter='best'))])>\n        X = array([[136359,     44,      5, ...,      9,    ...   5, ...,      7,      5,      0]], dtype=int64)\n        indices = array([153815])\n        features = array([ 0,  1,  2,  3,  4,  5,  6,  7,  8,  9, 10, 11])\n        y = array([0, 0, 0, ..., 0, 0, 0], dtype=int64)\n    117 \n    118         estimators.append(estimator)\n    119         estimators_features.append(features)\n    120 \n\n...........................................................................\nC:\\ProgramData\\Anaconda3\\lib\\site-packages\\imblearn\\pipeline.py in fit(self=Pipeline(memory=None,\n     steps=[('sampler', Ra...      random_state=494641112, splitter='best'))]), X=array([[12241,    33,     4,     7,     3,     1...  15,\n           24,     7,     1]], dtype=int64), y=array([0], dtype=int64), **fit_params={})\n    237         -------\n    238         self : Pipeline\n    239             This estimator\n    240 \n    241         \"\"\"\n--> 242         Xt, yt, fit_params = self._fit(X, y, **fit_params)\n        Xt = undefined\n        yt = undefined\n        fit_params = {}\n        self._fit = <bound method Pipeline._fit of Pipeline(memory=N...     random_state=494641112, splitter='best'))])>\n        X = array([[12241,    33,     4,     7,     3,     1...  15,\n           24,     7,     1]], dtype=int64)\n        y = array([0], dtype=int64)\n    243         if self._final_estimator is not None:\n    244             self._final_estimator.fit(Xt, yt, **fit_params)\n    245         return self\n    246 \n\n...........................................................................\nC:\\ProgramData\\Anaconda3\\lib\\site-packages\\imblearn\\pipeline.py in _fit(self=Pipeline(memory=None,\n     steps=[('sampler', Ra...      random_state=494641112, splitter='best'))]), X=array([[12241,    33,     4,     7,     3,     1...  15,\n           24,     7,     1]], dtype=int64), y=array([0], dtype=int64), **fit_params={})\n    200                         cloned_transformer, None, Xt, yt,\n    201                         **fit_params_steps[name])\n    202                 elif hasattr(cloned_transformer, \"sample\"):\n    203                     Xt, yt, fitted_transformer = fit_sample_one_cached(\n    204                         cloned_transformer, Xt, yt,\n--> 205                         **fit_params_steps[name])\n        fit_params_steps = {'classifier': {}, 'sampler': {}}\n        name = 'sampler'\n    206                 # Replace the transformer of the step with the fitted\n    207                 # transformer. This is necessary when loading the transformer\n    208                 # from the cache.\n    209                 self.steps[step_idx] = (name, fitted_transformer)\n\n...........................................................................\nC:\\ProgramData\\Anaconda3\\lib\\site-packages\\sklearn\\externals\\joblib\\memory.py in __call__(self=NotMemorizedFunc(func=<function _fit_sample_one at 0x0000029C880DF048>), *args=(RandomUnderSampler(random_state=1060884366, rati...eplacement=False,\n          return_indices=False), array([[12241,    33,     4,     7,     3,     1...  15,\n           24,     7,     1]], dtype=int64), array([0], dtype=int64)), **kwargs={})\n    357     # Should be a light as possible (for speed)\n    358     def __init__(self, func):\n    359         self.func = func\n    360 \n    361     def __call__(self, *args, **kwargs):\n--> 362         return self.func(*args, **kwargs)\n        self.func = <function _fit_sample_one>\n        args = (RandomUnderSampler(random_state=1060884366, rati...eplacement=False,\n          return_indices=False), array([[12241,    33,     4,     7,     3,     1...  15,\n           24,     7,     1]], dtype=int64), array([0], dtype=int64))\n        kwargs = {}\n    363 \n    364     def call_and_shelve(self, *args, **kwargs):\n    365         return NotMemorizedResult(self.func(*args, **kwargs))\n    366 \n\n...........................................................................\nC:\\ProgramData\\Anaconda3\\lib\\site-packages\\imblearn\\pipeline.py in _fit_sample_one(sampler=RandomUnderSampler(random_state=1060884366, rati...eplacement=False,\n          return_indices=False), X=array([[12241,    33,     4,     7,     3,     1...  15,\n           24,     7,     1]], dtype=int64), y=array([0], dtype=int64), **fit_params={})\n    598         return res, transformer\n    599     return res * weight, transformer\n    600 \n    601 \n    602 def _fit_sample_one(sampler, X, y, **fit_params):\n--> 603     X_res, y_res = sampler.fit_sample(X, y, **fit_params)\n        X_res = undefined\n        y_res = undefined\n        sampler.fit_sample = <bound method SamplerMixin.fit_sample of RandomU...placement=False,\n          return_indices=False)>\n        X = array([[12241,    33,     4,     7,     3,     1...  15,\n           24,     7,     1]], dtype=int64)\n        y = array([0], dtype=int64)\n        fit_params = {}\n    604 \n    605     return X_res, y_res, sampler\n    606 \n    607 \n\n...........................................................................\nC:\\ProgramData\\Anaconda3\\lib\\site-packages\\imblearn\\base.py in fit_sample(self=RandomUnderSampler(random_state=1060884366, rati...eplacement=False,\n          return_indices=False), X=array([[12241,    33,     4,     7,     3,     1...  15,\n           24,     7,     1]], dtype=int64), y=array([0], dtype=int64))\n     83         y_resampled : array-like, shape (n_samples_new,)\n     84             The corresponding label of `X_resampled`\n     85 \n     86         \"\"\"\n     87 \n---> 88         return self.fit(X, y).sample(X, y)\n        self.fit = <bound method BaseSampler.fit of RandomUnderSamp...placement=False,\n          return_indices=False)>\n        X = array([[12241,    33,     4,     7,     3,     1...  15,\n           24,     7,     1]], dtype=int64)\n        y.sample = undefined\n        y = array([0], dtype=int64)\n     89 \n     90     @abstractmethod\n     91     def _sample(self, X, y):\n     92         \"\"\"Resample the dataset.\n\n...........................................................................\nC:\\ProgramData\\Anaconda3\\lib\\site-packages\\imblearn\\base.py in fit(self=RandomUnderSampler(random_state=1060884366, rati...eplacement=False,\n          return_indices=False), X=array([[12241,    33,     4,     7,     3,     1...  15,\n           24,     7,     1]], dtype=int64), y=array([0], dtype=int64))\n    156         \"\"\"\n    157         X, y = check_X_y(X, y, accept_sparse=['csr', 'csc'])\n    158         y = check_target_type(y)\n    159         self.X_hash_, self.y_hash_ = hash_X_y(X, y)\n    160         # self.sampling_type is already checked in check_ratio\n--> 161         self.ratio_ = check_ratio(self.ratio, y, self._sampling_type)\n        self.ratio_ = undefined\n        self.ratio = 'auto'\n        y = array([0], dtype=int64)\n        self._sampling_type = 'under-sampling'\n    162 \n    163         return self\n\n...........................................................................\nC:\\ProgramData\\Anaconda3\\lib\\site-packages\\imblearn\\utils\\validation.py in check_ratio(ratio='auto', y=array([0], dtype=int64), sampling_type='under-sampling', **kwargs={})\n    317         raise ValueError(\"'sampling_type' should be one of {}. Got '{}'\"\n    318                          \" instead.\".format(SAMPLING_KIND, sampling_type))\n    319 \n    320     if np.unique(y).size <= 1:\n    321         raise ValueError(\"The target 'y' needs to have more than 1 class.\"\n--> 322                          \" Got {} class instead\".format(np.unique(y).size))\n        y.size = 1\n    323 \n    324     if sampling_type == 'ensemble':\n    325         return ratio\n    326 \n\nValueError: The target 'y' needs to have more than 1 class. Got 1 class instead\n___________________________________________________________________________",
     "output_type": "error",
     "traceback": [
      "\u001b[0;31m---------------------------------------------------------------------------\u001b[0m",
      "\u001b[0;31mRemoteTraceback\u001b[0m                           Traceback (most recent call last)",
      "\u001b[0;31mRemoteTraceback\u001b[0m: \n\"\"\"\nTraceback (most recent call last):\n  File \"C:\\ProgramData\\Anaconda3\\lib\\site-packages\\sklearn\\externals\\joblib\\_parallel_backends.py\", line 350, in __call__\n    return self.func(*args, **kwargs)\n  File \"C:\\ProgramData\\Anaconda3\\lib\\site-packages\\sklearn\\externals\\joblib\\parallel.py\", line 131, in __call__\n    return [func(*args, **kwargs) for func, args, kwargs in self.items]\n  File \"C:\\ProgramData\\Anaconda3\\lib\\site-packages\\sklearn\\externals\\joblib\\parallel.py\", line 131, in <listcomp>\n    return [func(*args, **kwargs) for func, args, kwargs in self.items]\n  File \"C:\\ProgramData\\Anaconda3\\lib\\site-packages\\sklearn\\model_selection\\_validation.py\", line 458, in _fit_and_score\n    estimator.fit(X_train, y_train, **fit_params)\n  File \"C:\\ProgramData\\Anaconda3\\lib\\site-packages\\imblearn\\ensemble\\classifier.py\", line 258, in fit\n    return self._fit(X, y, self.max_samples, sample_weight=None)\n  File \"C:\\ProgramData\\Anaconda3\\lib\\site-packages\\sklearn\\ensemble\\bagging.py\", line 375, in _fit\n    for i in range(n_jobs))\n  File \"C:\\ProgramData\\Anaconda3\\lib\\site-packages\\sklearn\\externals\\joblib\\parallel.py\", line 779, in __call__\n    while self.dispatch_one_batch(iterator):\n  File \"C:\\ProgramData\\Anaconda3\\lib\\site-packages\\sklearn\\externals\\joblib\\parallel.py\", line 625, in dispatch_one_batch\n    self._dispatch(tasks)\n  File \"C:\\ProgramData\\Anaconda3\\lib\\site-packages\\sklearn\\externals\\joblib\\parallel.py\", line 588, in _dispatch\n    job = self._backend.apply_async(batch, callback=cb)\n  File \"C:\\ProgramData\\Anaconda3\\lib\\site-packages\\sklearn\\externals\\joblib\\_parallel_backends.py\", line 111, in apply_async\n    result = ImmediateResult(func)\n  File \"C:\\ProgramData\\Anaconda3\\lib\\site-packages\\sklearn\\externals\\joblib\\_parallel_backends.py\", line 332, in __init__\n    self.results = batch()\n  File \"C:\\ProgramData\\Anaconda3\\lib\\site-packages\\sklearn\\externals\\joblib\\parallel.py\", line 131, in __call__\n    return [func(*args, **kwargs) for func, args, kwargs in self.items]\n  File \"C:\\ProgramData\\Anaconda3\\lib\\site-packages\\sklearn\\externals\\joblib\\parallel.py\", line 131, in <listcomp>\n    return [func(*args, **kwargs) for func, args, kwargs in self.items]\n  File \"C:\\ProgramData\\Anaconda3\\lib\\site-packages\\sklearn\\ensemble\\bagging.py\", line 116, in _parallel_build_estimators\n    estimator.fit((X[indices])[:, features], y[indices])\n  File \"C:\\ProgramData\\Anaconda3\\lib\\site-packages\\imblearn\\pipeline.py\", line 242, in fit\n    Xt, yt, fit_params = self._fit(X, y, **fit_params)\n  File \"C:\\ProgramData\\Anaconda3\\lib\\site-packages\\imblearn\\pipeline.py\", line 205, in _fit\n    **fit_params_steps[name])\n  File \"C:\\ProgramData\\Anaconda3\\lib\\site-packages\\sklearn\\externals\\joblib\\memory.py\", line 362, in __call__\n    return self.func(*args, **kwargs)\n  File \"C:\\ProgramData\\Anaconda3\\lib\\site-packages\\imblearn\\pipeline.py\", line 603, in _fit_sample_one\n    X_res, y_res = sampler.fit_sample(X, y, **fit_params)\n  File \"C:\\ProgramData\\Anaconda3\\lib\\site-packages\\imblearn\\base.py\", line 88, in fit_sample\n    return self.fit(X, y).sample(X, y)\n  File \"C:\\ProgramData\\Anaconda3\\lib\\site-packages\\imblearn\\base.py\", line 161, in fit\n    self.ratio_ = check_ratio(self.ratio, y, self._sampling_type)\n  File \"C:\\ProgramData\\Anaconda3\\lib\\site-packages\\imblearn\\utils\\validation.py\", line 322, in check_ratio\n    \" Got {} class instead\".format(np.unique(y).size))\nValueError: The target 'y' needs to have more than 1 class. Got 1 class instead\n\nDuring handling of the above exception, another exception occurred:\n\nTraceback (most recent call last):\n  File \"C:\\ProgramData\\Anaconda3\\lib\\multiprocessing\\pool.py\", line 119, in worker\n    result = (True, func(*args, **kwds))\n  File \"C:\\ProgramData\\Anaconda3\\lib\\site-packages\\sklearn\\externals\\joblib\\_parallel_backends.py\", line 359, in __call__\n    raise TransportableException(text, e_type)\nsklearn.externals.joblib.my_exceptions.TransportableException: TransportableException\n___________________________________________________________________________\nValueError                                         Sun Apr  1 17:38:41 2018\nPID: 10092                Python 3.6.0: C:\\ProgramData\\Anaconda3\\python.exe\n...........................................................................\nC:\\ProgramData\\Anaconda3\\lib\\site-packages\\sklearn\\externals\\joblib\\parallel.py in __call__(self=<sklearn.externals.joblib.parallel.BatchedCalls object>)\n    126     def __init__(self, iterator_slice):\n    127         self.items = list(iterator_slice)\n    128         self._size = len(self.items)\n    129 \n    130     def __call__(self):\n--> 131         return [func(*args, **kwargs) for func, args, kwargs in self.items]\n        self.items = [(<function _fit_and_score>, (BalancedBaggingClassifier(base_estimator=None, b..., replacement=False, verbose=0, warm_start=False),          user_id  campaign_id  communication_typ...7      5          0  \n\n[767393 rows x 12 columns], 51296      0\n239855     0\n36532      0\n823034   ...2     0\n488647     0\nName: is_click, dtype: int64, {'score': make_scorer(roc_auc_score, needs_threshold=True)}, memmap([ 76716,  76717,  76718, ..., 767390, 767391, 767392]), array([    0,     1,     2, ..., 78584, 78621, 78674]), 0, {'max_samples': 1, 'n_estimators': 50}), {'error_score': 'raise', 'fit_params': {}, 'return_n_test_samples': True, 'return_parameters': False, 'return_times': True, 'return_train_score': 'warn'})]\n    132 \n    133     def __len__(self):\n    134         return self._size\n    135 \n\n...........................................................................\nC:\\ProgramData\\Anaconda3\\lib\\site-packages\\sklearn\\externals\\joblib\\parallel.py in <listcomp>(.0=<list_iterator object>)\n    126     def __init__(self, iterator_slice):\n    127         self.items = list(iterator_slice)\n    128         self._size = len(self.items)\n    129 \n    130     def __call__(self):\n--> 131         return [func(*args, **kwargs) for func, args, kwargs in self.items]\n        func = <function _fit_and_score>\n        args = (BalancedBaggingClassifier(base_estimator=None, b..., replacement=False, verbose=0, warm_start=False),          user_id  campaign_id  communication_typ...7      5          0  \n\n[767393 rows x 12 columns], 51296      0\n239855     0\n36532      0\n823034   ...2     0\n488647     0\nName: is_click, dtype: int64, {'score': make_scorer(roc_auc_score, needs_threshold=True)}, memmap([ 76716,  76717,  76718, ..., 767390, 767391, 767392]), array([    0,     1,     2, ..., 78584, 78621, 78674]), 0, {'max_samples': 1, 'n_estimators': 50})\n        kwargs = {'error_score': 'raise', 'fit_params': {}, 'return_n_test_samples': True, 'return_parameters': False, 'return_times': True, 'return_train_score': 'warn'}\n    132 \n    133     def __len__(self):\n    134         return self._size\n    135 \n\n...........................................................................\nC:\\ProgramData\\Anaconda3\\lib\\site-packages\\sklearn\\model_selection\\_validation.py in _fit_and_score(estimator=BalancedBaggingClassifier(base_estimator=None, b..., replacement=False, verbose=0, warm_start=False), X=         user_id  campaign_id  communication_typ...7      5          0  \n\n[767393 rows x 12 columns], y=51296      0\n239855     0\n36532      0\n823034   ...2     0\n488647     0\nName: is_click, dtype: int64, scorer={'score': make_scorer(roc_auc_score, needs_threshold=True)}, train=memmap([ 76716,  76717,  76718, ..., 767390, 767391, 767392]), test=array([    0,     1,     2, ..., 78584, 78621, 78674]), verbose=0, parameters={'max_samples': 1, 'n_estimators': 50}, fit_params={}, return_train_score='warn', return_parameters=False, return_n_test_samples=True, return_times=True, error_score='raise')\n    453 \n    454     try:\n    455         if y_train is None:\n    456             estimator.fit(X_train, **fit_params)\n    457         else:\n--> 458             estimator.fit(X_train, y_train, **fit_params)\n        estimator.fit = <bound method BalancedBaggingClassifier.fit of B... replacement=False, verbose=0, warm_start=False)>\n        X_train =          user_id  campaign_id  communication_typ...7      5          0  \n\n[690653 rows x 12 columns]\n        y_train = 65342      0\n622123     0\n60127      0\n453900   ...2     0\n488647     0\nName: is_click, dtype: int64\n        fit_params = {}\n    459 \n    460     except Exception as e:\n    461         # Note fit time as time until error\n    462         fit_time = time.time() - start_time\n\n...........................................................................\nC:\\ProgramData\\Anaconda3\\lib\\site-packages\\imblearn\\ensemble\\classifier.py in fit(self=BalancedBaggingClassifier(base_estimator=None, b..., replacement=False, verbose=0, warm_start=False), X=         user_id  campaign_id  communication_typ...7      5          0  \n\n[690653 rows x 12 columns], y=65342      0\n622123     0\n60127      0\n453900   ...2     0\n488647     0\nName: is_click, dtype: int64)\n    253         self : object\n    254             Returns self.\n    255         \"\"\"\n    256         # RandomUnderSampler is not supporting sample_weight. We need to pass\n    257         # None.\n--> 258         return self._fit(X, y, self.max_samples, sample_weight=None)\n        self._fit = <bound method BaseBagging._fit of BalancedBaggin... replacement=False, verbose=0, warm_start=False)>\n        X =          user_id  campaign_id  communication_typ...7      5          0  \n\n[690653 rows x 12 columns]\n        y = 65342      0\n622123     0\n60127      0\n453900   ...2     0\n488647     0\nName: is_click, dtype: int64\n        self.max_samples = 1\n\n...........................................................................\nC:\\ProgramData\\Anaconda3\\lib\\site-packages\\sklearn\\ensemble\\bagging.py in _fit(self=BalancedBaggingClassifier(base_estimator=None, b..., replacement=False, verbose=0, warm_start=False), X=array([[136359,     44,      5, ...,      9,    ...   5, ...,      7,      5,      0]], dtype=int64), y=array([0, 0, 0, ..., 0, 0, 0], dtype=int64), max_samples=1, max_depth=None, sample_weight=None)\n    370                 y,\n    371                 sample_weight,\n    372                 seeds[starts[i]:starts[i + 1]],\n    373                 total_n_estimators,\n    374                 verbose=self.verbose)\n--> 375             for i in range(n_jobs))\n        n_jobs = 1\n    376 \n    377         # Reduce\n    378         self.estimators_ += list(itertools.chain.from_iterable(\n    379             t[0] for t in all_results))\n\n...........................................................................\nC:\\ProgramData\\Anaconda3\\lib\\site-packages\\sklearn\\externals\\joblib\\parallel.py in __call__(self=Parallel(n_jobs=1), iterable=<generator object BaseBagging._fit.<locals>.<genexpr>>)\n    774         self.n_completed_tasks = 0\n    775         try:\n    776             # Only set self._iterating to True if at least a batch\n    777             # was dispatched. In particular this covers the edge\n    778             # case of Parallel used with an exhausted iterator.\n--> 779             while self.dispatch_one_batch(iterator):\n        self.dispatch_one_batch = <bound method Parallel.dispatch_one_batch of Parallel(n_jobs=1)>\n        iterator = <generator object BaseBagging._fit.<locals>.<genexpr>>\n    780                 self._iterating = True\n    781             else:\n    782                 self._iterating = False\n    783 \n\n...........................................................................\nC:\\ProgramData\\Anaconda3\\lib\\site-packages\\sklearn\\externals\\joblib\\parallel.py in dispatch_one_batch(self=Parallel(n_jobs=1), iterator=<generator object BaseBagging._fit.<locals>.<genexpr>>)\n    620             tasks = BatchedCalls(itertools.islice(iterator, batch_size))\n    621             if len(tasks) == 0:\n    622                 # No more tasks available in the iterator: tell caller to stop.\n    623                 return False\n    624             else:\n--> 625                 self._dispatch(tasks)\n        self._dispatch = <bound method Parallel._dispatch of Parallel(n_jobs=1)>\n        tasks = <sklearn.externals.joblib.parallel.BatchedCalls object>\n    626                 return True\n    627 \n    628     def _print(self, msg, msg_args):\n    629         \"\"\"Display the message on stout or stderr depending on verbosity\"\"\"\n\n...........................................................................\nC:\\ProgramData\\Anaconda3\\lib\\site-packages\\sklearn\\externals\\joblib\\parallel.py in _dispatch(self=Parallel(n_jobs=1), batch=<sklearn.externals.joblib.parallel.BatchedCalls object>)\n    583         self.n_dispatched_tasks += len(batch)\n    584         self.n_dispatched_batches += 1\n    585 \n    586         dispatch_timestamp = time.time()\n    587         cb = BatchCompletionCallBack(dispatch_timestamp, len(batch), self)\n--> 588         job = self._backend.apply_async(batch, callback=cb)\n        job = undefined\n        self._backend.apply_async = <bound method SequentialBackend.apply_async of <...lib._parallel_backends.SequentialBackend object>>\n        batch = <sklearn.externals.joblib.parallel.BatchedCalls object>\n        cb = <sklearn.externals.joblib.parallel.BatchCompletionCallBack object>\n    589         self._jobs.append(job)\n    590 \n    591     def dispatch_next(self):\n    592         \"\"\"Dispatch more data for parallel processing\n\n...........................................................................\nC:\\ProgramData\\Anaconda3\\lib\\site-packages\\sklearn\\externals\\joblib\\_parallel_backends.py in apply_async(self=<sklearn.externals.joblib._parallel_backends.SequentialBackend object>, func=<sklearn.externals.joblib.parallel.BatchedCalls object>, callback=<sklearn.externals.joblib.parallel.BatchCompletionCallBack object>)\n    106             raise ValueError('n_jobs == 0 in Parallel has no meaning')\n    107         return 1\n    108 \n    109     def apply_async(self, func, callback=None):\n    110         \"\"\"Schedule a func to be run\"\"\"\n--> 111         result = ImmediateResult(func)\n        result = undefined\n        func = <sklearn.externals.joblib.parallel.BatchedCalls object>\n    112         if callback:\n    113             callback(result)\n    114         return result\n    115 \n\n...........................................................................\nC:\\ProgramData\\Anaconda3\\lib\\site-packages\\sklearn\\externals\\joblib\\_parallel_backends.py in __init__(self=<sklearn.externals.joblib._parallel_backends.ImmediateResult object>, batch=<sklearn.externals.joblib.parallel.BatchedCalls object>)\n    327 \n    328 class ImmediateResult(object):\n    329     def __init__(self, batch):\n    330         # Don't delay the application, to avoid keeping the input\n    331         # arguments in memory\n--> 332         self.results = batch()\n        self.results = undefined\n        batch = <sklearn.externals.joblib.parallel.BatchedCalls object>\n    333 \n    334     def get(self):\n    335         return self.results\n    336 \n\n...........................................................................\nC:\\ProgramData\\Anaconda3\\lib\\site-packages\\sklearn\\externals\\joblib\\parallel.py in __call__(self=<sklearn.externals.joblib.parallel.BatchedCalls object>)\n    126     def __init__(self, iterator_slice):\n    127         self.items = list(iterator_slice)\n    128         self._size = len(self.items)\n    129 \n    130     def __call__(self):\n--> 131         return [func(*args, **kwargs) for func, args, kwargs in self.items]\n        self.items = [(<function _parallel_build_estimators>, (50, BalancedBaggingClassifier(base_estimator=None, b..., replacement=False, verbose=0, warm_start=False), array([[136359,     44,      5, ...,      9,    ...   5, ...,      7,      5,      0]], dtype=int64), array([0, 0, 0, ..., 0, 0, 0], dtype=int64), None, array([ 870327671, 1434472298, 1547660960,  4530...   62630978, 1853477837,   56872284, 1599684455]), 50), {'verbose': 0})]\n    132 \n    133     def __len__(self):\n    134         return self._size\n    135 \n\n...........................................................................\nC:\\ProgramData\\Anaconda3\\lib\\site-packages\\sklearn\\externals\\joblib\\parallel.py in <listcomp>(.0=<list_iterator object>)\n    126     def __init__(self, iterator_slice):\n    127         self.items = list(iterator_slice)\n    128         self._size = len(self.items)\n    129 \n    130     def __call__(self):\n--> 131         return [func(*args, **kwargs) for func, args, kwargs in self.items]\n        func = <function _parallel_build_estimators>\n        args = (50, BalancedBaggingClassifier(base_estimator=None, b..., replacement=False, verbose=0, warm_start=False), array([[136359,     44,      5, ...,      9,    ...   5, ...,      7,      5,      0]], dtype=int64), array([0, 0, 0, ..., 0, 0, 0], dtype=int64), None, array([ 870327671, 1434472298, 1547660960,  4530...   62630978, 1853477837,   56872284, 1599684455]), 50)\n        kwargs = {'verbose': 0}\n    132 \n    133     def __len__(self):\n    134         return self._size\n    135 \n\n...........................................................................\nC:\\ProgramData\\Anaconda3\\lib\\site-packages\\sklearn\\ensemble\\bagging.py in _parallel_build_estimators(n_estimators=50, ensemble=BalancedBaggingClassifier(base_estimator=None, b..., replacement=False, verbose=0, warm_start=False), X=array([[136359,     44,      5, ...,      9,    ...   5, ...,      7,      5,      0]], dtype=int64), y=array([0, 0, 0, ..., 0, 0, 0], dtype=int64), sample_weight=None, seeds=array([ 870327671, 1434472298, 1547660960,  4530...   62630978, 1853477837,   56872284, 1599684455]), total_n_estimators=50, verbose=0)\n    111 \n    112             estimator.fit(X[:, features], y, sample_weight=curr_sample_weight)\n    113 \n    114         # Draw samples, using a mask, and then fit\n    115         else:\n--> 116             estimator.fit((X[indices])[:, features], y[indices])\n        estimator.fit = <bound method Pipeline.fit of Pipeline(memory=No...     random_state=494641112, splitter='best'))])>\n        X = array([[136359,     44,      5, ...,      9,    ...   5, ...,      7,      5,      0]], dtype=int64)\n        indices = array([153815])\n        features = array([ 0,  1,  2,  3,  4,  5,  6,  7,  8,  9, 10, 11])\n        y = array([0, 0, 0, ..., 0, 0, 0], dtype=int64)\n    117 \n    118         estimators.append(estimator)\n    119         estimators_features.append(features)\n    120 \n\n...........................................................................\nC:\\ProgramData\\Anaconda3\\lib\\site-packages\\imblearn\\pipeline.py in fit(self=Pipeline(memory=None,\n     steps=[('sampler', Ra...      random_state=494641112, splitter='best'))]), X=array([[12241,    33,     4,     7,     3,     1...  15,\n           24,     7,     1]], dtype=int64), y=array([0], dtype=int64), **fit_params={})\n    237         -------\n    238         self : Pipeline\n    239             This estimator\n    240 \n    241         \"\"\"\n--> 242         Xt, yt, fit_params = self._fit(X, y, **fit_params)\n        Xt = undefined\n        yt = undefined\n        fit_params = {}\n        self._fit = <bound method Pipeline._fit of Pipeline(memory=N...     random_state=494641112, splitter='best'))])>\n        X = array([[12241,    33,     4,     7,     3,     1...  15,\n           24,     7,     1]], dtype=int64)\n        y = array([0], dtype=int64)\n    243         if self._final_estimator is not None:\n    244             self._final_estimator.fit(Xt, yt, **fit_params)\n    245         return self\n    246 \n\n...........................................................................\nC:\\ProgramData\\Anaconda3\\lib\\site-packages\\imblearn\\pipeline.py in _fit(self=Pipeline(memory=None,\n     steps=[('sampler', Ra...      random_state=494641112, splitter='best'))]), X=array([[12241,    33,     4,     7,     3,     1...  15,\n           24,     7,     1]], dtype=int64), y=array([0], dtype=int64), **fit_params={})\n    200                         cloned_transformer, None, Xt, yt,\n    201                         **fit_params_steps[name])\n    202                 elif hasattr(cloned_transformer, \"sample\"):\n    203                     Xt, yt, fitted_transformer = fit_sample_one_cached(\n    204                         cloned_transformer, Xt, yt,\n--> 205                         **fit_params_steps[name])\n        fit_params_steps = {'classifier': {}, 'sampler': {}}\n        name = 'sampler'\n    206                 # Replace the transformer of the step with the fitted\n    207                 # transformer. This is necessary when loading the transformer\n    208                 # from the cache.\n    209                 self.steps[step_idx] = (name, fitted_transformer)\n\n...........................................................................\nC:\\ProgramData\\Anaconda3\\lib\\site-packages\\sklearn\\externals\\joblib\\memory.py in __call__(self=NotMemorizedFunc(func=<function _fit_sample_one at 0x0000029C880DF048>), *args=(RandomUnderSampler(random_state=1060884366, rati...eplacement=False,\n          return_indices=False), array([[12241,    33,     4,     7,     3,     1...  15,\n           24,     7,     1]], dtype=int64), array([0], dtype=int64)), **kwargs={})\n    357     # Should be a light as possible (for speed)\n    358     def __init__(self, func):\n    359         self.func = func\n    360 \n    361     def __call__(self, *args, **kwargs):\n--> 362         return self.func(*args, **kwargs)\n        self.func = <function _fit_sample_one>\n        args = (RandomUnderSampler(random_state=1060884366, rati...eplacement=False,\n          return_indices=False), array([[12241,    33,     4,     7,     3,     1...  15,\n           24,     7,     1]], dtype=int64), array([0], dtype=int64))\n        kwargs = {}\n    363 \n    364     def call_and_shelve(self, *args, **kwargs):\n    365         return NotMemorizedResult(self.func(*args, **kwargs))\n    366 \n\n...........................................................................\nC:\\ProgramData\\Anaconda3\\lib\\site-packages\\imblearn\\pipeline.py in _fit_sample_one(sampler=RandomUnderSampler(random_state=1060884366, rati...eplacement=False,\n          return_indices=False), X=array([[12241,    33,     4,     7,     3,     1...  15,\n           24,     7,     1]], dtype=int64), y=array([0], dtype=int64), **fit_params={})\n    598         return res, transformer\n    599     return res * weight, transformer\n    600 \n    601 \n    602 def _fit_sample_one(sampler, X, y, **fit_params):\n--> 603     X_res, y_res = sampler.fit_sample(X, y, **fit_params)\n        X_res = undefined\n        y_res = undefined\n        sampler.fit_sample = <bound method SamplerMixin.fit_sample of RandomU...placement=False,\n          return_indices=False)>\n        X = array([[12241,    33,     4,     7,     3,     1...  15,\n           24,     7,     1]], dtype=int64)\n        y = array([0], dtype=int64)\n        fit_params = {}\n    604 \n    605     return X_res, y_res, sampler\n    606 \n    607 \n\n...........................................................................\nC:\\ProgramData\\Anaconda3\\lib\\site-packages\\imblearn\\base.py in fit_sample(self=RandomUnderSampler(random_state=1060884366, rati...eplacement=False,\n          return_indices=False), X=array([[12241,    33,     4,     7,     3,     1...  15,\n           24,     7,     1]], dtype=int64), y=array([0], dtype=int64))\n     83         y_resampled : array-like, shape (n_samples_new,)\n     84             The corresponding label of `X_resampled`\n     85 \n     86         \"\"\"\n     87 \n---> 88         return self.fit(X, y).sample(X, y)\n        self.fit = <bound method BaseSampler.fit of RandomUnderSamp...placement=False,\n          return_indices=False)>\n        X = array([[12241,    33,     4,     7,     3,     1...  15,\n           24,     7,     1]], dtype=int64)\n        y.sample = undefined\n        y = array([0], dtype=int64)\n     89 \n     90     @abstractmethod\n     91     def _sample(self, X, y):\n     92         \"\"\"Resample the dataset.\n\n...........................................................................\nC:\\ProgramData\\Anaconda3\\lib\\site-packages\\imblearn\\base.py in fit(self=RandomUnderSampler(random_state=1060884366, rati...eplacement=False,\n          return_indices=False), X=array([[12241,    33,     4,     7,     3,     1...  15,\n           24,     7,     1]], dtype=int64), y=array([0], dtype=int64))\n    156         \"\"\"\n    157         X, y = check_X_y(X, y, accept_sparse=['csr', 'csc'])\n    158         y = check_target_type(y)\n    159         self.X_hash_, self.y_hash_ = hash_X_y(X, y)\n    160         # self.sampling_type is already checked in check_ratio\n--> 161         self.ratio_ = check_ratio(self.ratio, y, self._sampling_type)\n        self.ratio_ = undefined\n        self.ratio = 'auto'\n        y = array([0], dtype=int64)\n        self._sampling_type = 'under-sampling'\n    162 \n    163         return self\n\n...........................................................................\nC:\\ProgramData\\Anaconda3\\lib\\site-packages\\imblearn\\utils\\validation.py in check_ratio(ratio='auto', y=array([0], dtype=int64), sampling_type='under-sampling', **kwargs={})\n    317         raise ValueError(\"'sampling_type' should be one of {}. Got '{}'\"\n    318                          \" instead.\".format(SAMPLING_KIND, sampling_type))\n    319 \n    320     if np.unique(y).size <= 1:\n    321         raise ValueError(\"The target 'y' needs to have more than 1 class.\"\n--> 322                          \" Got {} class instead\".format(np.unique(y).size))\n        y.size = 1\n    323 \n    324     if sampling_type == 'ensemble':\n    325         return ratio\n    326 \n\nValueError: The target 'y' needs to have more than 1 class. Got 1 class instead\n___________________________________________________________________________\n\"\"\"",
      "\nThe above exception was the direct cause of the following exception:\n",
      "\u001b[0;31mTransportableException\u001b[0m                    Traceback (most recent call last)",
      "\u001b[0;32mC:\\ProgramData\\Anaconda3\\lib\\site-packages\\sklearn\\externals\\joblib\\parallel.py\u001b[0m in \u001b[0;36mretrieve\u001b[0;34m(self)\u001b[0m\n\u001b[1;32m    698\u001b[0m                 \u001b[1;32mif\u001b[0m \u001b[0mgetattr\u001b[0m\u001b[1;33m(\u001b[0m\u001b[0mself\u001b[0m\u001b[1;33m.\u001b[0m\u001b[0m_backend\u001b[0m\u001b[1;33m,\u001b[0m \u001b[1;34m'supports_timeout'\u001b[0m\u001b[1;33m,\u001b[0m \u001b[1;32mFalse\u001b[0m\u001b[1;33m)\u001b[0m\u001b[1;33m:\u001b[0m\u001b[1;33m\u001b[0m\u001b[0m\n\u001b[0;32m--> 699\u001b[0;31m                     \u001b[0mself\u001b[0m\u001b[1;33m.\u001b[0m\u001b[0m_output\u001b[0m\u001b[1;33m.\u001b[0m\u001b[0mextend\u001b[0m\u001b[1;33m(\u001b[0m\u001b[0mjob\u001b[0m\u001b[1;33m.\u001b[0m\u001b[0mget\u001b[0m\u001b[1;33m(\u001b[0m\u001b[0mtimeout\u001b[0m\u001b[1;33m=\u001b[0m\u001b[0mself\u001b[0m\u001b[1;33m.\u001b[0m\u001b[0mtimeout\u001b[0m\u001b[1;33m)\u001b[0m\u001b[1;33m)\u001b[0m\u001b[1;33m\u001b[0m\u001b[0m\n\u001b[0m\u001b[1;32m    700\u001b[0m                 \u001b[1;32melse\u001b[0m\u001b[1;33m:\u001b[0m\u001b[1;33m\u001b[0m\u001b[0m\n",
      "\u001b[0;32mC:\\ProgramData\\Anaconda3\\lib\\multiprocessing\\pool.py\u001b[0m in \u001b[0;36mget\u001b[0;34m(self, timeout)\u001b[0m\n\u001b[1;32m    607\u001b[0m         \u001b[1;32melse\u001b[0m\u001b[1;33m:\u001b[0m\u001b[1;33m\u001b[0m\u001b[0m\n\u001b[0;32m--> 608\u001b[0;31m             \u001b[1;32mraise\u001b[0m \u001b[0mself\u001b[0m\u001b[1;33m.\u001b[0m\u001b[0m_value\u001b[0m\u001b[1;33m\u001b[0m\u001b[0m\n\u001b[0m\u001b[1;32m    609\u001b[0m \u001b[1;33m\u001b[0m\u001b[0m\n",
      "\u001b[0;31mTransportableException\u001b[0m: TransportableException\n___________________________________________________________________________\nValueError                                         Sun Apr  1 17:38:41 2018\nPID: 10092                Python 3.6.0: C:\\ProgramData\\Anaconda3\\python.exe\n...........................................................................\nC:\\ProgramData\\Anaconda3\\lib\\site-packages\\sklearn\\externals\\joblib\\parallel.py in __call__(self=<sklearn.externals.joblib.parallel.BatchedCalls object>)\n    126     def __init__(self, iterator_slice):\n    127         self.items = list(iterator_slice)\n    128         self._size = len(self.items)\n    129 \n    130     def __call__(self):\n--> 131         return [func(*args, **kwargs) for func, args, kwargs in self.items]\n        self.items = [(<function _fit_and_score>, (BalancedBaggingClassifier(base_estimator=None, b..., replacement=False, verbose=0, warm_start=False),          user_id  campaign_id  communication_typ...7      5          0  \n\n[767393 rows x 12 columns], 51296      0\n239855     0\n36532      0\n823034   ...2     0\n488647     0\nName: is_click, dtype: int64, {'score': make_scorer(roc_auc_score, needs_threshold=True)}, memmap([ 76716,  76717,  76718, ..., 767390, 767391, 767392]), array([    0,     1,     2, ..., 78584, 78621, 78674]), 0, {'max_samples': 1, 'n_estimators': 50}), {'error_score': 'raise', 'fit_params': {}, 'return_n_test_samples': True, 'return_parameters': False, 'return_times': True, 'return_train_score': 'warn'})]\n    132 \n    133     def __len__(self):\n    134         return self._size\n    135 \n\n...........................................................................\nC:\\ProgramData\\Anaconda3\\lib\\site-packages\\sklearn\\externals\\joblib\\parallel.py in <listcomp>(.0=<list_iterator object>)\n    126     def __init__(self, iterator_slice):\n    127         self.items = list(iterator_slice)\n    128         self._size = len(self.items)\n    129 \n    130     def __call__(self):\n--> 131         return [func(*args, **kwargs) for func, args, kwargs in self.items]\n        func = <function _fit_and_score>\n        args = (BalancedBaggingClassifier(base_estimator=None, b..., replacement=False, verbose=0, warm_start=False),          user_id  campaign_id  communication_typ...7      5          0  \n\n[767393 rows x 12 columns], 51296      0\n239855     0\n36532      0\n823034   ...2     0\n488647     0\nName: is_click, dtype: int64, {'score': make_scorer(roc_auc_score, needs_threshold=True)}, memmap([ 76716,  76717,  76718, ..., 767390, 767391, 767392]), array([    0,     1,     2, ..., 78584, 78621, 78674]), 0, {'max_samples': 1, 'n_estimators': 50})\n        kwargs = {'error_score': 'raise', 'fit_params': {}, 'return_n_test_samples': True, 'return_parameters': False, 'return_times': True, 'return_train_score': 'warn'}\n    132 \n    133     def __len__(self):\n    134         return self._size\n    135 \n\n...........................................................................\nC:\\ProgramData\\Anaconda3\\lib\\site-packages\\sklearn\\model_selection\\_validation.py in _fit_and_score(estimator=BalancedBaggingClassifier(base_estimator=None, b..., replacement=False, verbose=0, warm_start=False), X=         user_id  campaign_id  communication_typ...7      5          0  \n\n[767393 rows x 12 columns], y=51296      0\n239855     0\n36532      0\n823034   ...2     0\n488647     0\nName: is_click, dtype: int64, scorer={'score': make_scorer(roc_auc_score, needs_threshold=True)}, train=memmap([ 76716,  76717,  76718, ..., 767390, 767391, 767392]), test=array([    0,     1,     2, ..., 78584, 78621, 78674]), verbose=0, parameters={'max_samples': 1, 'n_estimators': 50}, fit_params={}, return_train_score='warn', return_parameters=False, return_n_test_samples=True, return_times=True, error_score='raise')\n    453 \n    454     try:\n    455         if y_train is None:\n    456             estimator.fit(X_train, **fit_params)\n    457         else:\n--> 458             estimator.fit(X_train, y_train, **fit_params)\n        estimator.fit = <bound method BalancedBaggingClassifier.fit of B... replacement=False, verbose=0, warm_start=False)>\n        X_train =          user_id  campaign_id  communication_typ...7      5          0  \n\n[690653 rows x 12 columns]\n        y_train = 65342      0\n622123     0\n60127      0\n453900   ...2     0\n488647     0\nName: is_click, dtype: int64\n        fit_params = {}\n    459 \n    460     except Exception as e:\n    461         # Note fit time as time until error\n    462         fit_time = time.time() - start_time\n\n...........................................................................\nC:\\ProgramData\\Anaconda3\\lib\\site-packages\\imblearn\\ensemble\\classifier.py in fit(self=BalancedBaggingClassifier(base_estimator=None, b..., replacement=False, verbose=0, warm_start=False), X=         user_id  campaign_id  communication_typ...7      5          0  \n\n[690653 rows x 12 columns], y=65342      0\n622123     0\n60127      0\n453900   ...2     0\n488647     0\nName: is_click, dtype: int64)\n    253         self : object\n    254             Returns self.\n    255         \"\"\"\n    256         # RandomUnderSampler is not supporting sample_weight. We need to pass\n    257         # None.\n--> 258         return self._fit(X, y, self.max_samples, sample_weight=None)\n        self._fit = <bound method BaseBagging._fit of BalancedBaggin... replacement=False, verbose=0, warm_start=False)>\n        X =          user_id  campaign_id  communication_typ...7      5          0  \n\n[690653 rows x 12 columns]\n        y = 65342      0\n622123     0\n60127      0\n453900   ...2     0\n488647     0\nName: is_click, dtype: int64\n        self.max_samples = 1\n\n...........................................................................\nC:\\ProgramData\\Anaconda3\\lib\\site-packages\\sklearn\\ensemble\\bagging.py in _fit(self=BalancedBaggingClassifier(base_estimator=None, b..., replacement=False, verbose=0, warm_start=False), X=array([[136359,     44,      5, ...,      9,    ...   5, ...,      7,      5,      0]], dtype=int64), y=array([0, 0, 0, ..., 0, 0, 0], dtype=int64), max_samples=1, max_depth=None, sample_weight=None)\n    370                 y,\n    371                 sample_weight,\n    372                 seeds[starts[i]:starts[i + 1]],\n    373                 total_n_estimators,\n    374                 verbose=self.verbose)\n--> 375             for i in range(n_jobs))\n        n_jobs = 1\n    376 \n    377         # Reduce\n    378         self.estimators_ += list(itertools.chain.from_iterable(\n    379             t[0] for t in all_results))\n\n...........................................................................\nC:\\ProgramData\\Anaconda3\\lib\\site-packages\\sklearn\\externals\\joblib\\parallel.py in __call__(self=Parallel(n_jobs=1), iterable=<generator object BaseBagging._fit.<locals>.<genexpr>>)\n    774         self.n_completed_tasks = 0\n    775         try:\n    776             # Only set self._iterating to True if at least a batch\n    777             # was dispatched. In particular this covers the edge\n    778             # case of Parallel used with an exhausted iterator.\n--> 779             while self.dispatch_one_batch(iterator):\n        self.dispatch_one_batch = <bound method Parallel.dispatch_one_batch of Parallel(n_jobs=1)>\n        iterator = <generator object BaseBagging._fit.<locals>.<genexpr>>\n    780                 self._iterating = True\n    781             else:\n    782                 self._iterating = False\n    783 \n\n...........................................................................\nC:\\ProgramData\\Anaconda3\\lib\\site-packages\\sklearn\\externals\\joblib\\parallel.py in dispatch_one_batch(self=Parallel(n_jobs=1), iterator=<generator object BaseBagging._fit.<locals>.<genexpr>>)\n    620             tasks = BatchedCalls(itertools.islice(iterator, batch_size))\n    621             if len(tasks) == 0:\n    622                 # No more tasks available in the iterator: tell caller to stop.\n    623                 return False\n    624             else:\n--> 625                 self._dispatch(tasks)\n        self._dispatch = <bound method Parallel._dispatch of Parallel(n_jobs=1)>\n        tasks = <sklearn.externals.joblib.parallel.BatchedCalls object>\n    626                 return True\n    627 \n    628     def _print(self, msg, msg_args):\n    629         \"\"\"Display the message on stout or stderr depending on verbosity\"\"\"\n\n...........................................................................\nC:\\ProgramData\\Anaconda3\\lib\\site-packages\\sklearn\\externals\\joblib\\parallel.py in _dispatch(self=Parallel(n_jobs=1), batch=<sklearn.externals.joblib.parallel.BatchedCalls object>)\n    583         self.n_dispatched_tasks += len(batch)\n    584         self.n_dispatched_batches += 1\n    585 \n    586         dispatch_timestamp = time.time()\n    587         cb = BatchCompletionCallBack(dispatch_timestamp, len(batch), self)\n--> 588         job = self._backend.apply_async(batch, callback=cb)\n        job = undefined\n        self._backend.apply_async = <bound method SequentialBackend.apply_async of <...lib._parallel_backends.SequentialBackend object>>\n        batch = <sklearn.externals.joblib.parallel.BatchedCalls object>\n        cb = <sklearn.externals.joblib.parallel.BatchCompletionCallBack object>\n    589         self._jobs.append(job)\n    590 \n    591     def dispatch_next(self):\n    592         \"\"\"Dispatch more data for parallel processing\n\n...........................................................................\nC:\\ProgramData\\Anaconda3\\lib\\site-packages\\sklearn\\externals\\joblib\\_parallel_backends.py in apply_async(self=<sklearn.externals.joblib._parallel_backends.SequentialBackend object>, func=<sklearn.externals.joblib.parallel.BatchedCalls object>, callback=<sklearn.externals.joblib.parallel.BatchCompletionCallBack object>)\n    106             raise ValueError('n_jobs == 0 in Parallel has no meaning')\n    107         return 1\n    108 \n    109     def apply_async(self, func, callback=None):\n    110         \"\"\"Schedule a func to be run\"\"\"\n--> 111         result = ImmediateResult(func)\n        result = undefined\n        func = <sklearn.externals.joblib.parallel.BatchedCalls object>\n    112         if callback:\n    113             callback(result)\n    114         return result\n    115 \n\n...........................................................................\nC:\\ProgramData\\Anaconda3\\lib\\site-packages\\sklearn\\externals\\joblib\\_parallel_backends.py in __init__(self=<sklearn.externals.joblib._parallel_backends.ImmediateResult object>, batch=<sklearn.externals.joblib.parallel.BatchedCalls object>)\n    327 \n    328 class ImmediateResult(object):\n    329     def __init__(self, batch):\n    330         # Don't delay the application, to avoid keeping the input\n    331         # arguments in memory\n--> 332         self.results = batch()\n        self.results = undefined\n        batch = <sklearn.externals.joblib.parallel.BatchedCalls object>\n    333 \n    334     def get(self):\n    335         return self.results\n    336 \n\n...........................................................................\nC:\\ProgramData\\Anaconda3\\lib\\site-packages\\sklearn\\externals\\joblib\\parallel.py in __call__(self=<sklearn.externals.joblib.parallel.BatchedCalls object>)\n    126     def __init__(self, iterator_slice):\n    127         self.items = list(iterator_slice)\n    128         self._size = len(self.items)\n    129 \n    130     def __call__(self):\n--> 131         return [func(*args, **kwargs) for func, args, kwargs in self.items]\n        self.items = [(<function _parallel_build_estimators>, (50, BalancedBaggingClassifier(base_estimator=None, b..., replacement=False, verbose=0, warm_start=False), array([[136359,     44,      5, ...,      9,    ...   5, ...,      7,      5,      0]], dtype=int64), array([0, 0, 0, ..., 0, 0, 0], dtype=int64), None, array([ 870327671, 1434472298, 1547660960,  4530...   62630978, 1853477837,   56872284, 1599684455]), 50), {'verbose': 0})]\n    132 \n    133     def __len__(self):\n    134         return self._size\n    135 \n\n...........................................................................\nC:\\ProgramData\\Anaconda3\\lib\\site-packages\\sklearn\\externals\\joblib\\parallel.py in <listcomp>(.0=<list_iterator object>)\n    126     def __init__(self, iterator_slice):\n    127         self.items = list(iterator_slice)\n    128         self._size = len(self.items)\n    129 \n    130     def __call__(self):\n--> 131         return [func(*args, **kwargs) for func, args, kwargs in self.items]\n        func = <function _parallel_build_estimators>\n        args = (50, BalancedBaggingClassifier(base_estimator=None, b..., replacement=False, verbose=0, warm_start=False), array([[136359,     44,      5, ...,      9,    ...   5, ...,      7,      5,      0]], dtype=int64), array([0, 0, 0, ..., 0, 0, 0], dtype=int64), None, array([ 870327671, 1434472298, 1547660960,  4530...   62630978, 1853477837,   56872284, 1599684455]), 50)\n        kwargs = {'verbose': 0}\n    132 \n    133     def __len__(self):\n    134         return self._size\n    135 \n\n...........................................................................\nC:\\ProgramData\\Anaconda3\\lib\\site-packages\\sklearn\\ensemble\\bagging.py in _parallel_build_estimators(n_estimators=50, ensemble=BalancedBaggingClassifier(base_estimator=None, b..., replacement=False, verbose=0, warm_start=False), X=array([[136359,     44,      5, ...,      9,    ...   5, ...,      7,      5,      0]], dtype=int64), y=array([0, 0, 0, ..., 0, 0, 0], dtype=int64), sample_weight=None, seeds=array([ 870327671, 1434472298, 1547660960,  4530...   62630978, 1853477837,   56872284, 1599684455]), total_n_estimators=50, verbose=0)\n    111 \n    112             estimator.fit(X[:, features], y, sample_weight=curr_sample_weight)\n    113 \n    114         # Draw samples, using a mask, and then fit\n    115         else:\n--> 116             estimator.fit((X[indices])[:, features], y[indices])\n        estimator.fit = <bound method Pipeline.fit of Pipeline(memory=No...     random_state=494641112, splitter='best'))])>\n        X = array([[136359,     44,      5, ...,      9,    ...   5, ...,      7,      5,      0]], dtype=int64)\n        indices = array([153815])\n        features = array([ 0,  1,  2,  3,  4,  5,  6,  7,  8,  9, 10, 11])\n        y = array([0, 0, 0, ..., 0, 0, 0], dtype=int64)\n    117 \n    118         estimators.append(estimator)\n    119         estimators_features.append(features)\n    120 \n\n...........................................................................\nC:\\ProgramData\\Anaconda3\\lib\\site-packages\\imblearn\\pipeline.py in fit(self=Pipeline(memory=None,\n     steps=[('sampler', Ra...      random_state=494641112, splitter='best'))]), X=array([[12241,    33,     4,     7,     3,     1...  15,\n           24,     7,     1]], dtype=int64), y=array([0], dtype=int64), **fit_params={})\n    237         -------\n    238         self : Pipeline\n    239             This estimator\n    240 \n    241         \"\"\"\n--> 242         Xt, yt, fit_params = self._fit(X, y, **fit_params)\n        Xt = undefined\n        yt = undefined\n        fit_params = {}\n        self._fit = <bound method Pipeline._fit of Pipeline(memory=N...     random_state=494641112, splitter='best'))])>\n        X = array([[12241,    33,     4,     7,     3,     1...  15,\n           24,     7,     1]], dtype=int64)\n        y = array([0], dtype=int64)\n    243         if self._final_estimator is not None:\n    244             self._final_estimator.fit(Xt, yt, **fit_params)\n    245         return self\n    246 \n\n...........................................................................\nC:\\ProgramData\\Anaconda3\\lib\\site-packages\\imblearn\\pipeline.py in _fit(self=Pipeline(memory=None,\n     steps=[('sampler', Ra...      random_state=494641112, splitter='best'))]), X=array([[12241,    33,     4,     7,     3,     1...  15,\n           24,     7,     1]], dtype=int64), y=array([0], dtype=int64), **fit_params={})\n    200                         cloned_transformer, None, Xt, yt,\n    201                         **fit_params_steps[name])\n    202                 elif hasattr(cloned_transformer, \"sample\"):\n    203                     Xt, yt, fitted_transformer = fit_sample_one_cached(\n    204                         cloned_transformer, Xt, yt,\n--> 205                         **fit_params_steps[name])\n        fit_params_steps = {'classifier': {}, 'sampler': {}}\n        name = 'sampler'\n    206                 # Replace the transformer of the step with the fitted\n    207                 # transformer. This is necessary when loading the transformer\n    208                 # from the cache.\n    209                 self.steps[step_idx] = (name, fitted_transformer)\n\n...........................................................................\nC:\\ProgramData\\Anaconda3\\lib\\site-packages\\sklearn\\externals\\joblib\\memory.py in __call__(self=NotMemorizedFunc(func=<function _fit_sample_one at 0x0000029C880DF048>), *args=(RandomUnderSampler(random_state=1060884366, rati...eplacement=False,\n          return_indices=False), array([[12241,    33,     4,     7,     3,     1...  15,\n           24,     7,     1]], dtype=int64), array([0], dtype=int64)), **kwargs={})\n    357     # Should be a light as possible (for speed)\n    358     def __init__(self, func):\n    359         self.func = func\n    360 \n    361     def __call__(self, *args, **kwargs):\n--> 362         return self.func(*args, **kwargs)\n        self.func = <function _fit_sample_one>\n        args = (RandomUnderSampler(random_state=1060884366, rati...eplacement=False,\n          return_indices=False), array([[12241,    33,     4,     7,     3,     1...  15,\n           24,     7,     1]], dtype=int64), array([0], dtype=int64))\n        kwargs = {}\n    363 \n    364     def call_and_shelve(self, *args, **kwargs):\n    365         return NotMemorizedResult(self.func(*args, **kwargs))\n    366 \n\n...........................................................................\nC:\\ProgramData\\Anaconda3\\lib\\site-packages\\imblearn\\pipeline.py in _fit_sample_one(sampler=RandomUnderSampler(random_state=1060884366, rati...eplacement=False,\n          return_indices=False), X=array([[12241,    33,     4,     7,     3,     1...  15,\n           24,     7,     1]], dtype=int64), y=array([0], dtype=int64), **fit_params={})\n    598         return res, transformer\n    599     return res * weight, transformer\n    600 \n    601 \n    602 def _fit_sample_one(sampler, X, y, **fit_params):\n--> 603     X_res, y_res = sampler.fit_sample(X, y, **fit_params)\n        X_res = undefined\n        y_res = undefined\n        sampler.fit_sample = <bound method SamplerMixin.fit_sample of RandomU...placement=False,\n          return_indices=False)>\n        X = array([[12241,    33,     4,     7,     3,     1...  15,\n           24,     7,     1]], dtype=int64)\n        y = array([0], dtype=int64)\n        fit_params = {}\n    604 \n    605     return X_res, y_res, sampler\n    606 \n    607 \n\n...........................................................................\nC:\\ProgramData\\Anaconda3\\lib\\site-packages\\imblearn\\base.py in fit_sample(self=RandomUnderSampler(random_state=1060884366, rati...eplacement=False,\n          return_indices=False), X=array([[12241,    33,     4,     7,     3,     1...  15,\n           24,     7,     1]], dtype=int64), y=array([0], dtype=int64))\n     83         y_resampled : array-like, shape (n_samples_new,)\n     84             The corresponding label of `X_resampled`\n     85 \n     86         \"\"\"\n     87 \n---> 88         return self.fit(X, y).sample(X, y)\n        self.fit = <bound method BaseSampler.fit of RandomUnderSamp...placement=False,\n          return_indices=False)>\n        X = array([[12241,    33,     4,     7,     3,     1...  15,\n           24,     7,     1]], dtype=int64)\n        y.sample = undefined\n        y = array([0], dtype=int64)\n     89 \n     90     @abstractmethod\n     91     def _sample(self, X, y):\n     92         \"\"\"Resample the dataset.\n\n...........................................................................\nC:\\ProgramData\\Anaconda3\\lib\\site-packages\\imblearn\\base.py in fit(self=RandomUnderSampler(random_state=1060884366, rati...eplacement=False,\n          return_indices=False), X=array([[12241,    33,     4,     7,     3,     1...  15,\n           24,     7,     1]], dtype=int64), y=array([0], dtype=int64))\n    156         \"\"\"\n    157         X, y = check_X_y(X, y, accept_sparse=['csr', 'csc'])\n    158         y = check_target_type(y)\n    159         self.X_hash_, self.y_hash_ = hash_X_y(X, y)\n    160         # self.sampling_type is already checked in check_ratio\n--> 161         self.ratio_ = check_ratio(self.ratio, y, self._sampling_type)\n        self.ratio_ = undefined\n        self.ratio = 'auto'\n        y = array([0], dtype=int64)\n        self._sampling_type = 'under-sampling'\n    162 \n    163         return self\n\n...........................................................................\nC:\\ProgramData\\Anaconda3\\lib\\site-packages\\imblearn\\utils\\validation.py in check_ratio(ratio='auto', y=array([0], dtype=int64), sampling_type='under-sampling', **kwargs={})\n    317         raise ValueError(\"'sampling_type' should be one of {}. Got '{}'\"\n    318                          \" instead.\".format(SAMPLING_KIND, sampling_type))\n    319 \n    320     if np.unique(y).size <= 1:\n    321         raise ValueError(\"The target 'y' needs to have more than 1 class.\"\n--> 322                          \" Got {} class instead\".format(np.unique(y).size))\n        y.size = 1\n    323 \n    324     if sampling_type == 'ensemble':\n    325         return ratio\n    326 \n\nValueError: The target 'y' needs to have more than 1 class. Got 1 class instead\n___________________________________________________________________________",
      "\nDuring handling of the above exception, another exception occurred:\n",
      "\u001b[0;31mJoblibValueError\u001b[0m                          Traceback (most recent call last)",
      "\u001b[0;32m<ipython-input-17-93531f87d60f>\u001b[0m in \u001b[0;36m<module>\u001b[0;34m()\u001b[0m\n\u001b[1;32m      5\u001b[0m \u001b[1;31m#state = np.array(list(range(25)))\u001b[0m\u001b[1;33m\u001b[0m\u001b[1;33m\u001b[0m\u001b[0m\n\u001b[1;32m      6\u001b[0m \u001b[0mgrid\u001b[0m \u001b[1;33m=\u001b[0m \u001b[0mGridSearchCV\u001b[0m\u001b[1;33m(\u001b[0m\u001b[0mBalancedBaggingClassifier\u001b[0m\u001b[1;33m(\u001b[0m\u001b[1;33m)\u001b[0m\u001b[1;33m,\u001b[0m \u001b[0mcv_params\u001b[0m\u001b[1;33m,\u001b[0m \u001b[0mscoring\u001b[0m \u001b[1;33m=\u001b[0m \u001b[1;34m'roc_auc'\u001b[0m\u001b[1;33m,\u001b[0m \u001b[0mcv\u001b[0m \u001b[1;33m=\u001b[0m \u001b[1;36m10\u001b[0m\u001b[1;33m,\u001b[0m \u001b[0mn_jobs\u001b[0m \u001b[1;33m=\u001b[0m \u001b[1;33m-\u001b[0m\u001b[1;36m1\u001b[0m\u001b[1;33m)\u001b[0m\u001b[1;33m\u001b[0m\u001b[0m\n\u001b[0;32m----> 7\u001b[0;31m \u001b[0mgrid\u001b[0m\u001b[1;33m.\u001b[0m\u001b[0mfit\u001b[0m\u001b[1;33m(\u001b[0m\u001b[0mx_train\u001b[0m\u001b[1;33m,\u001b[0m\u001b[0my_train\u001b[0m\u001b[1;33m)\u001b[0m\u001b[1;33m\u001b[0m\u001b[0m\n\u001b[0m\u001b[1;32m      8\u001b[0m \u001b[0mprint\u001b[0m\u001b[1;33m(\u001b[0m\u001b[1;34m'Best log_loss: {:.4}, with best{}'\u001b[0m\u001b[1;33m.\u001b[0m\u001b[0mformat\u001b[0m\u001b[1;33m(\u001b[0m\u001b[0mgrid\u001b[0m\u001b[1;33m.\u001b[0m\u001b[0mbest_score_\u001b[0m\u001b[1;33m,\u001b[0m \u001b[0mgrid\u001b[0m\u001b[1;33m.\u001b[0m\u001b[0mbest_params_\u001b[0m\u001b[1;33m)\u001b[0m\u001b[1;33m)\u001b[0m\u001b[1;33m\u001b[0m\u001b[0m\n\u001b[1;32m      9\u001b[0m \u001b[0mbbc_pred\u001b[0m \u001b[1;33m=\u001b[0m \u001b[0mgrid\u001b[0m\u001b[1;33m.\u001b[0m\u001b[0mpredict\u001b[0m\u001b[1;33m(\u001b[0m\u001b[0mx_test\u001b[0m\u001b[1;33m)\u001b[0m\u001b[1;33m\u001b[0m\u001b[0m\n",
      "\u001b[0;32mC:\\ProgramData\\Anaconda3\\lib\\site-packages\\sklearn\\model_selection\\_search.py\u001b[0m in \u001b[0;36mfit\u001b[0;34m(self, X, y, groups, **fit_params)\u001b[0m\n\u001b[1;32m    637\u001b[0m                                   error_score=self.error_score)\n\u001b[1;32m    638\u001b[0m           for parameters, (train, test) in product(candidate_params,\n\u001b[0;32m--> 639\u001b[0;31m                                                    cv.split(X, y, groups)))\n\u001b[0m\u001b[1;32m    640\u001b[0m \u001b[1;33m\u001b[0m\u001b[0m\n\u001b[1;32m    641\u001b[0m         \u001b[1;31m# if one choose to see train score, \"out\" will contain train score info\u001b[0m\u001b[1;33m\u001b[0m\u001b[1;33m\u001b[0m\u001b[0m\n",
      "\u001b[0;32mC:\\ProgramData\\Anaconda3\\lib\\site-packages\\sklearn\\externals\\joblib\\parallel.py\u001b[0m in \u001b[0;36m__call__\u001b[0;34m(self, iterable)\u001b[0m\n\u001b[1;32m    787\u001b[0m                 \u001b[1;31m# consumption.\u001b[0m\u001b[1;33m\u001b[0m\u001b[1;33m\u001b[0m\u001b[0m\n\u001b[1;32m    788\u001b[0m                 \u001b[0mself\u001b[0m\u001b[1;33m.\u001b[0m\u001b[0m_iterating\u001b[0m \u001b[1;33m=\u001b[0m \u001b[1;32mFalse\u001b[0m\u001b[1;33m\u001b[0m\u001b[0m\n\u001b[0;32m--> 789\u001b[0;31m             \u001b[0mself\u001b[0m\u001b[1;33m.\u001b[0m\u001b[0mretrieve\u001b[0m\u001b[1;33m(\u001b[0m\u001b[1;33m)\u001b[0m\u001b[1;33m\u001b[0m\u001b[0m\n\u001b[0m\u001b[1;32m    790\u001b[0m             \u001b[1;31m# Make sure that we get a last message telling us we are done\u001b[0m\u001b[1;33m\u001b[0m\u001b[1;33m\u001b[0m\u001b[0m\n\u001b[1;32m    791\u001b[0m             \u001b[0melapsed_time\u001b[0m \u001b[1;33m=\u001b[0m \u001b[0mtime\u001b[0m\u001b[1;33m.\u001b[0m\u001b[0mtime\u001b[0m\u001b[1;33m(\u001b[0m\u001b[1;33m)\u001b[0m \u001b[1;33m-\u001b[0m \u001b[0mself\u001b[0m\u001b[1;33m.\u001b[0m\u001b[0m_start_time\u001b[0m\u001b[1;33m\u001b[0m\u001b[0m\n",
      "\u001b[0;32mC:\\ProgramData\\Anaconda3\\lib\\site-packages\\sklearn\\externals\\joblib\\parallel.py\u001b[0m in \u001b[0;36mretrieve\u001b[0;34m(self)\u001b[0m\n\u001b[1;32m    738\u001b[0m                     \u001b[0mexception\u001b[0m \u001b[1;33m=\u001b[0m \u001b[0mexception_type\u001b[0m\u001b[1;33m(\u001b[0m\u001b[0mreport\u001b[0m\u001b[1;33m)\u001b[0m\u001b[1;33m\u001b[0m\u001b[0m\n\u001b[1;32m    739\u001b[0m \u001b[1;33m\u001b[0m\u001b[0m\n\u001b[0;32m--> 740\u001b[0;31m                     \u001b[1;32mraise\u001b[0m \u001b[0mexception\u001b[0m\u001b[1;33m\u001b[0m\u001b[0m\n\u001b[0m\u001b[1;32m    741\u001b[0m \u001b[1;33m\u001b[0m\u001b[0m\n\u001b[1;32m    742\u001b[0m     \u001b[1;32mdef\u001b[0m \u001b[0m__call__\u001b[0m\u001b[1;33m(\u001b[0m\u001b[0mself\u001b[0m\u001b[1;33m,\u001b[0m \u001b[0miterable\u001b[0m\u001b[1;33m)\u001b[0m\u001b[1;33m:\u001b[0m\u001b[1;33m\u001b[0m\u001b[0m\n",
      "\u001b[0;31mJoblibValueError\u001b[0m: JoblibValueError\n___________________________________________________________________________\nMultiprocessing exception:\n...........................................................................\nC:\\ProgramData\\Anaconda3\\lib\\runpy.py in _run_module_as_main(mod_name='ipykernel.__main__', alter_argv=1)\n    188         sys.exit(msg)\n    189     main_globals = sys.modules[\"__main__\"].__dict__\n    190     if alter_argv:\n    191         sys.argv[0] = mod_spec.origin\n    192     return _run_code(code, main_globals, None,\n--> 193                      \"__main__\", mod_spec)\n        mod_spec = ModuleSpec(name='ipykernel.__main__', loader=<_f...da3\\\\lib\\\\site-packages\\\\ipykernel\\\\__main__.py')\n    194 \n    195 def run_module(mod_name, init_globals=None,\n    196                run_name=None, alter_sys=False):\n    197     \"\"\"Execute a module's code without importing it\n\n...........................................................................\nC:\\ProgramData\\Anaconda3\\lib\\runpy.py in _run_code(code=<code object <module> at 0x000001EEA3938C90, fil...lib\\site-packages\\ipykernel\\__main__.py\", line 1>, run_globals={'__annotations__': {}, '__builtins__': <module 'builtins' (built-in)>, '__cached__': r'C:\\ProgramData\\Anaconda3\\lib\\site-packages\\ipykernel\\__pycache__\\__main__.cpython-36.pyc', '__doc__': None, '__file__': r'C:\\ProgramData\\Anaconda3\\lib\\site-packages\\ipykernel\\__main__.py', '__loader__': <_frozen_importlib_external.SourceFileLoader object>, '__name__': '__main__', '__package__': 'ipykernel', '__spec__': ModuleSpec(name='ipykernel.__main__', loader=<_f...da3\\\\lib\\\\site-packages\\\\ipykernel\\\\__main__.py'), 'app': <module 'ipykernel.kernelapp' from 'C:\\\\ProgramD...a3\\\\lib\\\\site-packages\\\\ipykernel\\\\kernelapp.py'>}, init_globals=None, mod_name='__main__', mod_spec=ModuleSpec(name='ipykernel.__main__', loader=<_f...da3\\\\lib\\\\site-packages\\\\ipykernel\\\\__main__.py'), pkg_name='ipykernel', script_name=None)\n     80                        __cached__ = cached,\n     81                        __doc__ = None,\n     82                        __loader__ = loader,\n     83                        __package__ = pkg_name,\n     84                        __spec__ = mod_spec)\n---> 85     exec(code, run_globals)\n        code = <code object <module> at 0x000001EEA3938C90, fil...lib\\site-packages\\ipykernel\\__main__.py\", line 1>\n        run_globals = {'__annotations__': {}, '__builtins__': <module 'builtins' (built-in)>, '__cached__': r'C:\\ProgramData\\Anaconda3\\lib\\site-packages\\ipykernel\\__pycache__\\__main__.cpython-36.pyc', '__doc__': None, '__file__': r'C:\\ProgramData\\Anaconda3\\lib\\site-packages\\ipykernel\\__main__.py', '__loader__': <_frozen_importlib_external.SourceFileLoader object>, '__name__': '__main__', '__package__': 'ipykernel', '__spec__': ModuleSpec(name='ipykernel.__main__', loader=<_f...da3\\\\lib\\\\site-packages\\\\ipykernel\\\\__main__.py'), 'app': <module 'ipykernel.kernelapp' from 'C:\\\\ProgramD...a3\\\\lib\\\\site-packages\\\\ipykernel\\\\kernelapp.py'>}\n     86     return run_globals\n     87 \n     88 def _run_module_code(code, init_globals=None,\n     89                     mod_name=None, mod_spec=None,\n\n...........................................................................\nC:\\ProgramData\\Anaconda3\\lib\\site-packages\\ipykernel\\__main__.py in <module>()\n      1 if __name__ == '__main__':\n      2     from ipykernel import kernelapp as app\n----> 3     app.launch_new_instance()\n\n...........................................................................\nC:\\ProgramData\\Anaconda3\\lib\\site-packages\\traitlets\\config\\application.py in launch_instance(cls=<class 'ipykernel.kernelapp.IPKernelApp'>, argv=None, **kwargs={})\n    653 \n    654         If a global instance already exists, this reinitializes and starts it\n    655         \"\"\"\n    656         app = cls.instance(**kwargs)\n    657         app.initialize(argv)\n--> 658         app.start()\n        app.start = <bound method IPKernelApp.start of <ipykernel.kernelapp.IPKernelApp object>>\n    659 \n    660 #-----------------------------------------------------------------------------\n    661 # utility functions, for convenience\n    662 #-----------------------------------------------------------------------------\n\n...........................................................................\nC:\\ProgramData\\Anaconda3\\lib\\site-packages\\ipykernel\\kernelapp.py in start(self=<ipykernel.kernelapp.IPKernelApp object>)\n    469             return self.subapp.start()\n    470         if self.poller is not None:\n    471             self.poller.start()\n    472         self.kernel.start()\n    473         try:\n--> 474             ioloop.IOLoop.instance().start()\n    475         except KeyboardInterrupt:\n    476             pass\n    477 \n    478 launch_new_instance = IPKernelApp.launch_instance\n\n...........................................................................\nC:\\ProgramData\\Anaconda3\\lib\\site-packages\\zmq\\eventloop\\ioloop.py in start(self=<zmq.eventloop.ioloop.ZMQIOLoop object>)\n    172             )\n    173         return loop\n    174     \n    175     def start(self):\n    176         try:\n--> 177             super(ZMQIOLoop, self).start()\n        self.start = <bound method ZMQIOLoop.start of <zmq.eventloop.ioloop.ZMQIOLoop object>>\n    178         except ZMQError as e:\n    179             if e.errno == ETERM:\n    180                 # quietly return on ETERM\n    181                 pass\n\n...........................................................................\nC:\\ProgramData\\Anaconda3\\lib\\site-packages\\tornado\\ioloop.py in start(self=<zmq.eventloop.ioloop.ZMQIOLoop object>)\n    882                 self._events.update(event_pairs)\n    883                 while self._events:\n    884                     fd, events = self._events.popitem()\n    885                     try:\n    886                         fd_obj, handler_func = self._handlers[fd]\n--> 887                         handler_func(fd_obj, events)\n        handler_func = <function wrap.<locals>.null_wrapper>\n        fd_obj = <zmq.sugar.socket.Socket object>\n        events = 1\n    888                     except (OSError, IOError) as e:\n    889                         if errno_from_exception(e) == errno.EPIPE:\n    890                             # Happens when the client closes the connection\n    891                             pass\n\n...........................................................................\nC:\\ProgramData\\Anaconda3\\lib\\site-packages\\tornado\\stack_context.py in null_wrapper(*args=(<zmq.sugar.socket.Socket object>, 1), **kwargs={})\n    270         # Fast path when there are no active contexts.\n    271         def null_wrapper(*args, **kwargs):\n    272             try:\n    273                 current_state = _state.contexts\n    274                 _state.contexts = cap_contexts[0]\n--> 275                 return fn(*args, **kwargs)\n        args = (<zmq.sugar.socket.Socket object>, 1)\n        kwargs = {}\n    276             finally:\n    277                 _state.contexts = current_state\n    278         null_wrapper._wrapped = True\n    279         return null_wrapper\n\n...........................................................................\nC:\\ProgramData\\Anaconda3\\lib\\site-packages\\zmq\\eventloop\\zmqstream.py in _handle_events(self=<zmq.eventloop.zmqstream.ZMQStream object>, fd=<zmq.sugar.socket.Socket object>, events=1)\n    435             # dispatch events:\n    436             if events & IOLoop.ERROR:\n    437                 gen_log.error(\"got POLLERR event on ZMQStream, which doesn't make sense\")\n    438                 return\n    439             if events & IOLoop.READ:\n--> 440                 self._handle_recv()\n        self._handle_recv = <bound method ZMQStream._handle_recv of <zmq.eventloop.zmqstream.ZMQStream object>>\n    441                 if not self.socket:\n    442                     return\n    443             if events & IOLoop.WRITE:\n    444                 self._handle_send()\n\n...........................................................................\nC:\\ProgramData\\Anaconda3\\lib\\site-packages\\zmq\\eventloop\\zmqstream.py in _handle_recv(self=<zmq.eventloop.zmqstream.ZMQStream object>)\n    467                 gen_log.error(\"RECV Error: %s\"%zmq.strerror(e.errno))\n    468         else:\n    469             if self._recv_callback:\n    470                 callback = self._recv_callback\n    471                 # self._recv_callback = None\n--> 472                 self._run_callback(callback, msg)\n        self._run_callback = <bound method ZMQStream._run_callback of <zmq.eventloop.zmqstream.ZMQStream object>>\n        callback = <function wrap.<locals>.null_wrapper>\n        msg = [<zmq.sugar.frame.Frame object>, <zmq.sugar.frame.Frame object>, <zmq.sugar.frame.Frame object>, <zmq.sugar.frame.Frame object>, <zmq.sugar.frame.Frame object>, <zmq.sugar.frame.Frame object>, <zmq.sugar.frame.Frame object>]\n    473                 \n    474         # self.update_state()\n    475         \n    476 \n\n...........................................................................\nC:\\ProgramData\\Anaconda3\\lib\\site-packages\\zmq\\eventloop\\zmqstream.py in _run_callback(self=<zmq.eventloop.zmqstream.ZMQStream object>, callback=<function wrap.<locals>.null_wrapper>, *args=([<zmq.sugar.frame.Frame object>, <zmq.sugar.frame.Frame object>, <zmq.sugar.frame.Frame object>, <zmq.sugar.frame.Frame object>, <zmq.sugar.frame.Frame object>, <zmq.sugar.frame.Frame object>, <zmq.sugar.frame.Frame object>],), **kwargs={})\n    409         close our socket.\"\"\"\n    410         try:\n    411             # Use a NullContext to ensure that all StackContexts are run\n    412             # inside our blanket exception handler rather than outside.\n    413             with stack_context.NullContext():\n--> 414                 callback(*args, **kwargs)\n        callback = <function wrap.<locals>.null_wrapper>\n        args = ([<zmq.sugar.frame.Frame object>, <zmq.sugar.frame.Frame object>, <zmq.sugar.frame.Frame object>, <zmq.sugar.frame.Frame object>, <zmq.sugar.frame.Frame object>, <zmq.sugar.frame.Frame object>, <zmq.sugar.frame.Frame object>],)\n        kwargs = {}\n    415         except:\n    416             gen_log.error(\"Uncaught exception, closing connection.\",\n    417                           exc_info=True)\n    418             # Close the socket on an uncaught exception from a user callback\n\n...........................................................................\nC:\\ProgramData\\Anaconda3\\lib\\site-packages\\tornado\\stack_context.py in null_wrapper(*args=([<zmq.sugar.frame.Frame object>, <zmq.sugar.frame.Frame object>, <zmq.sugar.frame.Frame object>, <zmq.sugar.frame.Frame object>, <zmq.sugar.frame.Frame object>, <zmq.sugar.frame.Frame object>, <zmq.sugar.frame.Frame object>],), **kwargs={})\n    270         # Fast path when there are no active contexts.\n    271         def null_wrapper(*args, **kwargs):\n    272             try:\n    273                 current_state = _state.contexts\n    274                 _state.contexts = cap_contexts[0]\n--> 275                 return fn(*args, **kwargs)\n        args = ([<zmq.sugar.frame.Frame object>, <zmq.sugar.frame.Frame object>, <zmq.sugar.frame.Frame object>, <zmq.sugar.frame.Frame object>, <zmq.sugar.frame.Frame object>, <zmq.sugar.frame.Frame object>, <zmq.sugar.frame.Frame object>],)\n        kwargs = {}\n    276             finally:\n    277                 _state.contexts = current_state\n    278         null_wrapper._wrapped = True\n    279         return null_wrapper\n\n...........................................................................\nC:\\ProgramData\\Anaconda3\\lib\\site-packages\\ipykernel\\kernelbase.py in dispatcher(msg=[<zmq.sugar.frame.Frame object>, <zmq.sugar.frame.Frame object>, <zmq.sugar.frame.Frame object>, <zmq.sugar.frame.Frame object>, <zmq.sugar.frame.Frame object>, <zmq.sugar.frame.Frame object>, <zmq.sugar.frame.Frame object>])\n    271         if self.control_stream:\n    272             self.control_stream.on_recv(self.dispatch_control, copy=False)\n    273 \n    274         def make_dispatcher(stream):\n    275             def dispatcher(msg):\n--> 276                 return self.dispatch_shell(stream, msg)\n        msg = [<zmq.sugar.frame.Frame object>, <zmq.sugar.frame.Frame object>, <zmq.sugar.frame.Frame object>, <zmq.sugar.frame.Frame object>, <zmq.sugar.frame.Frame object>, <zmq.sugar.frame.Frame object>, <zmq.sugar.frame.Frame object>]\n    277             return dispatcher\n    278 \n    279         for s in self.shell_streams:\n    280             s.on_recv(make_dispatcher(s), copy=False)\n\n...........................................................................\nC:\\ProgramData\\Anaconda3\\lib\\site-packages\\ipykernel\\kernelbase.py in dispatch_shell(self=<ipykernel.ipkernel.IPythonKernel object>, stream=<zmq.eventloop.zmqstream.ZMQStream object>, msg={'buffers': [], 'content': {'allow_stdin': True, 'code': 'from sklearn.model_selection import GridSearchCV...t(x_test)\\nmetrics.roc_auc_score(y_test, bbc_pred)', 'silent': False, 'stop_on_error': True, 'store_history': True, 'user_expressions': {}}, 'header': {'date': '2018-04-01T16:39:51.533156', 'msg_id': '4EA6F8CCAB2E417B96C1E461E5821DDF', 'msg_type': 'execute_request', 'session': '3642CF3DA4A84ACB84E8A5CD268B91EE', 'username': 'username', 'version': '5.0'}, 'metadata': {}, 'msg_id': '4EA6F8CCAB2E417B96C1E461E5821DDF', 'msg_type': 'execute_request', 'parent_header': {}})\n    223             self.log.error(\"UNKNOWN MESSAGE TYPE: %r\", msg_type)\n    224         else:\n    225             self.log.debug(\"%s: %s\", msg_type, msg)\n    226             self.pre_handler_hook()\n    227             try:\n--> 228                 handler(stream, idents, msg)\n        handler = <bound method Kernel.execute_request of <ipykernel.ipkernel.IPythonKernel object>>\n        stream = <zmq.eventloop.zmqstream.ZMQStream object>\n        idents = [b'3642CF3DA4A84ACB84E8A5CD268B91EE']\n        msg = {'buffers': [], 'content': {'allow_stdin': True, 'code': 'from sklearn.model_selection import GridSearchCV...t(x_test)\\nmetrics.roc_auc_score(y_test, bbc_pred)', 'silent': False, 'stop_on_error': True, 'store_history': True, 'user_expressions': {}}, 'header': {'date': '2018-04-01T16:39:51.533156', 'msg_id': '4EA6F8CCAB2E417B96C1E461E5821DDF', 'msg_type': 'execute_request', 'session': '3642CF3DA4A84ACB84E8A5CD268B91EE', 'username': 'username', 'version': '5.0'}, 'metadata': {}, 'msg_id': '4EA6F8CCAB2E417B96C1E461E5821DDF', 'msg_type': 'execute_request', 'parent_header': {}}\n    229             except Exception:\n    230                 self.log.error(\"Exception in message handler:\", exc_info=True)\n    231             finally:\n    232                 self.post_handler_hook()\n\n...........................................................................\nC:\\ProgramData\\Anaconda3\\lib\\site-packages\\ipykernel\\kernelbase.py in execute_request(self=<ipykernel.ipkernel.IPythonKernel object>, stream=<zmq.eventloop.zmqstream.ZMQStream object>, ident=[b'3642CF3DA4A84ACB84E8A5CD268B91EE'], parent={'buffers': [], 'content': {'allow_stdin': True, 'code': 'from sklearn.model_selection import GridSearchCV...t(x_test)\\nmetrics.roc_auc_score(y_test, bbc_pred)', 'silent': False, 'stop_on_error': True, 'store_history': True, 'user_expressions': {}}, 'header': {'date': '2018-04-01T16:39:51.533156', 'msg_id': '4EA6F8CCAB2E417B96C1E461E5821DDF', 'msg_type': 'execute_request', 'session': '3642CF3DA4A84ACB84E8A5CD268B91EE', 'username': 'username', 'version': '5.0'}, 'metadata': {}, 'msg_id': '4EA6F8CCAB2E417B96C1E461E5821DDF', 'msg_type': 'execute_request', 'parent_header': {}})\n    385         if not silent:\n    386             self.execution_count += 1\n    387             self._publish_execute_input(code, parent, self.execution_count)\n    388 \n    389         reply_content = self.do_execute(code, silent, store_history,\n--> 390                                         user_expressions, allow_stdin)\n        user_expressions = {}\n        allow_stdin = True\n    391 \n    392         # Flush output before sending the reply.\n    393         sys.stdout.flush()\n    394         sys.stderr.flush()\n\n...........................................................................\nC:\\ProgramData\\Anaconda3\\lib\\site-packages\\ipykernel\\ipkernel.py in do_execute(self=<ipykernel.ipkernel.IPythonKernel object>, code='from sklearn.model_selection import GridSearchCV...t(x_test)\\nmetrics.roc_auc_score(y_test, bbc_pred)', silent=False, store_history=True, user_expressions={}, allow_stdin=True)\n    191 \n    192         self._forward_input(allow_stdin)\n    193 \n    194         reply_content = {}\n    195         try:\n--> 196             res = shell.run_cell(code, store_history=store_history, silent=silent)\n        res = undefined\n        shell.run_cell = <bound method ZMQInteractiveShell.run_cell of <ipykernel.zmqshell.ZMQInteractiveShell object>>\n        code = 'from sklearn.model_selection import GridSearchCV...t(x_test)\\nmetrics.roc_auc_score(y_test, bbc_pred)'\n        store_history = True\n        silent = False\n    197         finally:\n    198             self._restore_input()\n    199 \n    200         if res.error_before_exec is not None:\n\n...........................................................................\nC:\\ProgramData\\Anaconda3\\lib\\site-packages\\ipykernel\\zmqshell.py in run_cell(self=<ipykernel.zmqshell.ZMQInteractiveShell object>, *args=('from sklearn.model_selection import GridSearchCV...t(x_test)\\nmetrics.roc_auc_score(y_test, bbc_pred)',), **kwargs={'silent': False, 'store_history': True})\n    496             )\n    497         self.payload_manager.write_payload(payload)\n    498 \n    499     def run_cell(self, *args, **kwargs):\n    500         self._last_traceback = None\n--> 501         return super(ZMQInteractiveShell, self).run_cell(*args, **kwargs)\n        self.run_cell = <bound method ZMQInteractiveShell.run_cell of <ipykernel.zmqshell.ZMQInteractiveShell object>>\n        args = ('from sklearn.model_selection import GridSearchCV...t(x_test)\\nmetrics.roc_auc_score(y_test, bbc_pred)',)\n        kwargs = {'silent': False, 'store_history': True}\n    502 \n    503     def _showtraceback(self, etype, evalue, stb):\n    504         # try to preserve ordering of tracebacks and print statements\n    505         sys.stdout.flush()\n\n...........................................................................\nC:\\ProgramData\\Anaconda3\\lib\\site-packages\\IPython\\core\\interactiveshell.py in run_cell(self=<ipykernel.zmqshell.ZMQInteractiveShell object>, raw_cell='from sklearn.model_selection import GridSearchCV...t(x_test)\\nmetrics.roc_auc_score(y_test, bbc_pred)', store_history=True, silent=False, shell_futures=True)\n   2712                 self.displayhook.exec_result = result\n   2713 \n   2714                 # Execute the user code\n   2715                 interactivity = \"none\" if silent else self.ast_node_interactivity\n   2716                 has_raised = self.run_ast_nodes(code_ast.body, cell_name,\n-> 2717                    interactivity=interactivity, compiler=compiler, result=result)\n        interactivity = 'all'\n        compiler = <IPython.core.compilerop.CachingCompiler object>\n   2718                 \n   2719                 self.last_execution_succeeded = not has_raised\n   2720 \n   2721                 # Reset this so later displayed values do not modify the\n\n...........................................................................\nC:\\ProgramData\\Anaconda3\\lib\\site-packages\\IPython\\core\\interactiveshell.py in run_ast_nodes(self=<ipykernel.zmqshell.ZMQInteractiveShell object>, nodelist=[<_ast.ImportFrom object>, <_ast.Assign object>, <_ast.Assign object>, <_ast.Expr object>, <_ast.Expr object>, <_ast.Assign object>, <_ast.Expr object>], cell_name='<ipython-input-17-93531f87d60f>', interactivity='all', compiler=<IPython.core.compilerop.CachingCompiler object>, result=<ExecutionResult object at 1ee801625c0, executio..._before_exec=None error_in_exec=None result=None>)\n   2822                     return True\n   2823 \n   2824             for i, node in enumerate(to_run_interactive):\n   2825                 mod = ast.Interactive([node])\n   2826                 code = compiler(mod, cell_name, \"single\")\n-> 2827                 if self.run_code(code, result):\n        self.run_code = <bound method InteractiveShell.run_code of <ipykernel.zmqshell.ZMQInteractiveShell object>>\n        code = <code object <module> at 0x000001EE80170420, file \"<ipython-input-17-93531f87d60f>\", line 7>\n        result = <ExecutionResult object at 1ee801625c0, executio..._before_exec=None error_in_exec=None result=None>\n   2828                     return True\n   2829 \n   2830             # Flush softspace\n   2831             if softspace(sys.stdout, 0):\n\n...........................................................................\nC:\\ProgramData\\Anaconda3\\lib\\site-packages\\IPython\\core\\interactiveshell.py in run_code(self=<ipykernel.zmqshell.ZMQInteractiveShell object>, code_obj=<code object <module> at 0x000001EE80170420, file \"<ipython-input-17-93531f87d60f>\", line 7>, result=<ExecutionResult object at 1ee801625c0, executio..._before_exec=None error_in_exec=None result=None>)\n   2876         outflag = 1  # happens in more places, so it's easier as default\n   2877         try:\n   2878             try:\n   2879                 self.hooks.pre_run_code_hook()\n   2880                 #rprint('Running code', repr(code_obj)) # dbg\n-> 2881                 exec(code_obj, self.user_global_ns, self.user_ns)\n        code_obj = <code object <module> at 0x000001EE80170420, file \"<ipython-input-17-93531f87d60f>\", line 7>\n        self.user_global_ns = {'BalancedBaggingClassifier': <class 'imblearn.ensemble.classifier.BalancedBaggingClassifier'>, 'DecisionTreeClassifier': <class 'sklearn.tree.tree.DecisionTreeClassifier'>, 'GridSearchCV': <class 'sklearn.model_selection._search.GridSearchCV'>, 'In': ['', \"#Import basic necessary datasets\\nimport pandas a...s\\nInteractiveShell.ast_node_interactivity = 'all'\", '#Read the datasets provided and view the data\\nca...test.shape\\ntest.head()\\nsample.shape\\nsample.head()', \"train_merged = pd.read_csv('train_merged.csv')\\ntest_merged = pd.read_csv('test_merged.csv')\", \"feature_cols = train_merged.columns.drop(['id', ..., 'email_url','is_open','is_click'])\\nfeature_cols\", 'x = train_merged[feature_cols]\\ny = train_merged.is_click\\nx.head()\\ny.head()', 'from sklearn.model_selection import train_test_s...ain.shape\\nx_test.shape\\ny_train.shape\\ny_test.shape', 'test_merged[feature_cols].head()', 'from imblearn.ensemble import BalancedBaggingCla...dict(x_test)\\nmetrics.roc_auc_score(y_test,y_pred)', \"sample['is_click'] = test_pred\\nsample.head()\\nsample.to_csv('sample_submission.csv', index=False)\", 'test_pred = bbc.predict(test_merged[feature_cols])\\ntest_pred.max()', \"sample['is_click'] = test_pred\\nsample.head()\\nsample.to_csv('sample_submission.csv', index=False)\", 'from sklearn.model_selection import GridSearchCV...t(x_test)\\nmetrics.roc_auc_score(y_test, bbc_pred)', 'from sklearn.model_selection import GridSearchCV...t(x_test)\\nmetrics.roc_auc_score(y_test, bbc_pred)', 'from sklearn.model_selection import GridSearchCV...t(x_test)\\nmetrics.roc_auc_score(y_test, bbc_pred)', 'from sklearn.model_selection import GridSearchCV...t(x_test)\\nmetrics.roc_auc_score(y_test, bbc_pred)', 'from sklearn.model_selection import GridSearchCV...t(x_test)\\nmetrics.roc_auc_score(y_test, bbc_pred)', 'from sklearn.model_selection import GridSearchCV...t(x_test)\\nmetrics.roc_auc_score(y_test, bbc_pred)'], 'InteractiveShell': <class 'IPython.core.interactiveshell.InteractiveShell'>, 'Out': {2:           id  is_click\n0  63_122715         0\n1 ...  0\n3  56_166917         0\n4  56_172838         0, 4: Index(['user_id', 'campaign_id', 'communication_...ay', 'month', 'IsWeekend'],\n      dtype='object'), 5: 0    0\n1    0\n2    0\n3    0\n4    0\nName: is_click, dtype: int64, 6: (255798,), 7:    user_id  campaign_id  communication_type  tot...  1  \n3      2          1  \n4      2          1  , 8: 0.53566203607152, 10: 1, 11:           id  is_click\n0  63_122715         0\n1 ...  0\n3  56_166917         0\n4  56_172838         0}, '_':           id  is_click\n0  63_122715         0\n1 ...  0\n3  56_166917         0\n4  56_172838         0, '_10': 1, '_11':           id  is_click\n0  63_122715         0\n1 ...  0\n3  56_166917         0\n4  56_172838         0, '_2':           id  is_click\n0  63_122715         0\n1 ...  0\n3  56_166917         0\n4  56_172838         0, ...}\n        self.user_ns = {'BalancedBaggingClassifier': <class 'imblearn.ensemble.classifier.BalancedBaggingClassifier'>, 'DecisionTreeClassifier': <class 'sklearn.tree.tree.DecisionTreeClassifier'>, 'GridSearchCV': <class 'sklearn.model_selection._search.GridSearchCV'>, 'In': ['', \"#Import basic necessary datasets\\nimport pandas a...s\\nInteractiveShell.ast_node_interactivity = 'all'\", '#Read the datasets provided and view the data\\nca...test.shape\\ntest.head()\\nsample.shape\\nsample.head()', \"train_merged = pd.read_csv('train_merged.csv')\\ntest_merged = pd.read_csv('test_merged.csv')\", \"feature_cols = train_merged.columns.drop(['id', ..., 'email_url','is_open','is_click'])\\nfeature_cols\", 'x = train_merged[feature_cols]\\ny = train_merged.is_click\\nx.head()\\ny.head()', 'from sklearn.model_selection import train_test_s...ain.shape\\nx_test.shape\\ny_train.shape\\ny_test.shape', 'test_merged[feature_cols].head()', 'from imblearn.ensemble import BalancedBaggingCla...dict(x_test)\\nmetrics.roc_auc_score(y_test,y_pred)', \"sample['is_click'] = test_pred\\nsample.head()\\nsample.to_csv('sample_submission.csv', index=False)\", 'test_pred = bbc.predict(test_merged[feature_cols])\\ntest_pred.max()', \"sample['is_click'] = test_pred\\nsample.head()\\nsample.to_csv('sample_submission.csv', index=False)\", 'from sklearn.model_selection import GridSearchCV...t(x_test)\\nmetrics.roc_auc_score(y_test, bbc_pred)', 'from sklearn.model_selection import GridSearchCV...t(x_test)\\nmetrics.roc_auc_score(y_test, bbc_pred)', 'from sklearn.model_selection import GridSearchCV...t(x_test)\\nmetrics.roc_auc_score(y_test, bbc_pred)', 'from sklearn.model_selection import GridSearchCV...t(x_test)\\nmetrics.roc_auc_score(y_test, bbc_pred)', 'from sklearn.model_selection import GridSearchCV...t(x_test)\\nmetrics.roc_auc_score(y_test, bbc_pred)', 'from sklearn.model_selection import GridSearchCV...t(x_test)\\nmetrics.roc_auc_score(y_test, bbc_pred)'], 'InteractiveShell': <class 'IPython.core.interactiveshell.InteractiveShell'>, 'Out': {2:           id  is_click\n0  63_122715         0\n1 ...  0\n3  56_166917         0\n4  56_172838         0, 4: Index(['user_id', 'campaign_id', 'communication_...ay', 'month', 'IsWeekend'],\n      dtype='object'), 5: 0    0\n1    0\n2    0\n3    0\n4    0\nName: is_click, dtype: int64, 6: (255798,), 7:    user_id  campaign_id  communication_type  tot...  1  \n3      2          1  \n4      2          1  , 8: 0.53566203607152, 10: 1, 11:           id  is_click\n0  63_122715         0\n1 ...  0\n3  56_166917         0\n4  56_172838         0}, '_':           id  is_click\n0  63_122715         0\n1 ...  0\n3  56_166917         0\n4  56_172838         0, '_10': 1, '_11':           id  is_click\n0  63_122715         0\n1 ...  0\n3  56_166917         0\n4  56_172838         0, '_2':           id  is_click\n0  63_122715         0\n1 ...  0\n3  56_166917         0\n4  56_172838         0, ...}\n   2882             finally:\n   2883                 # Reset our crash handler in place\n   2884                 sys.excepthook = old_excepthook\n   2885         except SystemExit as e:\n\n...........................................................................\nC:\\Users\\Shyam\\EMailMarketingCampaignsClicksPrediction\\<ipython-input-17-93531f87d60f> in <module>()\n      2 cv_params = {'max_samples': [0.5,0.8,1], 'n_estimators': [50,100]}\n      3 #minsample = np.array([3, 5, 7, 10])\n      4 #minleaf = np.array([2,3,4,5])\n      5 #state = np.array(list(range(25)))\n      6 grid = GridSearchCV(BalancedBaggingClassifier(), cv_params, scoring = 'roc_auc', cv = 10, n_jobs = -1) \n----> 7 grid.fit(x_train,y_train)\n      8 print('Best log_loss: {:.4}, with best{}'.format(grid.best_score_, grid.best_params_))\n      9 bbc_pred = grid.predict(x_test)\n     10 metrics.roc_auc_score(y_test, bbc_pred)\n\n...........................................................................\nC:\\ProgramData\\Anaconda3\\lib\\site-packages\\sklearn\\model_selection\\_search.py in fit(self=GridSearchCV(cv=10, error_score='raise',\n       ...core='warn',\n       scoring='roc_auc', verbose=0), X=         user_id  campaign_id  communication_typ...7      5          0  \n\n[767393 rows x 12 columns], y=51296      0\n239855     0\n36532      0\n823034   ...2     0\n488647     0\nName: is_click, dtype: int64, groups=None, **fit_params={})\n    634                                   return_train_score=self.return_train_score,\n    635                                   return_n_test_samples=True,\n    636                                   return_times=True, return_parameters=False,\n    637                                   error_score=self.error_score)\n    638           for parameters, (train, test) in product(candidate_params,\n--> 639                                                    cv.split(X, y, groups)))\n        cv.split = <bound method StratifiedKFold.split of Stratifie...d(n_splits=10, random_state=None, shuffle=False)>\n        X =          user_id  campaign_id  communication_typ...7      5          0  \n\n[767393 rows x 12 columns]\n        y = 51296      0\n239855     0\n36532      0\n823034   ...2     0\n488647     0\nName: is_click, dtype: int64\n        groups = None\n    640 \n    641         # if one choose to see train score, \"out\" will contain train score info\n    642         if self.return_train_score:\n    643             (train_score_dicts, test_score_dicts, test_sample_counts, fit_time,\n\n...........................................................................\nC:\\ProgramData\\Anaconda3\\lib\\site-packages\\sklearn\\externals\\joblib\\parallel.py in __call__(self=Parallel(n_jobs=-1), iterable=<generator object BaseSearchCV.fit.<locals>.<genexpr>>)\n    784             if pre_dispatch == \"all\" or n_jobs == 1:\n    785                 # The iterable was consumed all at once by the above for loop.\n    786                 # No need to wait for async callbacks to trigger to\n    787                 # consumption.\n    788                 self._iterating = False\n--> 789             self.retrieve()\n        self.retrieve = <bound method Parallel.retrieve of Parallel(n_jobs=-1)>\n    790             # Make sure that we get a last message telling us we are done\n    791             elapsed_time = time.time() - self._start_time\n    792             self._print('Done %3i out of %3i | elapsed: %s finished',\n    793                         (len(self._output), len(self._output),\n\n---------------------------------------------------------------------------\nSub-process traceback:\n---------------------------------------------------------------------------\nValueError                                         Sun Apr  1 17:38:41 2018\nPID: 10092                Python 3.6.0: C:\\ProgramData\\Anaconda3\\python.exe\n...........................................................................\nC:\\ProgramData\\Anaconda3\\lib\\site-packages\\sklearn\\externals\\joblib\\parallel.py in __call__(self=<sklearn.externals.joblib.parallel.BatchedCalls object>)\n    126     def __init__(self, iterator_slice):\n    127         self.items = list(iterator_slice)\n    128         self._size = len(self.items)\n    129 \n    130     def __call__(self):\n--> 131         return [func(*args, **kwargs) for func, args, kwargs in self.items]\n        self.items = [(<function _fit_and_score>, (BalancedBaggingClassifier(base_estimator=None, b..., replacement=False, verbose=0, warm_start=False),          user_id  campaign_id  communication_typ...7      5          0  \n\n[767393 rows x 12 columns], 51296      0\n239855     0\n36532      0\n823034   ...2     0\n488647     0\nName: is_click, dtype: int64, {'score': make_scorer(roc_auc_score, needs_threshold=True)}, memmap([ 76716,  76717,  76718, ..., 767390, 767391, 767392]), array([    0,     1,     2, ..., 78584, 78621, 78674]), 0, {'max_samples': 1, 'n_estimators': 50}), {'error_score': 'raise', 'fit_params': {}, 'return_n_test_samples': True, 'return_parameters': False, 'return_times': True, 'return_train_score': 'warn'})]\n    132 \n    133     def __len__(self):\n    134         return self._size\n    135 \n\n...........................................................................\nC:\\ProgramData\\Anaconda3\\lib\\site-packages\\sklearn\\externals\\joblib\\parallel.py in <listcomp>(.0=<list_iterator object>)\n    126     def __init__(self, iterator_slice):\n    127         self.items = list(iterator_slice)\n    128         self._size = len(self.items)\n    129 \n    130     def __call__(self):\n--> 131         return [func(*args, **kwargs) for func, args, kwargs in self.items]\n        func = <function _fit_and_score>\n        args = (BalancedBaggingClassifier(base_estimator=None, b..., replacement=False, verbose=0, warm_start=False),          user_id  campaign_id  communication_typ...7      5          0  \n\n[767393 rows x 12 columns], 51296      0\n239855     0\n36532      0\n823034   ...2     0\n488647     0\nName: is_click, dtype: int64, {'score': make_scorer(roc_auc_score, needs_threshold=True)}, memmap([ 76716,  76717,  76718, ..., 767390, 767391, 767392]), array([    0,     1,     2, ..., 78584, 78621, 78674]), 0, {'max_samples': 1, 'n_estimators': 50})\n        kwargs = {'error_score': 'raise', 'fit_params': {}, 'return_n_test_samples': True, 'return_parameters': False, 'return_times': True, 'return_train_score': 'warn'}\n    132 \n    133     def __len__(self):\n    134         return self._size\n    135 \n\n...........................................................................\nC:\\ProgramData\\Anaconda3\\lib\\site-packages\\sklearn\\model_selection\\_validation.py in _fit_and_score(estimator=BalancedBaggingClassifier(base_estimator=None, b..., replacement=False, verbose=0, warm_start=False), X=         user_id  campaign_id  communication_typ...7      5          0  \n\n[767393 rows x 12 columns], y=51296      0\n239855     0\n36532      0\n823034   ...2     0\n488647     0\nName: is_click, dtype: int64, scorer={'score': make_scorer(roc_auc_score, needs_threshold=True)}, train=memmap([ 76716,  76717,  76718, ..., 767390, 767391, 767392]), test=array([    0,     1,     2, ..., 78584, 78621, 78674]), verbose=0, parameters={'max_samples': 1, 'n_estimators': 50}, fit_params={}, return_train_score='warn', return_parameters=False, return_n_test_samples=True, return_times=True, error_score='raise')\n    453 \n    454     try:\n    455         if y_train is None:\n    456             estimator.fit(X_train, **fit_params)\n    457         else:\n--> 458             estimator.fit(X_train, y_train, **fit_params)\n        estimator.fit = <bound method BalancedBaggingClassifier.fit of B... replacement=False, verbose=0, warm_start=False)>\n        X_train =          user_id  campaign_id  communication_typ...7      5          0  \n\n[690653 rows x 12 columns]\n        y_train = 65342      0\n622123     0\n60127      0\n453900   ...2     0\n488647     0\nName: is_click, dtype: int64\n        fit_params = {}\n    459 \n    460     except Exception as e:\n    461         # Note fit time as time until error\n    462         fit_time = time.time() - start_time\n\n...........................................................................\nC:\\ProgramData\\Anaconda3\\lib\\site-packages\\imblearn\\ensemble\\classifier.py in fit(self=BalancedBaggingClassifier(base_estimator=None, b..., replacement=False, verbose=0, warm_start=False), X=         user_id  campaign_id  communication_typ...7      5          0  \n\n[690653 rows x 12 columns], y=65342      0\n622123     0\n60127      0\n453900   ...2     0\n488647     0\nName: is_click, dtype: int64)\n    253         self : object\n    254             Returns self.\n    255         \"\"\"\n    256         # RandomUnderSampler is not supporting sample_weight. We need to pass\n    257         # None.\n--> 258         return self._fit(X, y, self.max_samples, sample_weight=None)\n        self._fit = <bound method BaseBagging._fit of BalancedBaggin... replacement=False, verbose=0, warm_start=False)>\n        X =          user_id  campaign_id  communication_typ...7      5          0  \n\n[690653 rows x 12 columns]\n        y = 65342      0\n622123     0\n60127      0\n453900   ...2     0\n488647     0\nName: is_click, dtype: int64\n        self.max_samples = 1\n\n...........................................................................\nC:\\ProgramData\\Anaconda3\\lib\\site-packages\\sklearn\\ensemble\\bagging.py in _fit(self=BalancedBaggingClassifier(base_estimator=None, b..., replacement=False, verbose=0, warm_start=False), X=array([[136359,     44,      5, ...,      9,    ...   5, ...,      7,      5,      0]], dtype=int64), y=array([0, 0, 0, ..., 0, 0, 0], dtype=int64), max_samples=1, max_depth=None, sample_weight=None)\n    370                 y,\n    371                 sample_weight,\n    372                 seeds[starts[i]:starts[i + 1]],\n    373                 total_n_estimators,\n    374                 verbose=self.verbose)\n--> 375             for i in range(n_jobs))\n        n_jobs = 1\n    376 \n    377         # Reduce\n    378         self.estimators_ += list(itertools.chain.from_iterable(\n    379             t[0] for t in all_results))\n\n...........................................................................\nC:\\ProgramData\\Anaconda3\\lib\\site-packages\\sklearn\\externals\\joblib\\parallel.py in __call__(self=Parallel(n_jobs=1), iterable=<generator object BaseBagging._fit.<locals>.<genexpr>>)\n    774         self.n_completed_tasks = 0\n    775         try:\n    776             # Only set self._iterating to True if at least a batch\n    777             # was dispatched. In particular this covers the edge\n    778             # case of Parallel used with an exhausted iterator.\n--> 779             while self.dispatch_one_batch(iterator):\n        self.dispatch_one_batch = <bound method Parallel.dispatch_one_batch of Parallel(n_jobs=1)>\n        iterator = <generator object BaseBagging._fit.<locals>.<genexpr>>\n    780                 self._iterating = True\n    781             else:\n    782                 self._iterating = False\n    783 \n\n...........................................................................\nC:\\ProgramData\\Anaconda3\\lib\\site-packages\\sklearn\\externals\\joblib\\parallel.py in dispatch_one_batch(self=Parallel(n_jobs=1), iterator=<generator object BaseBagging._fit.<locals>.<genexpr>>)\n    620             tasks = BatchedCalls(itertools.islice(iterator, batch_size))\n    621             if len(tasks) == 0:\n    622                 # No more tasks available in the iterator: tell caller to stop.\n    623                 return False\n    624             else:\n--> 625                 self._dispatch(tasks)\n        self._dispatch = <bound method Parallel._dispatch of Parallel(n_jobs=1)>\n        tasks = <sklearn.externals.joblib.parallel.BatchedCalls object>\n    626                 return True\n    627 \n    628     def _print(self, msg, msg_args):\n    629         \"\"\"Display the message on stout or stderr depending on verbosity\"\"\"\n\n...........................................................................\nC:\\ProgramData\\Anaconda3\\lib\\site-packages\\sklearn\\externals\\joblib\\parallel.py in _dispatch(self=Parallel(n_jobs=1), batch=<sklearn.externals.joblib.parallel.BatchedCalls object>)\n    583         self.n_dispatched_tasks += len(batch)\n    584         self.n_dispatched_batches += 1\n    585 \n    586         dispatch_timestamp = time.time()\n    587         cb = BatchCompletionCallBack(dispatch_timestamp, len(batch), self)\n--> 588         job = self._backend.apply_async(batch, callback=cb)\n        job = undefined\n        self._backend.apply_async = <bound method SequentialBackend.apply_async of <...lib._parallel_backends.SequentialBackend object>>\n        batch = <sklearn.externals.joblib.parallel.BatchedCalls object>\n        cb = <sklearn.externals.joblib.parallel.BatchCompletionCallBack object>\n    589         self._jobs.append(job)\n    590 \n    591     def dispatch_next(self):\n    592         \"\"\"Dispatch more data for parallel processing\n\n...........................................................................\nC:\\ProgramData\\Anaconda3\\lib\\site-packages\\sklearn\\externals\\joblib\\_parallel_backends.py in apply_async(self=<sklearn.externals.joblib._parallel_backends.SequentialBackend object>, func=<sklearn.externals.joblib.parallel.BatchedCalls object>, callback=<sklearn.externals.joblib.parallel.BatchCompletionCallBack object>)\n    106             raise ValueError('n_jobs == 0 in Parallel has no meaning')\n    107         return 1\n    108 \n    109     def apply_async(self, func, callback=None):\n    110         \"\"\"Schedule a func to be run\"\"\"\n--> 111         result = ImmediateResult(func)\n        result = undefined\n        func = <sklearn.externals.joblib.parallel.BatchedCalls object>\n    112         if callback:\n    113             callback(result)\n    114         return result\n    115 \n\n...........................................................................\nC:\\ProgramData\\Anaconda3\\lib\\site-packages\\sklearn\\externals\\joblib\\_parallel_backends.py in __init__(self=<sklearn.externals.joblib._parallel_backends.ImmediateResult object>, batch=<sklearn.externals.joblib.parallel.BatchedCalls object>)\n    327 \n    328 class ImmediateResult(object):\n    329     def __init__(self, batch):\n    330         # Don't delay the application, to avoid keeping the input\n    331         # arguments in memory\n--> 332         self.results = batch()\n        self.results = undefined\n        batch = <sklearn.externals.joblib.parallel.BatchedCalls object>\n    333 \n    334     def get(self):\n    335         return self.results\n    336 \n\n...........................................................................\nC:\\ProgramData\\Anaconda3\\lib\\site-packages\\sklearn\\externals\\joblib\\parallel.py in __call__(self=<sklearn.externals.joblib.parallel.BatchedCalls object>)\n    126     def __init__(self, iterator_slice):\n    127         self.items = list(iterator_slice)\n    128         self._size = len(self.items)\n    129 \n    130     def __call__(self):\n--> 131         return [func(*args, **kwargs) for func, args, kwargs in self.items]\n        self.items = [(<function _parallel_build_estimators>, (50, BalancedBaggingClassifier(base_estimator=None, b..., replacement=False, verbose=0, warm_start=False), array([[136359,     44,      5, ...,      9,    ...   5, ...,      7,      5,      0]], dtype=int64), array([0, 0, 0, ..., 0, 0, 0], dtype=int64), None, array([ 870327671, 1434472298, 1547660960,  4530...   62630978, 1853477837,   56872284, 1599684455]), 50), {'verbose': 0})]\n    132 \n    133     def __len__(self):\n    134         return self._size\n    135 \n\n...........................................................................\nC:\\ProgramData\\Anaconda3\\lib\\site-packages\\sklearn\\externals\\joblib\\parallel.py in <listcomp>(.0=<list_iterator object>)\n    126     def __init__(self, iterator_slice):\n    127         self.items = list(iterator_slice)\n    128         self._size = len(self.items)\n    129 \n    130     def __call__(self):\n--> 131         return [func(*args, **kwargs) for func, args, kwargs in self.items]\n        func = <function _parallel_build_estimators>\n        args = (50, BalancedBaggingClassifier(base_estimator=None, b..., replacement=False, verbose=0, warm_start=False), array([[136359,     44,      5, ...,      9,    ...   5, ...,      7,      5,      0]], dtype=int64), array([0, 0, 0, ..., 0, 0, 0], dtype=int64), None, array([ 870327671, 1434472298, 1547660960,  4530...   62630978, 1853477837,   56872284, 1599684455]), 50)\n        kwargs = {'verbose': 0}\n    132 \n    133     def __len__(self):\n    134         return self._size\n    135 \n\n...........................................................................\nC:\\ProgramData\\Anaconda3\\lib\\site-packages\\sklearn\\ensemble\\bagging.py in _parallel_build_estimators(n_estimators=50, ensemble=BalancedBaggingClassifier(base_estimator=None, b..., replacement=False, verbose=0, warm_start=False), X=array([[136359,     44,      5, ...,      9,    ...   5, ...,      7,      5,      0]], dtype=int64), y=array([0, 0, 0, ..., 0, 0, 0], dtype=int64), sample_weight=None, seeds=array([ 870327671, 1434472298, 1547660960,  4530...   62630978, 1853477837,   56872284, 1599684455]), total_n_estimators=50, verbose=0)\n    111 \n    112             estimator.fit(X[:, features], y, sample_weight=curr_sample_weight)\n    113 \n    114         # Draw samples, using a mask, and then fit\n    115         else:\n--> 116             estimator.fit((X[indices])[:, features], y[indices])\n        estimator.fit = <bound method Pipeline.fit of Pipeline(memory=No...     random_state=494641112, splitter='best'))])>\n        X = array([[136359,     44,      5, ...,      9,    ...   5, ...,      7,      5,      0]], dtype=int64)\n        indices = array([153815])\n        features = array([ 0,  1,  2,  3,  4,  5,  6,  7,  8,  9, 10, 11])\n        y = array([0, 0, 0, ..., 0, 0, 0], dtype=int64)\n    117 \n    118         estimators.append(estimator)\n    119         estimators_features.append(features)\n    120 \n\n...........................................................................\nC:\\ProgramData\\Anaconda3\\lib\\site-packages\\imblearn\\pipeline.py in fit(self=Pipeline(memory=None,\n     steps=[('sampler', Ra...      random_state=494641112, splitter='best'))]), X=array([[12241,    33,     4,     7,     3,     1...  15,\n           24,     7,     1]], dtype=int64), y=array([0], dtype=int64), **fit_params={})\n    237         -------\n    238         self : Pipeline\n    239             This estimator\n    240 \n    241         \"\"\"\n--> 242         Xt, yt, fit_params = self._fit(X, y, **fit_params)\n        Xt = undefined\n        yt = undefined\n        fit_params = {}\n        self._fit = <bound method Pipeline._fit of Pipeline(memory=N...     random_state=494641112, splitter='best'))])>\n        X = array([[12241,    33,     4,     7,     3,     1...  15,\n           24,     7,     1]], dtype=int64)\n        y = array([0], dtype=int64)\n    243         if self._final_estimator is not None:\n    244             self._final_estimator.fit(Xt, yt, **fit_params)\n    245         return self\n    246 \n\n...........................................................................\nC:\\ProgramData\\Anaconda3\\lib\\site-packages\\imblearn\\pipeline.py in _fit(self=Pipeline(memory=None,\n     steps=[('sampler', Ra...      random_state=494641112, splitter='best'))]), X=array([[12241,    33,     4,     7,     3,     1...  15,\n           24,     7,     1]], dtype=int64), y=array([0], dtype=int64), **fit_params={})\n    200                         cloned_transformer, None, Xt, yt,\n    201                         **fit_params_steps[name])\n    202                 elif hasattr(cloned_transformer, \"sample\"):\n    203                     Xt, yt, fitted_transformer = fit_sample_one_cached(\n    204                         cloned_transformer, Xt, yt,\n--> 205                         **fit_params_steps[name])\n        fit_params_steps = {'classifier': {}, 'sampler': {}}\n        name = 'sampler'\n    206                 # Replace the transformer of the step with the fitted\n    207                 # transformer. This is necessary when loading the transformer\n    208                 # from the cache.\n    209                 self.steps[step_idx] = (name, fitted_transformer)\n\n...........................................................................\nC:\\ProgramData\\Anaconda3\\lib\\site-packages\\sklearn\\externals\\joblib\\memory.py in __call__(self=NotMemorizedFunc(func=<function _fit_sample_one at 0x0000029C880DF048>), *args=(RandomUnderSampler(random_state=1060884366, rati...eplacement=False,\n          return_indices=False), array([[12241,    33,     4,     7,     3,     1...  15,\n           24,     7,     1]], dtype=int64), array([0], dtype=int64)), **kwargs={})\n    357     # Should be a light as possible (for speed)\n    358     def __init__(self, func):\n    359         self.func = func\n    360 \n    361     def __call__(self, *args, **kwargs):\n--> 362         return self.func(*args, **kwargs)\n        self.func = <function _fit_sample_one>\n        args = (RandomUnderSampler(random_state=1060884366, rati...eplacement=False,\n          return_indices=False), array([[12241,    33,     4,     7,     3,     1...  15,\n           24,     7,     1]], dtype=int64), array([0], dtype=int64))\n        kwargs = {}\n    363 \n    364     def call_and_shelve(self, *args, **kwargs):\n    365         return NotMemorizedResult(self.func(*args, **kwargs))\n    366 \n\n...........................................................................\nC:\\ProgramData\\Anaconda3\\lib\\site-packages\\imblearn\\pipeline.py in _fit_sample_one(sampler=RandomUnderSampler(random_state=1060884366, rati...eplacement=False,\n          return_indices=False), X=array([[12241,    33,     4,     7,     3,     1...  15,\n           24,     7,     1]], dtype=int64), y=array([0], dtype=int64), **fit_params={})\n    598         return res, transformer\n    599     return res * weight, transformer\n    600 \n    601 \n    602 def _fit_sample_one(sampler, X, y, **fit_params):\n--> 603     X_res, y_res = sampler.fit_sample(X, y, **fit_params)\n        X_res = undefined\n        y_res = undefined\n        sampler.fit_sample = <bound method SamplerMixin.fit_sample of RandomU...placement=False,\n          return_indices=False)>\n        X = array([[12241,    33,     4,     7,     3,     1...  15,\n           24,     7,     1]], dtype=int64)\n        y = array([0], dtype=int64)\n        fit_params = {}\n    604 \n    605     return X_res, y_res, sampler\n    606 \n    607 \n\n...........................................................................\nC:\\ProgramData\\Anaconda3\\lib\\site-packages\\imblearn\\base.py in fit_sample(self=RandomUnderSampler(random_state=1060884366, rati...eplacement=False,\n          return_indices=False), X=array([[12241,    33,     4,     7,     3,     1...  15,\n           24,     7,     1]], dtype=int64), y=array([0], dtype=int64))\n     83         y_resampled : array-like, shape (n_samples_new,)\n     84             The corresponding label of `X_resampled`\n     85 \n     86         \"\"\"\n     87 \n---> 88         return self.fit(X, y).sample(X, y)\n        self.fit = <bound method BaseSampler.fit of RandomUnderSamp...placement=False,\n          return_indices=False)>\n        X = array([[12241,    33,     4,     7,     3,     1...  15,\n           24,     7,     1]], dtype=int64)\n        y.sample = undefined\n        y = array([0], dtype=int64)\n     89 \n     90     @abstractmethod\n     91     def _sample(self, X, y):\n     92         \"\"\"Resample the dataset.\n\n...........................................................................\nC:\\ProgramData\\Anaconda3\\lib\\site-packages\\imblearn\\base.py in fit(self=RandomUnderSampler(random_state=1060884366, rati...eplacement=False,\n          return_indices=False), X=array([[12241,    33,     4,     7,     3,     1...  15,\n           24,     7,     1]], dtype=int64), y=array([0], dtype=int64))\n    156         \"\"\"\n    157         X, y = check_X_y(X, y, accept_sparse=['csr', 'csc'])\n    158         y = check_target_type(y)\n    159         self.X_hash_, self.y_hash_ = hash_X_y(X, y)\n    160         # self.sampling_type is already checked in check_ratio\n--> 161         self.ratio_ = check_ratio(self.ratio, y, self._sampling_type)\n        self.ratio_ = undefined\n        self.ratio = 'auto'\n        y = array([0], dtype=int64)\n        self._sampling_type = 'under-sampling'\n    162 \n    163         return self\n\n...........................................................................\nC:\\ProgramData\\Anaconda3\\lib\\site-packages\\imblearn\\utils\\validation.py in check_ratio(ratio='auto', y=array([0], dtype=int64), sampling_type='under-sampling', **kwargs={})\n    317         raise ValueError(\"'sampling_type' should be one of {}. Got '{}'\"\n    318                          \" instead.\".format(SAMPLING_KIND, sampling_type))\n    319 \n    320     if np.unique(y).size <= 1:\n    321         raise ValueError(\"The target 'y' needs to have more than 1 class.\"\n--> 322                          \" Got {} class instead\".format(np.unique(y).size))\n        y.size = 1\n    323 \n    324     if sampling_type == 'ensemble':\n    325         return ratio\n    326 \n\nValueError: The target 'y' needs to have more than 1 class. Got 1 class instead\n___________________________________________________________________________"
     ]
    }
   ],
   "source": [
    "from sklearn.model_selection import GridSearchCV\n",
    "cv_params = {'max_samples': [0.5,0.8,1], 'n_estimators': [50,100]}\n",
    "#minsample = np.array([3, 5, 7, 10])\n",
    "#minleaf = np.array([2,3,4,5])\n",
    "#state = np.array(list(range(25)))\n",
    "grid = GridSearchCV(BalancedBaggingClassifier(), cv_params, scoring = 'roc_auc', cv = 10, n_jobs = -1) \n",
    "grid.fit(x_train,y_train)\n",
    "print('Best log_loss: {:.4}, with best{}'.format(grid.best_score_, grid.best_params_))\n",
    "bbc_pred = grid.predict(x_test)\n",
    "metrics.roc_auc_score(y_test, bbc_pred)"
   ]
  },
  {
   "cell_type": "code",
   "execution_count": 10,
   "metadata": {
    "collapsed": false
   },
   "outputs": [
    {
     "data": {
      "text/plain": [
       "1"
      ]
     },
     "execution_count": 10,
     "metadata": {},
     "output_type": "execute_result"
    }
   ],
   "source": [
    "test_pred = bbc.predict(test_merged[feature_cols])\n",
    "test_pred.max()"
   ]
  },
  {
   "cell_type": "code",
   "execution_count": 11,
   "metadata": {
    "collapsed": false
   },
   "outputs": [
    {
     "data": {
      "text/html": [
       "<div>\n",
       "<table border=\"1\" class=\"dataframe\">\n",
       "  <thead>\n",
       "    <tr style=\"text-align: right;\">\n",
       "      <th></th>\n",
       "      <th>id</th>\n",
       "      <th>is_click</th>\n",
       "    </tr>\n",
       "  </thead>\n",
       "  <tbody>\n",
       "    <tr>\n",
       "      <th>0</th>\n",
       "      <td>63_122715</td>\n",
       "      <td>0</td>\n",
       "    </tr>\n",
       "    <tr>\n",
       "      <th>1</th>\n",
       "      <td>56_76206</td>\n",
       "      <td>0</td>\n",
       "    </tr>\n",
       "    <tr>\n",
       "      <th>2</th>\n",
       "      <td>57_96189</td>\n",
       "      <td>0</td>\n",
       "    </tr>\n",
       "    <tr>\n",
       "      <th>3</th>\n",
       "      <td>56_166917</td>\n",
       "      <td>0</td>\n",
       "    </tr>\n",
       "    <tr>\n",
       "      <th>4</th>\n",
       "      <td>56_172838</td>\n",
       "      <td>0</td>\n",
       "    </tr>\n",
       "  </tbody>\n",
       "</table>\n",
       "</div>"
      ],
      "text/plain": [
       "          id  is_click\n",
       "0  63_122715         0\n",
       "1   56_76206         0\n",
       "2   57_96189         0\n",
       "3  56_166917         0\n",
       "4  56_172838         0"
      ]
     },
     "execution_count": 11,
     "metadata": {},
     "output_type": "execute_result"
    }
   ],
   "source": [
    "sample['is_click'] = test_pred\n",
    "sample.head()\n",
    "sample.to_csv('sample_submission.csv', index=False)"
   ]
  },
  {
   "cell_type": "markdown",
   "metadata": {},
   "source": [
    "AV Score - 0.459675649243205"
   ]
  },
  {
   "cell_type": "code",
   "execution_count": null,
   "metadata": {
    "collapsed": false
   },
   "outputs": [],
   "source": [
    "from imblearn.over_sampling import ADASYN\n",
    "from collections import Counter\n",
    "x_res, y_res = ADASYN().fit_sample(x, y)\n",
    "print (y.value_counts(), np.bincount(y_res))\n",
    "print(sorted(Counter(y_res).items()))"
   ]
  },
  {
   "cell_type": "code",
   "execution_count": 12,
   "metadata": {
    "collapsed": false
   },
   "outputs": [
    {
     "data": {
      "text/plain": [
       "(1515134, 10)"
      ]
     },
     "execution_count": 12,
     "metadata": {},
     "output_type": "execute_result"
    },
    {
     "data": {
      "text/plain": [
       "(1515134,)"
      ]
     },
     "execution_count": 12,
     "metadata": {},
     "output_type": "execute_result"
    }
   ],
   "source": [
    "x_res.shape\n",
    "y_res.shape"
   ]
  },
  {
   "cell_type": "code",
   "execution_count": 13,
   "metadata": {
    "collapsed": true
   },
   "outputs": [],
   "source": [
    "x_train_res, x_val_res, y_train_res, y_val_res = train_test_split(x_res,\n",
    "                                                    y_res,\n",
    "                                                    test_size = .3,\n",
    "                                                    random_state=12)"
   ]
  },
  {
   "cell_type": "code",
   "execution_count": 14,
   "metadata": {
    "collapsed": false
   },
   "outputs": [
    {
     "data": {
      "text/plain": [
       "(1060593, 10)"
      ]
     },
     "execution_count": 14,
     "metadata": {},
     "output_type": "execute_result"
    },
    {
     "data": {
      "text/plain": [
       "(454541, 10)"
      ]
     },
     "execution_count": 14,
     "metadata": {},
     "output_type": "execute_result"
    },
    {
     "data": {
      "text/plain": [
       "(1060593,)"
      ]
     },
     "execution_count": 14,
     "metadata": {},
     "output_type": "execute_result"
    },
    {
     "data": {
      "text/plain": [
       "(454541,)"
      ]
     },
     "execution_count": 14,
     "metadata": {},
     "output_type": "execute_result"
    }
   ],
   "source": [
    "x_train_res.shape\n",
    "x_val_res.shape\n",
    "y_train_res.shape\n",
    "y_val_res.shape"
   ]
  },
  {
   "cell_type": "code",
   "execution_count": null,
   "metadata": {
    "collapsed": false
   },
   "outputs": [],
   "source": [
    "from sklearn.ensemble import RandomForestClassifier\n",
    "from sklearn.model_selection import cross_val_score\n",
    "from sklearn import metrics\n",
    "rfc = RandomForestClassifier()\n",
    "rfc_cv_score = cross_val_score(rfc, x_train_res, y_train_res, cv=10, scoring='roc_auc')\n",
    "rfc_cv_score.mean()\n",
    "rfc.fit(x_train_res, y_train_res)\n",
    "rfc_pred = rfc.predict(x_val_res)\n",
    "metrics.roc_auc_score(y_val_res, rfc_pred)"
   ]
  },
  {
   "cell_type": "code",
   "execution_count": 15,
   "metadata": {
    "collapsed": false
   },
   "outputs": [
    {
     "ename": "KeyboardInterrupt",
     "evalue": "",
     "output_type": "error",
     "traceback": [
      "\u001b[0;31m---------------------------------------------------------------------------\u001b[0m",
      "\u001b[0;31mKeyboardInterrupt\u001b[0m                         Traceback (most recent call last)",
      "\u001b[0;32m<ipython-input-15-83761c29ca44>\u001b[0m in \u001b[0;36m<module>\u001b[0;34m()\u001b[0m\n\u001b[1;32m     10\u001b[0m \u001b[0mparams\u001b[0m \u001b[1;33m=\u001b[0m \u001b[1;33m{\u001b[0m\u001b[1;34m'n_estimators'\u001b[0m\u001b[1;33m:\u001b[0m\u001b[0mestimator\u001b[0m\u001b[1;33m,\u001b[0m \u001b[1;34m'max_depth'\u001b[0m\u001b[1;33m:\u001b[0m\u001b[0mdepth\u001b[0m\u001b[1;33m,\u001b[0m \u001b[1;34m'criterion'\u001b[0m\u001b[1;33m:\u001b[0m\u001b[0mc\u001b[0m\u001b[1;33m}\u001b[0m\u001b[1;33m\u001b[0m\u001b[0m\n\u001b[1;32m     11\u001b[0m \u001b[0mgrid\u001b[0m \u001b[1;33m=\u001b[0m \u001b[0mGridSearchCV\u001b[0m\u001b[1;33m(\u001b[0m\u001b[0mrfc\u001b[0m\u001b[1;33m,\u001b[0m \u001b[0mparams\u001b[0m\u001b[1;33m,\u001b[0m \u001b[0mscoring\u001b[0m\u001b[1;33m=\u001b[0m\u001b[1;34m'roc_auc'\u001b[0m\u001b[1;33m,\u001b[0m \u001b[0mrefit\u001b[0m\u001b[1;33m=\u001b[0m\u001b[1;32mTrue\u001b[0m\u001b[1;33m)\u001b[0m\u001b[1;33m\u001b[0m\u001b[0m\n\u001b[0;32m---> 12\u001b[0;31m \u001b[0mgrid\u001b[0m\u001b[1;33m.\u001b[0m\u001b[0mfit\u001b[0m\u001b[1;33m(\u001b[0m\u001b[0mx_train_res\u001b[0m\u001b[1;33m,\u001b[0m\u001b[0my_train_res\u001b[0m\u001b[1;33m)\u001b[0m\u001b[1;33m\u001b[0m\u001b[0m\n\u001b[0m\u001b[1;32m     13\u001b[0m \u001b[0mprint\u001b[0m\u001b[1;33m(\u001b[0m\u001b[1;34m'Best log_loss: {:.4}, with best{}'\u001b[0m\u001b[1;33m.\u001b[0m\u001b[0mformat\u001b[0m\u001b[1;33m(\u001b[0m\u001b[0mgrid\u001b[0m\u001b[1;33m.\u001b[0m\u001b[0mbest_score_\u001b[0m\u001b[1;33m,\u001b[0m \u001b[0mgrid\u001b[0m\u001b[1;33m.\u001b[0m\u001b[0mbest_params_\u001b[0m\u001b[1;33m)\u001b[0m\u001b[1;33m)\u001b[0m\u001b[1;33m\u001b[0m\u001b[0m\n\u001b[1;32m     14\u001b[0m \u001b[0mrfc_pred\u001b[0m \u001b[1;33m=\u001b[0m \u001b[0mgrid\u001b[0m\u001b[1;33m.\u001b[0m\u001b[0mpredict\u001b[0m\u001b[1;33m(\u001b[0m\u001b[0mx_val_res\u001b[0m\u001b[1;33m)\u001b[0m\u001b[1;33m\u001b[0m\u001b[0m\n",
      "\u001b[0;32mC:\\ProgramData\\Anaconda3\\lib\\site-packages\\sklearn\\model_selection\\_search.py\u001b[0m in \u001b[0;36mfit\u001b[0;34m(self, X, y, groups, **fit_params)\u001b[0m\n\u001b[1;32m    637\u001b[0m                                   error_score=self.error_score)\n\u001b[1;32m    638\u001b[0m           for parameters, (train, test) in product(candidate_params,\n\u001b[0;32m--> 639\u001b[0;31m                                                    cv.split(X, y, groups)))\n\u001b[0m\u001b[1;32m    640\u001b[0m \u001b[1;33m\u001b[0m\u001b[0m\n\u001b[1;32m    641\u001b[0m         \u001b[1;31m# if one choose to see train score, \"out\" will contain train score info\u001b[0m\u001b[1;33m\u001b[0m\u001b[1;33m\u001b[0m\u001b[0m\n",
      "\u001b[0;32mC:\\ProgramData\\Anaconda3\\lib\\site-packages\\sklearn\\externals\\joblib\\parallel.py\u001b[0m in \u001b[0;36m__call__\u001b[0;34m(self, iterable)\u001b[0m\n\u001b[1;32m    777\u001b[0m             \u001b[1;31m# was dispatched. In particular this covers the edge\u001b[0m\u001b[1;33m\u001b[0m\u001b[1;33m\u001b[0m\u001b[0m\n\u001b[1;32m    778\u001b[0m             \u001b[1;31m# case of Parallel used with an exhausted iterator.\u001b[0m\u001b[1;33m\u001b[0m\u001b[1;33m\u001b[0m\u001b[0m\n\u001b[0;32m--> 779\u001b[0;31m             \u001b[1;32mwhile\u001b[0m \u001b[0mself\u001b[0m\u001b[1;33m.\u001b[0m\u001b[0mdispatch_one_batch\u001b[0m\u001b[1;33m(\u001b[0m\u001b[0miterator\u001b[0m\u001b[1;33m)\u001b[0m\u001b[1;33m:\u001b[0m\u001b[1;33m\u001b[0m\u001b[0m\n\u001b[0m\u001b[1;32m    780\u001b[0m                 \u001b[0mself\u001b[0m\u001b[1;33m.\u001b[0m\u001b[0m_iterating\u001b[0m \u001b[1;33m=\u001b[0m \u001b[1;32mTrue\u001b[0m\u001b[1;33m\u001b[0m\u001b[0m\n\u001b[1;32m    781\u001b[0m             \u001b[1;32melse\u001b[0m\u001b[1;33m:\u001b[0m\u001b[1;33m\u001b[0m\u001b[0m\n",
      "\u001b[0;32mC:\\ProgramData\\Anaconda3\\lib\\site-packages\\sklearn\\externals\\joblib\\parallel.py\u001b[0m in \u001b[0;36mdispatch_one_batch\u001b[0;34m(self, iterator)\u001b[0m\n\u001b[1;32m    623\u001b[0m                 \u001b[1;32mreturn\u001b[0m \u001b[1;32mFalse\u001b[0m\u001b[1;33m\u001b[0m\u001b[0m\n\u001b[1;32m    624\u001b[0m             \u001b[1;32melse\u001b[0m\u001b[1;33m:\u001b[0m\u001b[1;33m\u001b[0m\u001b[0m\n\u001b[0;32m--> 625\u001b[0;31m                 \u001b[0mself\u001b[0m\u001b[1;33m.\u001b[0m\u001b[0m_dispatch\u001b[0m\u001b[1;33m(\u001b[0m\u001b[0mtasks\u001b[0m\u001b[1;33m)\u001b[0m\u001b[1;33m\u001b[0m\u001b[0m\n\u001b[0m\u001b[1;32m    626\u001b[0m                 \u001b[1;32mreturn\u001b[0m \u001b[1;32mTrue\u001b[0m\u001b[1;33m\u001b[0m\u001b[0m\n\u001b[1;32m    627\u001b[0m \u001b[1;33m\u001b[0m\u001b[0m\n",
      "\u001b[0;32mC:\\ProgramData\\Anaconda3\\lib\\site-packages\\sklearn\\externals\\joblib\\parallel.py\u001b[0m in \u001b[0;36m_dispatch\u001b[0;34m(self, batch)\u001b[0m\n\u001b[1;32m    586\u001b[0m         \u001b[0mdispatch_timestamp\u001b[0m \u001b[1;33m=\u001b[0m \u001b[0mtime\u001b[0m\u001b[1;33m.\u001b[0m\u001b[0mtime\u001b[0m\u001b[1;33m(\u001b[0m\u001b[1;33m)\u001b[0m\u001b[1;33m\u001b[0m\u001b[0m\n\u001b[1;32m    587\u001b[0m         \u001b[0mcb\u001b[0m \u001b[1;33m=\u001b[0m \u001b[0mBatchCompletionCallBack\u001b[0m\u001b[1;33m(\u001b[0m\u001b[0mdispatch_timestamp\u001b[0m\u001b[1;33m,\u001b[0m \u001b[0mlen\u001b[0m\u001b[1;33m(\u001b[0m\u001b[0mbatch\u001b[0m\u001b[1;33m)\u001b[0m\u001b[1;33m,\u001b[0m \u001b[0mself\u001b[0m\u001b[1;33m)\u001b[0m\u001b[1;33m\u001b[0m\u001b[0m\n\u001b[0;32m--> 588\u001b[0;31m         \u001b[0mjob\u001b[0m \u001b[1;33m=\u001b[0m \u001b[0mself\u001b[0m\u001b[1;33m.\u001b[0m\u001b[0m_backend\u001b[0m\u001b[1;33m.\u001b[0m\u001b[0mapply_async\u001b[0m\u001b[1;33m(\u001b[0m\u001b[0mbatch\u001b[0m\u001b[1;33m,\u001b[0m \u001b[0mcallback\u001b[0m\u001b[1;33m=\u001b[0m\u001b[0mcb\u001b[0m\u001b[1;33m)\u001b[0m\u001b[1;33m\u001b[0m\u001b[0m\n\u001b[0m\u001b[1;32m    589\u001b[0m         \u001b[0mself\u001b[0m\u001b[1;33m.\u001b[0m\u001b[0m_jobs\u001b[0m\u001b[1;33m.\u001b[0m\u001b[0mappend\u001b[0m\u001b[1;33m(\u001b[0m\u001b[0mjob\u001b[0m\u001b[1;33m)\u001b[0m\u001b[1;33m\u001b[0m\u001b[0m\n\u001b[1;32m    590\u001b[0m \u001b[1;33m\u001b[0m\u001b[0m\n",
      "\u001b[0;32mC:\\ProgramData\\Anaconda3\\lib\\site-packages\\sklearn\\externals\\joblib\\_parallel_backends.py\u001b[0m in \u001b[0;36mapply_async\u001b[0;34m(self, func, callback)\u001b[0m\n\u001b[1;32m    109\u001b[0m     \u001b[1;32mdef\u001b[0m \u001b[0mapply_async\u001b[0m\u001b[1;33m(\u001b[0m\u001b[0mself\u001b[0m\u001b[1;33m,\u001b[0m \u001b[0mfunc\u001b[0m\u001b[1;33m,\u001b[0m \u001b[0mcallback\u001b[0m\u001b[1;33m=\u001b[0m\u001b[1;32mNone\u001b[0m\u001b[1;33m)\u001b[0m\u001b[1;33m:\u001b[0m\u001b[1;33m\u001b[0m\u001b[0m\n\u001b[1;32m    110\u001b[0m         \u001b[1;34m\"\"\"Schedule a func to be run\"\"\"\u001b[0m\u001b[1;33m\u001b[0m\u001b[0m\n\u001b[0;32m--> 111\u001b[0;31m         \u001b[0mresult\u001b[0m \u001b[1;33m=\u001b[0m \u001b[0mImmediateResult\u001b[0m\u001b[1;33m(\u001b[0m\u001b[0mfunc\u001b[0m\u001b[1;33m)\u001b[0m\u001b[1;33m\u001b[0m\u001b[0m\n\u001b[0m\u001b[1;32m    112\u001b[0m         \u001b[1;32mif\u001b[0m \u001b[0mcallback\u001b[0m\u001b[1;33m:\u001b[0m\u001b[1;33m\u001b[0m\u001b[0m\n\u001b[1;32m    113\u001b[0m             \u001b[0mcallback\u001b[0m\u001b[1;33m(\u001b[0m\u001b[0mresult\u001b[0m\u001b[1;33m)\u001b[0m\u001b[1;33m\u001b[0m\u001b[0m\n",
      "\u001b[0;32mC:\\ProgramData\\Anaconda3\\lib\\site-packages\\sklearn\\externals\\joblib\\_parallel_backends.py\u001b[0m in \u001b[0;36m__init__\u001b[0;34m(self, batch)\u001b[0m\n\u001b[1;32m    330\u001b[0m         \u001b[1;31m# Don't delay the application, to avoid keeping the input\u001b[0m\u001b[1;33m\u001b[0m\u001b[1;33m\u001b[0m\u001b[0m\n\u001b[1;32m    331\u001b[0m         \u001b[1;31m# arguments in memory\u001b[0m\u001b[1;33m\u001b[0m\u001b[1;33m\u001b[0m\u001b[0m\n\u001b[0;32m--> 332\u001b[0;31m         \u001b[0mself\u001b[0m\u001b[1;33m.\u001b[0m\u001b[0mresults\u001b[0m \u001b[1;33m=\u001b[0m \u001b[0mbatch\u001b[0m\u001b[1;33m(\u001b[0m\u001b[1;33m)\u001b[0m\u001b[1;33m\u001b[0m\u001b[0m\n\u001b[0m\u001b[1;32m    333\u001b[0m \u001b[1;33m\u001b[0m\u001b[0m\n\u001b[1;32m    334\u001b[0m     \u001b[1;32mdef\u001b[0m \u001b[0mget\u001b[0m\u001b[1;33m(\u001b[0m\u001b[0mself\u001b[0m\u001b[1;33m)\u001b[0m\u001b[1;33m:\u001b[0m\u001b[1;33m\u001b[0m\u001b[0m\n",
      "\u001b[0;32mC:\\ProgramData\\Anaconda3\\lib\\site-packages\\sklearn\\externals\\joblib\\parallel.py\u001b[0m in \u001b[0;36m__call__\u001b[0;34m(self)\u001b[0m\n\u001b[1;32m    129\u001b[0m \u001b[1;33m\u001b[0m\u001b[0m\n\u001b[1;32m    130\u001b[0m     \u001b[1;32mdef\u001b[0m \u001b[0m__call__\u001b[0m\u001b[1;33m(\u001b[0m\u001b[0mself\u001b[0m\u001b[1;33m)\u001b[0m\u001b[1;33m:\u001b[0m\u001b[1;33m\u001b[0m\u001b[0m\n\u001b[0;32m--> 131\u001b[0;31m         \u001b[1;32mreturn\u001b[0m \u001b[1;33m[\u001b[0m\u001b[0mfunc\u001b[0m\u001b[1;33m(\u001b[0m\u001b[1;33m*\u001b[0m\u001b[0margs\u001b[0m\u001b[1;33m,\u001b[0m \u001b[1;33m**\u001b[0m\u001b[0mkwargs\u001b[0m\u001b[1;33m)\u001b[0m \u001b[1;32mfor\u001b[0m \u001b[0mfunc\u001b[0m\u001b[1;33m,\u001b[0m \u001b[0margs\u001b[0m\u001b[1;33m,\u001b[0m \u001b[0mkwargs\u001b[0m \u001b[1;32min\u001b[0m \u001b[0mself\u001b[0m\u001b[1;33m.\u001b[0m\u001b[0mitems\u001b[0m\u001b[1;33m]\u001b[0m\u001b[1;33m\u001b[0m\u001b[0m\n\u001b[0m\u001b[1;32m    132\u001b[0m \u001b[1;33m\u001b[0m\u001b[0m\n\u001b[1;32m    133\u001b[0m     \u001b[1;32mdef\u001b[0m \u001b[0m__len__\u001b[0m\u001b[1;33m(\u001b[0m\u001b[0mself\u001b[0m\u001b[1;33m)\u001b[0m\u001b[1;33m:\u001b[0m\u001b[1;33m\u001b[0m\u001b[0m\n",
      "\u001b[0;32mC:\\ProgramData\\Anaconda3\\lib\\site-packages\\sklearn\\externals\\joblib\\parallel.py\u001b[0m in \u001b[0;36m<listcomp>\u001b[0;34m(.0)\u001b[0m\n\u001b[1;32m    129\u001b[0m \u001b[1;33m\u001b[0m\u001b[0m\n\u001b[1;32m    130\u001b[0m     \u001b[1;32mdef\u001b[0m \u001b[0m__call__\u001b[0m\u001b[1;33m(\u001b[0m\u001b[0mself\u001b[0m\u001b[1;33m)\u001b[0m\u001b[1;33m:\u001b[0m\u001b[1;33m\u001b[0m\u001b[0m\n\u001b[0;32m--> 131\u001b[0;31m         \u001b[1;32mreturn\u001b[0m \u001b[1;33m[\u001b[0m\u001b[0mfunc\u001b[0m\u001b[1;33m(\u001b[0m\u001b[1;33m*\u001b[0m\u001b[0margs\u001b[0m\u001b[1;33m,\u001b[0m \u001b[1;33m**\u001b[0m\u001b[0mkwargs\u001b[0m\u001b[1;33m)\u001b[0m \u001b[1;32mfor\u001b[0m \u001b[0mfunc\u001b[0m\u001b[1;33m,\u001b[0m \u001b[0margs\u001b[0m\u001b[1;33m,\u001b[0m \u001b[0mkwargs\u001b[0m \u001b[1;32min\u001b[0m \u001b[0mself\u001b[0m\u001b[1;33m.\u001b[0m\u001b[0mitems\u001b[0m\u001b[1;33m]\u001b[0m\u001b[1;33m\u001b[0m\u001b[0m\n\u001b[0m\u001b[1;32m    132\u001b[0m \u001b[1;33m\u001b[0m\u001b[0m\n\u001b[1;32m    133\u001b[0m     \u001b[1;32mdef\u001b[0m \u001b[0m__len__\u001b[0m\u001b[1;33m(\u001b[0m\u001b[0mself\u001b[0m\u001b[1;33m)\u001b[0m\u001b[1;33m:\u001b[0m\u001b[1;33m\u001b[0m\u001b[0m\n",
      "\u001b[0;32mC:\\ProgramData\\Anaconda3\\lib\\site-packages\\sklearn\\model_selection\\_validation.py\u001b[0m in \u001b[0;36m_fit_and_score\u001b[0;34m(estimator, X, y, scorer, train, test, verbose, parameters, fit_params, return_train_score, return_parameters, return_n_test_samples, return_times, error_score)\u001b[0m\n\u001b[1;32m    456\u001b[0m             \u001b[0mestimator\u001b[0m\u001b[1;33m.\u001b[0m\u001b[0mfit\u001b[0m\u001b[1;33m(\u001b[0m\u001b[0mX_train\u001b[0m\u001b[1;33m,\u001b[0m \u001b[1;33m**\u001b[0m\u001b[0mfit_params\u001b[0m\u001b[1;33m)\u001b[0m\u001b[1;33m\u001b[0m\u001b[0m\n\u001b[1;32m    457\u001b[0m         \u001b[1;32melse\u001b[0m\u001b[1;33m:\u001b[0m\u001b[1;33m\u001b[0m\u001b[0m\n\u001b[0;32m--> 458\u001b[0;31m             \u001b[0mestimator\u001b[0m\u001b[1;33m.\u001b[0m\u001b[0mfit\u001b[0m\u001b[1;33m(\u001b[0m\u001b[0mX_train\u001b[0m\u001b[1;33m,\u001b[0m \u001b[0my_train\u001b[0m\u001b[1;33m,\u001b[0m \u001b[1;33m**\u001b[0m\u001b[0mfit_params\u001b[0m\u001b[1;33m)\u001b[0m\u001b[1;33m\u001b[0m\u001b[0m\n\u001b[0m\u001b[1;32m    459\u001b[0m \u001b[1;33m\u001b[0m\u001b[0m\n\u001b[1;32m    460\u001b[0m     \u001b[1;32mexcept\u001b[0m \u001b[0mException\u001b[0m \u001b[1;32mas\u001b[0m \u001b[0me\u001b[0m\u001b[1;33m:\u001b[0m\u001b[1;33m\u001b[0m\u001b[0m\n",
      "\u001b[0;32mC:\\ProgramData\\Anaconda3\\lib\\site-packages\\sklearn\\ensemble\\forest.py\u001b[0m in \u001b[0;36mfit\u001b[0;34m(self, X, y, sample_weight)\u001b[0m\n\u001b[1;32m    326\u001b[0m                     \u001b[0mt\u001b[0m\u001b[1;33m,\u001b[0m \u001b[0mself\u001b[0m\u001b[1;33m,\u001b[0m \u001b[0mX\u001b[0m\u001b[1;33m,\u001b[0m \u001b[0my\u001b[0m\u001b[1;33m,\u001b[0m \u001b[0msample_weight\u001b[0m\u001b[1;33m,\u001b[0m \u001b[0mi\u001b[0m\u001b[1;33m,\u001b[0m \u001b[0mlen\u001b[0m\u001b[1;33m(\u001b[0m\u001b[0mtrees\u001b[0m\u001b[1;33m)\u001b[0m\u001b[1;33m,\u001b[0m\u001b[1;33m\u001b[0m\u001b[0m\n\u001b[1;32m    327\u001b[0m                     verbose=self.verbose, class_weight=self.class_weight)\n\u001b[0;32m--> 328\u001b[0;31m                 for i, t in enumerate(trees))\n\u001b[0m\u001b[1;32m    329\u001b[0m \u001b[1;33m\u001b[0m\u001b[0m\n\u001b[1;32m    330\u001b[0m             \u001b[1;31m# Collect newly grown trees\u001b[0m\u001b[1;33m\u001b[0m\u001b[1;33m\u001b[0m\u001b[0m\n",
      "\u001b[0;32mC:\\ProgramData\\Anaconda3\\lib\\site-packages\\sklearn\\externals\\joblib\\parallel.py\u001b[0m in \u001b[0;36m__call__\u001b[0;34m(self, iterable)\u001b[0m\n\u001b[1;32m    777\u001b[0m             \u001b[1;31m# was dispatched. In particular this covers the edge\u001b[0m\u001b[1;33m\u001b[0m\u001b[1;33m\u001b[0m\u001b[0m\n\u001b[1;32m    778\u001b[0m             \u001b[1;31m# case of Parallel used with an exhausted iterator.\u001b[0m\u001b[1;33m\u001b[0m\u001b[1;33m\u001b[0m\u001b[0m\n\u001b[0;32m--> 779\u001b[0;31m             \u001b[1;32mwhile\u001b[0m \u001b[0mself\u001b[0m\u001b[1;33m.\u001b[0m\u001b[0mdispatch_one_batch\u001b[0m\u001b[1;33m(\u001b[0m\u001b[0miterator\u001b[0m\u001b[1;33m)\u001b[0m\u001b[1;33m:\u001b[0m\u001b[1;33m\u001b[0m\u001b[0m\n\u001b[0m\u001b[1;32m    780\u001b[0m                 \u001b[0mself\u001b[0m\u001b[1;33m.\u001b[0m\u001b[0m_iterating\u001b[0m \u001b[1;33m=\u001b[0m \u001b[1;32mTrue\u001b[0m\u001b[1;33m\u001b[0m\u001b[0m\n\u001b[1;32m    781\u001b[0m             \u001b[1;32melse\u001b[0m\u001b[1;33m:\u001b[0m\u001b[1;33m\u001b[0m\u001b[0m\n",
      "\u001b[0;32mC:\\ProgramData\\Anaconda3\\lib\\site-packages\\sklearn\\externals\\joblib\\parallel.py\u001b[0m in \u001b[0;36mdispatch_one_batch\u001b[0;34m(self, iterator)\u001b[0m\n\u001b[1;32m    623\u001b[0m                 \u001b[1;32mreturn\u001b[0m \u001b[1;32mFalse\u001b[0m\u001b[1;33m\u001b[0m\u001b[0m\n\u001b[1;32m    624\u001b[0m             \u001b[1;32melse\u001b[0m\u001b[1;33m:\u001b[0m\u001b[1;33m\u001b[0m\u001b[0m\n\u001b[0;32m--> 625\u001b[0;31m                 \u001b[0mself\u001b[0m\u001b[1;33m.\u001b[0m\u001b[0m_dispatch\u001b[0m\u001b[1;33m(\u001b[0m\u001b[0mtasks\u001b[0m\u001b[1;33m)\u001b[0m\u001b[1;33m\u001b[0m\u001b[0m\n\u001b[0m\u001b[1;32m    626\u001b[0m                 \u001b[1;32mreturn\u001b[0m \u001b[1;32mTrue\u001b[0m\u001b[1;33m\u001b[0m\u001b[0m\n\u001b[1;32m    627\u001b[0m \u001b[1;33m\u001b[0m\u001b[0m\n",
      "\u001b[0;32mC:\\ProgramData\\Anaconda3\\lib\\site-packages\\sklearn\\externals\\joblib\\parallel.py\u001b[0m in \u001b[0;36m_dispatch\u001b[0;34m(self, batch)\u001b[0m\n\u001b[1;32m    586\u001b[0m         \u001b[0mdispatch_timestamp\u001b[0m \u001b[1;33m=\u001b[0m \u001b[0mtime\u001b[0m\u001b[1;33m.\u001b[0m\u001b[0mtime\u001b[0m\u001b[1;33m(\u001b[0m\u001b[1;33m)\u001b[0m\u001b[1;33m\u001b[0m\u001b[0m\n\u001b[1;32m    587\u001b[0m         \u001b[0mcb\u001b[0m \u001b[1;33m=\u001b[0m \u001b[0mBatchCompletionCallBack\u001b[0m\u001b[1;33m(\u001b[0m\u001b[0mdispatch_timestamp\u001b[0m\u001b[1;33m,\u001b[0m \u001b[0mlen\u001b[0m\u001b[1;33m(\u001b[0m\u001b[0mbatch\u001b[0m\u001b[1;33m)\u001b[0m\u001b[1;33m,\u001b[0m \u001b[0mself\u001b[0m\u001b[1;33m)\u001b[0m\u001b[1;33m\u001b[0m\u001b[0m\n\u001b[0;32m--> 588\u001b[0;31m         \u001b[0mjob\u001b[0m \u001b[1;33m=\u001b[0m \u001b[0mself\u001b[0m\u001b[1;33m.\u001b[0m\u001b[0m_backend\u001b[0m\u001b[1;33m.\u001b[0m\u001b[0mapply_async\u001b[0m\u001b[1;33m(\u001b[0m\u001b[0mbatch\u001b[0m\u001b[1;33m,\u001b[0m \u001b[0mcallback\u001b[0m\u001b[1;33m=\u001b[0m\u001b[0mcb\u001b[0m\u001b[1;33m)\u001b[0m\u001b[1;33m\u001b[0m\u001b[0m\n\u001b[0m\u001b[1;32m    589\u001b[0m         \u001b[0mself\u001b[0m\u001b[1;33m.\u001b[0m\u001b[0m_jobs\u001b[0m\u001b[1;33m.\u001b[0m\u001b[0mappend\u001b[0m\u001b[1;33m(\u001b[0m\u001b[0mjob\u001b[0m\u001b[1;33m)\u001b[0m\u001b[1;33m\u001b[0m\u001b[0m\n\u001b[1;32m    590\u001b[0m \u001b[1;33m\u001b[0m\u001b[0m\n",
      "\u001b[0;32mC:\\ProgramData\\Anaconda3\\lib\\site-packages\\sklearn\\externals\\joblib\\_parallel_backends.py\u001b[0m in \u001b[0;36mapply_async\u001b[0;34m(self, func, callback)\u001b[0m\n\u001b[1;32m    109\u001b[0m     \u001b[1;32mdef\u001b[0m \u001b[0mapply_async\u001b[0m\u001b[1;33m(\u001b[0m\u001b[0mself\u001b[0m\u001b[1;33m,\u001b[0m \u001b[0mfunc\u001b[0m\u001b[1;33m,\u001b[0m \u001b[0mcallback\u001b[0m\u001b[1;33m=\u001b[0m\u001b[1;32mNone\u001b[0m\u001b[1;33m)\u001b[0m\u001b[1;33m:\u001b[0m\u001b[1;33m\u001b[0m\u001b[0m\n\u001b[1;32m    110\u001b[0m         \u001b[1;34m\"\"\"Schedule a func to be run\"\"\"\u001b[0m\u001b[1;33m\u001b[0m\u001b[0m\n\u001b[0;32m--> 111\u001b[0;31m         \u001b[0mresult\u001b[0m \u001b[1;33m=\u001b[0m \u001b[0mImmediateResult\u001b[0m\u001b[1;33m(\u001b[0m\u001b[0mfunc\u001b[0m\u001b[1;33m)\u001b[0m\u001b[1;33m\u001b[0m\u001b[0m\n\u001b[0m\u001b[1;32m    112\u001b[0m         \u001b[1;32mif\u001b[0m \u001b[0mcallback\u001b[0m\u001b[1;33m:\u001b[0m\u001b[1;33m\u001b[0m\u001b[0m\n\u001b[1;32m    113\u001b[0m             \u001b[0mcallback\u001b[0m\u001b[1;33m(\u001b[0m\u001b[0mresult\u001b[0m\u001b[1;33m)\u001b[0m\u001b[1;33m\u001b[0m\u001b[0m\n",
      "\u001b[0;32mC:\\ProgramData\\Anaconda3\\lib\\site-packages\\sklearn\\externals\\joblib\\_parallel_backends.py\u001b[0m in \u001b[0;36m__init__\u001b[0;34m(self, batch)\u001b[0m\n\u001b[1;32m    330\u001b[0m         \u001b[1;31m# Don't delay the application, to avoid keeping the input\u001b[0m\u001b[1;33m\u001b[0m\u001b[1;33m\u001b[0m\u001b[0m\n\u001b[1;32m    331\u001b[0m         \u001b[1;31m# arguments in memory\u001b[0m\u001b[1;33m\u001b[0m\u001b[1;33m\u001b[0m\u001b[0m\n\u001b[0;32m--> 332\u001b[0;31m         \u001b[0mself\u001b[0m\u001b[1;33m.\u001b[0m\u001b[0mresults\u001b[0m \u001b[1;33m=\u001b[0m \u001b[0mbatch\u001b[0m\u001b[1;33m(\u001b[0m\u001b[1;33m)\u001b[0m\u001b[1;33m\u001b[0m\u001b[0m\n\u001b[0m\u001b[1;32m    333\u001b[0m \u001b[1;33m\u001b[0m\u001b[0m\n\u001b[1;32m    334\u001b[0m     \u001b[1;32mdef\u001b[0m \u001b[0mget\u001b[0m\u001b[1;33m(\u001b[0m\u001b[0mself\u001b[0m\u001b[1;33m)\u001b[0m\u001b[1;33m:\u001b[0m\u001b[1;33m\u001b[0m\u001b[0m\n",
      "\u001b[0;32mC:\\ProgramData\\Anaconda3\\lib\\site-packages\\sklearn\\externals\\joblib\\parallel.py\u001b[0m in \u001b[0;36m__call__\u001b[0;34m(self)\u001b[0m\n\u001b[1;32m    129\u001b[0m \u001b[1;33m\u001b[0m\u001b[0m\n\u001b[1;32m    130\u001b[0m     \u001b[1;32mdef\u001b[0m \u001b[0m__call__\u001b[0m\u001b[1;33m(\u001b[0m\u001b[0mself\u001b[0m\u001b[1;33m)\u001b[0m\u001b[1;33m:\u001b[0m\u001b[1;33m\u001b[0m\u001b[0m\n\u001b[0;32m--> 131\u001b[0;31m         \u001b[1;32mreturn\u001b[0m \u001b[1;33m[\u001b[0m\u001b[0mfunc\u001b[0m\u001b[1;33m(\u001b[0m\u001b[1;33m*\u001b[0m\u001b[0margs\u001b[0m\u001b[1;33m,\u001b[0m \u001b[1;33m**\u001b[0m\u001b[0mkwargs\u001b[0m\u001b[1;33m)\u001b[0m \u001b[1;32mfor\u001b[0m \u001b[0mfunc\u001b[0m\u001b[1;33m,\u001b[0m \u001b[0margs\u001b[0m\u001b[1;33m,\u001b[0m \u001b[0mkwargs\u001b[0m \u001b[1;32min\u001b[0m \u001b[0mself\u001b[0m\u001b[1;33m.\u001b[0m\u001b[0mitems\u001b[0m\u001b[1;33m]\u001b[0m\u001b[1;33m\u001b[0m\u001b[0m\n\u001b[0m\u001b[1;32m    132\u001b[0m \u001b[1;33m\u001b[0m\u001b[0m\n\u001b[1;32m    133\u001b[0m     \u001b[1;32mdef\u001b[0m \u001b[0m__len__\u001b[0m\u001b[1;33m(\u001b[0m\u001b[0mself\u001b[0m\u001b[1;33m)\u001b[0m\u001b[1;33m:\u001b[0m\u001b[1;33m\u001b[0m\u001b[0m\n",
      "\u001b[0;32mC:\\ProgramData\\Anaconda3\\lib\\site-packages\\sklearn\\externals\\joblib\\parallel.py\u001b[0m in \u001b[0;36m<listcomp>\u001b[0;34m(.0)\u001b[0m\n\u001b[1;32m    129\u001b[0m \u001b[1;33m\u001b[0m\u001b[0m\n\u001b[1;32m    130\u001b[0m     \u001b[1;32mdef\u001b[0m \u001b[0m__call__\u001b[0m\u001b[1;33m(\u001b[0m\u001b[0mself\u001b[0m\u001b[1;33m)\u001b[0m\u001b[1;33m:\u001b[0m\u001b[1;33m\u001b[0m\u001b[0m\n\u001b[0;32m--> 131\u001b[0;31m         \u001b[1;32mreturn\u001b[0m \u001b[1;33m[\u001b[0m\u001b[0mfunc\u001b[0m\u001b[1;33m(\u001b[0m\u001b[1;33m*\u001b[0m\u001b[0margs\u001b[0m\u001b[1;33m,\u001b[0m \u001b[1;33m**\u001b[0m\u001b[0mkwargs\u001b[0m\u001b[1;33m)\u001b[0m \u001b[1;32mfor\u001b[0m \u001b[0mfunc\u001b[0m\u001b[1;33m,\u001b[0m \u001b[0margs\u001b[0m\u001b[1;33m,\u001b[0m \u001b[0mkwargs\u001b[0m \u001b[1;32min\u001b[0m \u001b[0mself\u001b[0m\u001b[1;33m.\u001b[0m\u001b[0mitems\u001b[0m\u001b[1;33m]\u001b[0m\u001b[1;33m\u001b[0m\u001b[0m\n\u001b[0m\u001b[1;32m    132\u001b[0m \u001b[1;33m\u001b[0m\u001b[0m\n\u001b[1;32m    133\u001b[0m     \u001b[1;32mdef\u001b[0m \u001b[0m__len__\u001b[0m\u001b[1;33m(\u001b[0m\u001b[0mself\u001b[0m\u001b[1;33m)\u001b[0m\u001b[1;33m:\u001b[0m\u001b[1;33m\u001b[0m\u001b[0m\n",
      "\u001b[0;32mC:\\ProgramData\\Anaconda3\\lib\\site-packages\\sklearn\\ensemble\\forest.py\u001b[0m in \u001b[0;36m_parallel_build_trees\u001b[0;34m(tree, forest, X, y, sample_weight, tree_idx, n_trees, verbose, class_weight)\u001b[0m\n\u001b[1;32m    108\u001b[0m             \u001b[0mcurr_sample_weight\u001b[0m \u001b[1;33m=\u001b[0m \u001b[0msample_weight\u001b[0m\u001b[1;33m.\u001b[0m\u001b[0mcopy\u001b[0m\u001b[1;33m(\u001b[0m\u001b[1;33m)\u001b[0m\u001b[1;33m\u001b[0m\u001b[0m\n\u001b[1;32m    109\u001b[0m \u001b[1;33m\u001b[0m\u001b[0m\n\u001b[0;32m--> 110\u001b[0;31m         \u001b[0mindices\u001b[0m \u001b[1;33m=\u001b[0m \u001b[0m_generate_sample_indices\u001b[0m\u001b[1;33m(\u001b[0m\u001b[0mtree\u001b[0m\u001b[1;33m.\u001b[0m\u001b[0mrandom_state\u001b[0m\u001b[1;33m,\u001b[0m \u001b[0mn_samples\u001b[0m\u001b[1;33m)\u001b[0m\u001b[1;33m\u001b[0m\u001b[0m\n\u001b[0m\u001b[1;32m    111\u001b[0m         \u001b[0msample_counts\u001b[0m \u001b[1;33m=\u001b[0m \u001b[0mnp\u001b[0m\u001b[1;33m.\u001b[0m\u001b[0mbincount\u001b[0m\u001b[1;33m(\u001b[0m\u001b[0mindices\u001b[0m\u001b[1;33m,\u001b[0m \u001b[0mminlength\u001b[0m\u001b[1;33m=\u001b[0m\u001b[0mn_samples\u001b[0m\u001b[1;33m)\u001b[0m\u001b[1;33m\u001b[0m\u001b[0m\n\u001b[1;32m    112\u001b[0m         \u001b[0mcurr_sample_weight\u001b[0m \u001b[1;33m*=\u001b[0m \u001b[0msample_counts\u001b[0m\u001b[1;33m\u001b[0m\u001b[0m\n",
      "\u001b[0;32mC:\\ProgramData\\Anaconda3\\lib\\site-packages\\sklearn\\ensemble\\forest.py\u001b[0m in \u001b[0;36m_generate_sample_indices\u001b[0;34m(random_state, n_samples)\u001b[0m\n\u001b[1;32m     79\u001b[0m     \u001b[1;34m\"\"\"Private function used to _parallel_build_trees function.\"\"\"\u001b[0m\u001b[1;33m\u001b[0m\u001b[0m\n\u001b[1;32m     80\u001b[0m     \u001b[0mrandom_instance\u001b[0m \u001b[1;33m=\u001b[0m \u001b[0mcheck_random_state\u001b[0m\u001b[1;33m(\u001b[0m\u001b[0mrandom_state\u001b[0m\u001b[1;33m)\u001b[0m\u001b[1;33m\u001b[0m\u001b[0m\n\u001b[0;32m---> 81\u001b[0;31m     \u001b[0msample_indices\u001b[0m \u001b[1;33m=\u001b[0m \u001b[0mrandom_instance\u001b[0m\u001b[1;33m.\u001b[0m\u001b[0mrandint\u001b[0m\u001b[1;33m(\u001b[0m\u001b[1;36m0\u001b[0m\u001b[1;33m,\u001b[0m \u001b[0mn_samples\u001b[0m\u001b[1;33m,\u001b[0m \u001b[0mn_samples\u001b[0m\u001b[1;33m)\u001b[0m\u001b[1;33m\u001b[0m\u001b[0m\n\u001b[0m\u001b[1;32m     82\u001b[0m \u001b[1;33m\u001b[0m\u001b[0m\n\u001b[1;32m     83\u001b[0m     \u001b[1;32mreturn\u001b[0m \u001b[0msample_indices\u001b[0m\u001b[1;33m\u001b[0m\u001b[0m\n",
      "\u001b[0;31mKeyboardInterrupt\u001b[0m: "
     ]
    }
   ],
   "source": [
    "from sklearn.ensemble import RandomForestClassifier\n",
    "from sklearn.model_selection import GridSearchCV\n",
    "rfc = RandomForestClassifier()\n",
    "estimator = np.array([10, 50, 100])\n",
    "depth = np.array(list(range(11,21)))\n",
    "#minsample = np.array([3, 5, 7, 10])\n",
    "#minleaf = np.array([2,3,4,5])\n",
    "c = ['gini','entropy']\n",
    "#state = np.array(list(range(25)))\n",
    "params = {'n_estimators':estimator, 'max_depth':depth, 'criterion':c}\n",
    "grid = GridSearchCV(rfc, params, scoring='roc_auc', refit=True)\n",
    "grid.fit(x_train_res,y_train_res)\n",
    "print('Best log_loss: {:.4}, with best{}'.format(grid.best_score_, grid.best_params_))\n",
    "rfc_pred = grid.predict(x_val_res)\n",
    "metrics.roc_auc_score(y_val_res, rfc_pred)"
   ]
  },
  {
   "cell_type": "code",
   "execution_count": 21,
   "metadata": {
    "collapsed": false
   },
   "outputs": [
    {
     "data": {
      "text/plain": [
       "0.559077432281311"
      ]
     },
     "execution_count": 21,
     "metadata": {},
     "output_type": "execute_result"
    }
   ],
   "source": [
    "rfc_pred = rfc.predict(x_test)\n",
    "metrics.roc_auc_score(y_test, rfc_pred)"
   ]
  },
  {
   "cell_type": "code",
   "execution_count": 23,
   "metadata": {
    "collapsed": false
   },
   "outputs": [
    {
     "data": {
      "text/plain": [
       "1"
      ]
     },
     "execution_count": 23,
     "metadata": {},
     "output_type": "execute_result"
    }
   ],
   "source": [
    "test_pred = rfc.predict(test_merged[feature_cols])\n",
    "test_pred.max()"
   ]
  },
  {
   "cell_type": "code",
   "execution_count": 24,
   "metadata": {
    "collapsed": false
   },
   "outputs": [
    {
     "data": {
      "text/html": [
       "<div>\n",
       "<table border=\"1\" class=\"dataframe\">\n",
       "  <thead>\n",
       "    <tr style=\"text-align: right;\">\n",
       "      <th></th>\n",
       "      <th>id</th>\n",
       "      <th>is_click</th>\n",
       "    </tr>\n",
       "  </thead>\n",
       "  <tbody>\n",
       "    <tr>\n",
       "      <th>0</th>\n",
       "      <td>63_122715</td>\n",
       "      <td>1</td>\n",
       "    </tr>\n",
       "    <tr>\n",
       "      <th>1</th>\n",
       "      <td>56_76206</td>\n",
       "      <td>1</td>\n",
       "    </tr>\n",
       "    <tr>\n",
       "      <th>2</th>\n",
       "      <td>57_96189</td>\n",
       "      <td>1</td>\n",
       "    </tr>\n",
       "    <tr>\n",
       "      <th>3</th>\n",
       "      <td>56_166917</td>\n",
       "      <td>1</td>\n",
       "    </tr>\n",
       "    <tr>\n",
       "      <th>4</th>\n",
       "      <td>56_172838</td>\n",
       "      <td>1</td>\n",
       "    </tr>\n",
       "  </tbody>\n",
       "</table>\n",
       "</div>"
      ],
      "text/plain": [
       "          id  is_click\n",
       "0  63_122715         1\n",
       "1   56_76206         1\n",
       "2   57_96189         1\n",
       "3  56_166917         1\n",
       "4  56_172838         1"
      ]
     },
     "execution_count": 24,
     "metadata": {},
     "output_type": "execute_result"
    }
   ],
   "source": [
    "sample['is_click'] = test_pred\n",
    "sample.head()\n",
    "sample.to_csv('sample_submission.csv', index=False)"
   ]
  },
  {
   "cell_type": "code",
   "execution_count": 25,
   "metadata": {
    "collapsed": false
   },
   "outputs": [
    {
     "data": {
      "text/plain": [
       "1    773858\n",
       "Name: is_click, dtype: int64"
      ]
     },
     "execution_count": 25,
     "metadata": {},
     "output_type": "execute_result"
    }
   ],
   "source": [
    "sample.is_click.value_counts()"
   ]
  },
  {
   "cell_type": "markdown",
   "metadata": {},
   "source": [
    "AV Score - 0.5036686451"
   ]
  },
  {
   "cell_type": "code",
   "execution_count": 37,
   "metadata": {
    "collapsed": false
   },
   "outputs": [
    {
     "data": {
      "text/plain": [
       "0.576930773482681"
      ]
     },
     "execution_count": 37,
     "metadata": {},
     "output_type": "execute_result"
    },
    {
     "data": {
      "text/plain": [
       "LogisticRegression(C=1.0, class_weight=None, dual=False, fit_intercept=True,\n",
       "          intercept_scaling=1, max_iter=100, multi_class='ovr', n_jobs=1,\n",
       "          penalty='l2', random_state=None, solver='liblinear', tol=0.0001,\n",
       "          verbose=0, warm_start=False)"
      ]
     },
     "execution_count": 37,
     "metadata": {},
     "output_type": "execute_result"
    },
    {
     "data": {
      "text/plain": [
       "0.5488010519722455"
      ]
     },
     "execution_count": 37,
     "metadata": {},
     "output_type": "execute_result"
    }
   ],
   "source": [
    "from sklearn.linear_model import LogisticRegression\n",
    "logreg = LogisticRegression()\n",
    "logreg_cv_score = cross_val_score(logreg, x_train_res, y_train_res, cv=10, scoring='roc_auc')\n",
    "logreg_cv_score.mean()\n",
    "logreg.fit(x_train_res,y_train_res)\n",
    "logreg_pred = logreg.predict(x_val_res)\n",
    "metrics.roc_auc_score(y_val_res, logreg_pred)"
   ]
  },
  {
   "cell_type": "code",
   "execution_count": 38,
   "metadata": {
    "collapsed": false
   },
   "outputs": [
    {
     "data": {
      "text/plain": [
       "0.5490153301415281"
      ]
     },
     "execution_count": 38,
     "metadata": {},
     "output_type": "execute_result"
    }
   ],
   "source": [
    "logreg_pred = logreg.predict(x_test)\n",
    "metrics.roc_auc_score(y_test, logreg_pred)"
   ]
  },
  {
   "cell_type": "code",
   "execution_count": 41,
   "metadata": {
    "collapsed": false
   },
   "outputs": [
    {
     "data": {
      "text/plain": [
       "0.594469088317107"
      ]
     },
     "execution_count": 41,
     "metadata": {},
     "output_type": "execute_result"
    },
    {
     "data": {
      "text/plain": [
       "DecisionTreeClassifier(class_weight=None, criterion='gini', max_depth=None,\n",
       "            max_features=None, max_leaf_nodes=None,\n",
       "            min_impurity_decrease=0.0, min_impurity_split=None,\n",
       "            min_samples_leaf=1, min_samples_split=2,\n",
       "            min_weight_fraction_leaf=0.0, presort=False, random_state=None,\n",
       "            splitter='best')"
      ]
     },
     "execution_count": 41,
     "metadata": {},
     "output_type": "execute_result"
    },
    {
     "data": {
      "text/plain": [
       "0.563271980216637"
      ]
     },
     "execution_count": 41,
     "metadata": {},
     "output_type": "execute_result"
    },
    {
     "data": {
      "text/plain": [
       "0.5557009808434062"
      ]
     },
     "execution_count": 41,
     "metadata": {},
     "output_type": "execute_result"
    }
   ],
   "source": [
    "from sklearn.tree import DecisionTreeClassifier\n",
    "from sklearn.model_selection import cross_val_score\n",
    "dtc = DecisionTreeClassifier()\n",
    "dtc_cv_score = cross_val_score(dtc, x_train_res, y_train_res, cv=10, scoring='roc_auc')\n",
    "dtc_cv_score.mean()\n",
    "dtc.fit(x_train_res,y_train_res)\n",
    "dtc_pred = dtc.predict(x_val_res)\n",
    "metrics.roc_auc_score(y_val_res, dtc_pred)\n",
    "dtc_pred = dtc.predict(x_test)\n",
    "metrics.roc_auc_score(y_test, dtc_pred)"
   ]
  },
  {
   "cell_type": "code",
   "execution_count": 42,
   "metadata": {
    "collapsed": false
   },
   "outputs": [
    {
     "data": {
      "text/html": [
       "<div>\n",
       "<table border=\"1\" class=\"dataframe\">\n",
       "  <thead>\n",
       "    <tr style=\"text-align: right;\">\n",
       "      <th></th>\n",
       "      <th>id</th>\n",
       "      <th>is_click</th>\n",
       "    </tr>\n",
       "  </thead>\n",
       "  <tbody>\n",
       "    <tr>\n",
       "      <th>0</th>\n",
       "      <td>63_122715</td>\n",
       "      <td>1</td>\n",
       "    </tr>\n",
       "    <tr>\n",
       "      <th>1</th>\n",
       "      <td>56_76206</td>\n",
       "      <td>1</td>\n",
       "    </tr>\n",
       "    <tr>\n",
       "      <th>2</th>\n",
       "      <td>57_96189</td>\n",
       "      <td>0</td>\n",
       "    </tr>\n",
       "    <tr>\n",
       "      <th>3</th>\n",
       "      <td>56_166917</td>\n",
       "      <td>1</td>\n",
       "    </tr>\n",
       "    <tr>\n",
       "      <th>4</th>\n",
       "      <td>56_172838</td>\n",
       "      <td>1</td>\n",
       "    </tr>\n",
       "  </tbody>\n",
       "</table>\n",
       "</div>"
      ],
      "text/plain": [
       "          id  is_click\n",
       "0  63_122715         1\n",
       "1   56_76206         1\n",
       "2   57_96189         0\n",
       "3  56_166917         1\n",
       "4  56_172838         1"
      ]
     },
     "execution_count": 42,
     "metadata": {},
     "output_type": "execute_result"
    }
   ],
   "source": [
    "test_pred = dtc.predict(test_scaled)\n",
    "sample['is_click'] = test_pred\n",
    "sample.head()\n",
    "sample.to_csv('sample_submission.csv', index=False)"
   ]
  },
  {
   "cell_type": "markdown",
   "metadata": {},
   "source": [
    "Note: DecisionTreeClassifier score is same as RandomForestClassifier. We can improve RandomForestClassifier further by parameter tuning."
   ]
  },
  {
   "cell_type": "code",
   "execution_count": null,
   "metadata": {
    "collapsed": false
   },
   "outputs": [],
   "source": [
    "from sklearn.neighbors import KNeighborsClassifier\n",
    "knc = KNeighborsClassifier()\n",
    "knc_cv_score = cross_val_score(knc, x_train_res, y_train_res, cv=10, scoring='roc_auc')\n",
    "knc_cv_score.mean()\n",
    "knc.fit(x_train_res,y_train_res)\n",
    "knc_pred = knc.predict(x_val_res)\n",
    "metrics.roc_auc_score(y_val_res, knc_pred)\n",
    "knc_pred = knc.predict(x_test)\n",
    "metrics.roc_auc_score(y_test, knc_pred)"
   ]
  },
  {
   "cell_type": "code",
   "execution_count": 56,
   "metadata": {
    "collapsed": false
   },
   "outputs": [
    {
     "data": {
      "text/plain": [
       "BaggingClassifier(base_estimator=DecisionTreeClassifier(class_weight=None, criterion='gini', max_depth=None,\n",
       "            max_features=None, max_leaf_nodes=None,\n",
       "            min_impurity_decrease=0.0, min_impurity_split=None,\n",
       "            min_samples_leaf=1, min_samples_split=2,\n",
       "            min_weight_fraction_leaf=0.0, presort=False, random_state=None,\n",
       "            splitter='best'),\n",
       "         bootstrap=True, bootstrap_features=False, max_features=1,\n",
       "         max_samples=0.8, n_estimators=10, n_jobs=1, oob_score=False,\n",
       "         random_state=None, verbose=0, warm_start=False)"
      ]
     },
     "execution_count": 56,
     "metadata": {},
     "output_type": "execute_result"
    },
    {
     "data": {
      "text/plain": [
       "0.5541484662693756"
      ]
     },
     "execution_count": 56,
     "metadata": {},
     "output_type": "execute_result"
    },
    {
     "data": {
      "text/plain": [
       "0.5518052251482445"
      ]
     },
     "execution_count": 56,
     "metadata": {},
     "output_type": "execute_result"
    }
   ],
   "source": [
    "from sklearn.ensemble import BaggingClassifier\n",
    "from sklearn.tree import DecisionTreeClassifier\n",
    "bagging = BaggingClassifier(DecisionTreeClassifier(),max_samples=0.8, max_features=1)\n",
    "bagging.fit(x_train_res,y_train_res)\n",
    "bagging_pred = bagging.predict(x_val_res)\n",
    "metrics.roc_auc_score(y_val_res, bagging_pred)\n",
    "bagging_pred = bagging.predict(x_test)\n",
    "metrics.roc_auc_score(y_test, bagging_pred)"
   ]
  },
  {
   "cell_type": "code",
   "execution_count": 57,
   "metadata": {
    "collapsed": false
   },
   "outputs": [
    {
     "data": {
      "text/html": [
       "<div>\n",
       "<table border=\"1\" class=\"dataframe\">\n",
       "  <thead>\n",
       "    <tr style=\"text-align: right;\">\n",
       "      <th></th>\n",
       "      <th>id</th>\n",
       "      <th>is_click</th>\n",
       "    </tr>\n",
       "  </thead>\n",
       "  <tbody>\n",
       "    <tr>\n",
       "      <th>0</th>\n",
       "      <td>63_122715</td>\n",
       "      <td>1</td>\n",
       "    </tr>\n",
       "    <tr>\n",
       "      <th>1</th>\n",
       "      <td>56_76206</td>\n",
       "      <td>1</td>\n",
       "    </tr>\n",
       "    <tr>\n",
       "      <th>2</th>\n",
       "      <td>57_96189</td>\n",
       "      <td>1</td>\n",
       "    </tr>\n",
       "    <tr>\n",
       "      <th>3</th>\n",
       "      <td>56_166917</td>\n",
       "      <td>1</td>\n",
       "    </tr>\n",
       "    <tr>\n",
       "      <th>4</th>\n",
       "      <td>56_172838</td>\n",
       "      <td>1</td>\n",
       "    </tr>\n",
       "  </tbody>\n",
       "</table>\n",
       "</div>"
      ],
      "text/plain": [
       "          id  is_click\n",
       "0  63_122715         1\n",
       "1   56_76206         1\n",
       "2   57_96189         1\n",
       "3  56_166917         1\n",
       "4  56_172838         1"
      ]
     },
     "execution_count": 57,
     "metadata": {},
     "output_type": "execute_result"
    }
   ],
   "source": [
    "test_pred = bagging.predict(test_scaled)\n",
    "sample['is_click'] = test_pred\n",
    "sample.head()\n",
    "sample.to_csv('sample_submission.csv', index=False)"
   ]
  },
  {
   "cell_type": "code",
   "execution_count": 55,
   "metadata": {
    "collapsed": false
   },
   "outputs": [
    {
     "data": {
      "text/plain": [
       "1    707118\n",
       "0     66740\n",
       "Name: is_click, dtype: int64"
      ]
     },
     "execution_count": 55,
     "metadata": {},
     "output_type": "execute_result"
    }
   ],
   "source": [
    "sample.is_click.value_counts()"
   ]
  },
  {
   "cell_type": "code",
   "execution_count": 29,
   "metadata": {
    "collapsed": false
   },
   "outputs": [
    {
     "data": {
      "text/plain": [
       "0.5909756388853521"
      ]
     },
     "execution_count": 29,
     "metadata": {},
     "output_type": "execute_result"
    },
    {
     "data": {
      "text/plain": [
       "AdaBoostClassifier(algorithm='SAMME.R', base_estimator=None,\n",
       "          learning_rate=1.0, n_estimators=50, random_state=None)"
      ]
     },
     "execution_count": 29,
     "metadata": {},
     "output_type": "execute_result"
    },
    {
     "data": {
      "text/plain": [
       "0.5568608259561145"
      ]
     },
     "execution_count": 29,
     "metadata": {},
     "output_type": "execute_result"
    }
   ],
   "source": [
    "from sklearn.ensemble import AdaBoostClassifier\n",
    "abc = AdaBoostClassifier()\n",
    "abc_cv_score = cross_val_score(abc, x_train_res, y_train_res, cv=10, scoring='roc_auc')\n",
    "abc_cv_score.mean()\n",
    "abc.fit(x_train_res,y_train_res)\n",
    "abc_pred = abc.predict(x_val_res)\n",
    "metrics.roc_auc_score(y_val_res, abc_pred)"
   ]
  },
  {
   "cell_type": "code",
   "execution_count": 30,
   "metadata": {
    "collapsed": false
   },
   "outputs": [
    {
     "data": {
      "text/plain": [
       "0.5534821494960244"
      ]
     },
     "execution_count": 30,
     "metadata": {},
     "output_type": "execute_result"
    }
   ],
   "source": [
    "abc_pred = abc.predict(x_test)\n",
    "metrics.roc_auc_score(y_test, abc_pred)"
   ]
  },
  {
   "cell_type": "code",
   "execution_count": 16,
   "metadata": {
    "collapsed": false
   },
   "outputs": [
    {
     "name": "stdout",
     "output_type": "stream",
     "text": [
      "[(0, 9543), (1, 9543)]\n"
     ]
    }
   ],
   "source": [
    "from imblearn.under_sampling import RandomUnderSampler\n",
    "from collections import Counter\n",
    "rus = RandomUnderSampler()\n",
    "x_res, y_res = rus.fit_sample(x_train, y_train)\n",
    "print(sorted(Counter(y_res).items()))"
   ]
  },
  {
   "cell_type": "code",
   "execution_count": 18,
   "metadata": {
    "collapsed": false
   },
   "outputs": [
    {
     "data": {
      "text/plain": [
       "0.59179095687955108"
      ]
     },
     "execution_count": 18,
     "metadata": {},
     "output_type": "execute_result"
    },
    {
     "data": {
      "text/plain": [
       "RandomForestClassifier(bootstrap=True, class_weight=None, criterion='gini',\n",
       "            max_depth=None, max_features='auto', max_leaf_nodes=None,\n",
       "            min_impurity_decrease=0.0, min_impurity_split=None,\n",
       "            min_samples_leaf=1, min_samples_split=2,\n",
       "            min_weight_fraction_leaf=0.0, n_estimators=10, n_jobs=1,\n",
       "            oob_score=False, random_state=None, verbose=0,\n",
       "            warm_start=False)"
      ]
     },
     "execution_count": 18,
     "metadata": {},
     "output_type": "execute_result"
    },
    {
     "data": {
      "text/plain": [
       "0.56155175677339464"
      ]
     },
     "execution_count": 18,
     "metadata": {},
     "output_type": "execute_result"
    }
   ],
   "source": [
    "from sklearn.ensemble import RandomForestClassifier\n",
    "from sklearn.model_selection import cross_val_score\n",
    "from sklearn import metrics\n",
    "rfc = RandomForestClassifier()\n",
    "rfc_cv_score = cross_val_score(rfc, x_res, y_res, cv=10, scoring='roc_auc')\n",
    "rfc_cv_score.mean()\n",
    "rfc.fit(x_res, y_res)\n",
    "rfc_pred = rfc.predict(x_test)\n",
    "metrics.roc_auc_score(y_test, rfc_pred)"
   ]
  },
  {
   "cell_type": "code",
   "execution_count": 27,
   "metadata": {
    "collapsed": false
   },
   "outputs": [
    {
     "data": {
      "text/html": [
       "<div>\n",
       "<style scoped>\n",
       "    .dataframe tbody tr th:only-of-type {\n",
       "        vertical-align: middle;\n",
       "    }\n",
       "\n",
       "    .dataframe tbody tr th {\n",
       "        vertical-align: top;\n",
       "    }\n",
       "\n",
       "    .dataframe thead th {\n",
       "        text-align: right;\n",
       "    }\n",
       "</style>\n",
       "<table border=\"1\" class=\"dataframe\">\n",
       "  <thead>\n",
       "    <tr style=\"text-align: right;\">\n",
       "      <th></th>\n",
       "      <th>id</th>\n",
       "      <th>is_click</th>\n",
       "    </tr>\n",
       "  </thead>\n",
       "  <tbody>\n",
       "    <tr>\n",
       "      <th>0</th>\n",
       "      <td>63_122715</td>\n",
       "      <td>1</td>\n",
       "    </tr>\n",
       "    <tr>\n",
       "      <th>1</th>\n",
       "      <td>56_76206</td>\n",
       "      <td>1</td>\n",
       "    </tr>\n",
       "    <tr>\n",
       "      <th>2</th>\n",
       "      <td>57_96189</td>\n",
       "      <td>1</td>\n",
       "    </tr>\n",
       "    <tr>\n",
       "      <th>3</th>\n",
       "      <td>56_166917</td>\n",
       "      <td>1</td>\n",
       "    </tr>\n",
       "    <tr>\n",
       "      <th>4</th>\n",
       "      <td>56_172838</td>\n",
       "      <td>1</td>\n",
       "    </tr>\n",
       "  </tbody>\n",
       "</table>\n",
       "</div>"
      ],
      "text/plain": [
       "          id  is_click\n",
       "0  63_122715         1\n",
       "1   56_76206         1\n",
       "2   57_96189         1\n",
       "3  56_166917         1\n",
       "4  56_172838         1"
      ]
     },
     "execution_count": 27,
     "metadata": {},
     "output_type": "execute_result"
    },
    {
     "data": {
      "text/plain": [
       "1    583471\n",
       "0    190387\n",
       "Name: is_click, dtype: int64"
      ]
     },
     "execution_count": 27,
     "metadata": {},
     "output_type": "execute_result"
    }
   ],
   "source": [
    "test_pred = rfc.predict(test_scaled)\n",
    "sample['is_click'] = test_pred\n",
    "sample.head()\n",
    "sample.is_click.value_counts()"
   ]
  },
  {
   "cell_type": "code",
   "execution_count": 28,
   "metadata": {
    "collapsed": true
   },
   "outputs": [],
   "source": [
    "sample.to_csv('sample_submission.csv', index=False)"
   ]
  },
  {
   "cell_type": "markdown",
   "metadata": {},
   "source": [
    "AV Score - 0.52066449861696"
   ]
  },
  {
   "cell_type": "code",
   "execution_count": 29,
   "metadata": {
    "collapsed": false
   },
   "outputs": [
    {
     "name": "stdout",
     "output_type": "stream",
     "text": [
      "[(0, 9543), (1, 9543)]\n"
     ]
    }
   ],
   "source": [
    "from imblearn.under_sampling import RandomUnderSampler\n",
    "from collections import Counter\n",
    "rus = RandomUnderSampler(replacement=True)\n",
    "x_res, y_res = rus.fit_sample(x_train, y_train)\n",
    "print(sorted(Counter(y_res).items()))"
   ]
  },
  {
   "cell_type": "code",
   "execution_count": 30,
   "metadata": {
    "collapsed": false
   },
   "outputs": [
    {
     "data": {
      "text/plain": [
       "0.59129133137879175"
      ]
     },
     "execution_count": 30,
     "metadata": {},
     "output_type": "execute_result"
    },
    {
     "data": {
      "text/plain": [
       "RandomForestClassifier(bootstrap=True, class_weight=None, criterion='gini',\n",
       "            max_depth=None, max_features='auto', max_leaf_nodes=None,\n",
       "            min_impurity_decrease=0.0, min_impurity_split=None,\n",
       "            min_samples_leaf=1, min_samples_split=2,\n",
       "            min_weight_fraction_leaf=0.0, n_estimators=10, n_jobs=1,\n",
       "            oob_score=False, random_state=None, verbose=0,\n",
       "            warm_start=False)"
      ]
     },
     "execution_count": 30,
     "metadata": {},
     "output_type": "execute_result"
    },
    {
     "data": {
      "text/plain": [
       "0.5617053644391532"
      ]
     },
     "execution_count": 30,
     "metadata": {},
     "output_type": "execute_result"
    }
   ],
   "source": [
    "from sklearn.ensemble import RandomForestClassifier\n",
    "from sklearn.model_selection import cross_val_score\n",
    "from sklearn import metrics\n",
    "rfc = RandomForestClassifier()\n",
    "rfc_cv_score = cross_val_score(rfc, x_res, y_res, cv=10, scoring='roc_auc')\n",
    "rfc_cv_score.mean()\n",
    "rfc.fit(x_res, y_res)\n",
    "rfc_pred = rfc.predict(x_test)\n",
    "metrics.roc_auc_score(y_test, rfc_pred)"
   ]
  },
  {
   "cell_type": "code",
   "execution_count": 31,
   "metadata": {
    "collapsed": false
   },
   "outputs": [
    {
     "data": {
      "text/html": [
       "<div>\n",
       "<style scoped>\n",
       "    .dataframe tbody tr th:only-of-type {\n",
       "        vertical-align: middle;\n",
       "    }\n",
       "\n",
       "    .dataframe tbody tr th {\n",
       "        vertical-align: top;\n",
       "    }\n",
       "\n",
       "    .dataframe thead th {\n",
       "        text-align: right;\n",
       "    }\n",
       "</style>\n",
       "<table border=\"1\" class=\"dataframe\">\n",
       "  <thead>\n",
       "    <tr style=\"text-align: right;\">\n",
       "      <th></th>\n",
       "      <th>id</th>\n",
       "      <th>is_click</th>\n",
       "    </tr>\n",
       "  </thead>\n",
       "  <tbody>\n",
       "    <tr>\n",
       "      <th>0</th>\n",
       "      <td>63_122715</td>\n",
       "      <td>1</td>\n",
       "    </tr>\n",
       "    <tr>\n",
       "      <th>1</th>\n",
       "      <td>56_76206</td>\n",
       "      <td>0</td>\n",
       "    </tr>\n",
       "    <tr>\n",
       "      <th>2</th>\n",
       "      <td>57_96189</td>\n",
       "      <td>0</td>\n",
       "    </tr>\n",
       "    <tr>\n",
       "      <th>3</th>\n",
       "      <td>56_166917</td>\n",
       "      <td>0</td>\n",
       "    </tr>\n",
       "    <tr>\n",
       "      <th>4</th>\n",
       "      <td>56_172838</td>\n",
       "      <td>0</td>\n",
       "    </tr>\n",
       "  </tbody>\n",
       "</table>\n",
       "</div>"
      ],
      "text/plain": [
       "          id  is_click\n",
       "0  63_122715         1\n",
       "1   56_76206         0\n",
       "2   57_96189         0\n",
       "3  56_166917         0\n",
       "4  56_172838         0"
      ]
     },
     "execution_count": 31,
     "metadata": {},
     "output_type": "execute_result"
    },
    {
     "data": {
      "text/plain": [
       "1    516845\n",
       "0    257013\n",
       "Name: is_click, dtype: int64"
      ]
     },
     "execution_count": 31,
     "metadata": {},
     "output_type": "execute_result"
    }
   ],
   "source": [
    "test_pred = rfc.predict(test_scaled)\n",
    "sample['is_click'] = test_pred\n",
    "sample.head()\n",
    "sample.is_click.value_counts()"
   ]
  },
  {
   "cell_type": "code",
   "execution_count": 32,
   "metadata": {
    "collapsed": true
   },
   "outputs": [],
   "source": [
    "sample.to_csv('sample_submission.csv', index=False)"
   ]
  },
  {
   "cell_type": "markdown",
   "metadata": {},
   "source": [
    "AV Score - 0.508495054342876"
   ]
  },
  {
   "cell_type": "code",
   "execution_count": 42,
   "metadata": {
    "collapsed": false
   },
   "outputs": [
    {
     "name": "stdout",
     "output_type": "stream",
     "text": [
      "[(0, 9543), (1, 9543)]\n"
     ]
    }
   ],
   "source": [
    "from imblearn.under_sampling import NearMiss\n",
    "nm1 = NearMiss(version=1)\n",
    "x_res_nm1, y_res_nm1 = nm1.fit_sample(x_train, y_train)\n",
    "print(sorted(Counter(y_res_nm1).items()))"
   ]
  },
  {
   "cell_type": "code",
   "execution_count": 54,
   "metadata": {
    "collapsed": false
   },
   "outputs": [
    {
     "ename": "MemoryError",
     "evalue": "",
     "output_type": "error",
     "traceback": [
      "\u001b[0;31m---------------------------------------------------------------------------\u001b[0m",
      "\u001b[0;31mMemoryError\u001b[0m                               Traceback (most recent call last)",
      "\u001b[0;32m<ipython-input-54-daedc60e005c>\u001b[0m in \u001b[0;36m<module>\u001b[0;34m()\u001b[0m\n\u001b[1;32m      1\u001b[0m \u001b[1;32mfrom\u001b[0m \u001b[0mimblearn\u001b[0m\u001b[1;33m.\u001b[0m\u001b[0munder_sampling\u001b[0m \u001b[1;32mimport\u001b[0m \u001b[0mNearMiss\u001b[0m\u001b[1;33m\u001b[0m\u001b[0m\n\u001b[1;32m      2\u001b[0m \u001b[0mnm2\u001b[0m \u001b[1;33m=\u001b[0m \u001b[0mNearMiss\u001b[0m\u001b[1;33m(\u001b[0m\u001b[0mversion\u001b[0m\u001b[1;33m=\u001b[0m\u001b[1;36m2\u001b[0m\u001b[1;33m)\u001b[0m\u001b[1;33m\u001b[0m\u001b[0m\n\u001b[0;32m----> 3\u001b[0;31m \u001b[0mx_res_nm2\u001b[0m\u001b[1;33m,\u001b[0m \u001b[0my_res_nm2\u001b[0m \u001b[1;33m=\u001b[0m \u001b[0mnm2\u001b[0m\u001b[1;33m.\u001b[0m\u001b[0mfit_sample\u001b[0m\u001b[1;33m(\u001b[0m\u001b[0mx_train\u001b[0m\u001b[1;33m,\u001b[0m \u001b[0my_train\u001b[0m\u001b[1;33m)\u001b[0m\u001b[1;33m\u001b[0m\u001b[0m\n\u001b[0m\u001b[1;32m      4\u001b[0m \u001b[0mprint\u001b[0m\u001b[1;33m(\u001b[0m\u001b[0msorted\u001b[0m\u001b[1;33m(\u001b[0m\u001b[0mCounter\u001b[0m\u001b[1;33m(\u001b[0m\u001b[0my_res_nm2\u001b[0m\u001b[1;33m)\u001b[0m\u001b[1;33m.\u001b[0m\u001b[0mitems\u001b[0m\u001b[1;33m(\u001b[0m\u001b[1;33m)\u001b[0m\u001b[1;33m)\u001b[0m\u001b[1;33m)\u001b[0m\u001b[1;33m\u001b[0m\u001b[0m\n",
      "\u001b[0;32mC:\\ProgramData\\Anaconda3\\lib\\site-packages\\imblearn\\base.py\u001b[0m in \u001b[0;36mfit_sample\u001b[0;34m(self, X, y)\u001b[0m\n\u001b[1;32m     86\u001b[0m         \"\"\"\n\u001b[1;32m     87\u001b[0m \u001b[1;33m\u001b[0m\u001b[0m\n\u001b[0;32m---> 88\u001b[0;31m         \u001b[1;32mreturn\u001b[0m \u001b[0mself\u001b[0m\u001b[1;33m.\u001b[0m\u001b[0mfit\u001b[0m\u001b[1;33m(\u001b[0m\u001b[0mX\u001b[0m\u001b[1;33m,\u001b[0m \u001b[0my\u001b[0m\u001b[1;33m)\u001b[0m\u001b[1;33m.\u001b[0m\u001b[0msample\u001b[0m\u001b[1;33m(\u001b[0m\u001b[0mX\u001b[0m\u001b[1;33m,\u001b[0m \u001b[0my\u001b[0m\u001b[1;33m)\u001b[0m\u001b[1;33m\u001b[0m\u001b[0m\n\u001b[0m\u001b[1;32m     89\u001b[0m \u001b[1;33m\u001b[0m\u001b[0m\n\u001b[1;32m     90\u001b[0m     \u001b[1;33m@\u001b[0m\u001b[0mabstractmethod\u001b[0m\u001b[1;33m\u001b[0m\u001b[0m\n",
      "\u001b[0;32mC:\\ProgramData\\Anaconda3\\lib\\site-packages\\imblearn\\base.py\u001b[0m in \u001b[0;36msample\u001b[0;34m(self, X, y)\u001b[0m\n\u001b[1;32m     62\u001b[0m         \u001b[0mself\u001b[0m\u001b[1;33m.\u001b[0m\u001b[0m_check_X_y\u001b[0m\u001b[1;33m(\u001b[0m\u001b[0mX\u001b[0m\u001b[1;33m,\u001b[0m \u001b[0my\u001b[0m\u001b[1;33m)\u001b[0m\u001b[1;33m\u001b[0m\u001b[0m\n\u001b[1;32m     63\u001b[0m \u001b[1;33m\u001b[0m\u001b[0m\n\u001b[0;32m---> 64\u001b[0;31m         \u001b[1;32mreturn\u001b[0m \u001b[0mself\u001b[0m\u001b[1;33m.\u001b[0m\u001b[0m_sample\u001b[0m\u001b[1;33m(\u001b[0m\u001b[0mX\u001b[0m\u001b[1;33m,\u001b[0m \u001b[0my\u001b[0m\u001b[1;33m)\u001b[0m\u001b[1;33m\u001b[0m\u001b[0m\n\u001b[0m\u001b[1;32m     65\u001b[0m \u001b[1;33m\u001b[0m\u001b[0m\n\u001b[1;32m     66\u001b[0m     \u001b[1;32mdef\u001b[0m \u001b[0mfit_sample\u001b[0m\u001b[1;33m(\u001b[0m\u001b[0mself\u001b[0m\u001b[1;33m,\u001b[0m \u001b[0mX\u001b[0m\u001b[1;33m,\u001b[0m \u001b[0my\u001b[0m\u001b[1;33m)\u001b[0m\u001b[1;33m:\u001b[0m\u001b[1;33m\u001b[0m\u001b[0m\n",
      "\u001b[0;32mC:\\ProgramData\\Anaconda3\\lib\\site-packages\\imblearn\\under_sampling\\prototype_selection\\nearmiss.py\u001b[0m in \u001b[0;36m_sample\u001b[0;34m(self, X, y)\u001b[0m\n\u001b[1;32m    287\u001b[0m                 \u001b[1;32melif\u001b[0m \u001b[0mself\u001b[0m\u001b[1;33m.\u001b[0m\u001b[0mversion\u001b[0m \u001b[1;33m==\u001b[0m \u001b[1;36m2\u001b[0m\u001b[1;33m:\u001b[0m\u001b[1;33m\u001b[0m\u001b[0m\n\u001b[1;32m    288\u001b[0m                     dist_vec, idx_vec = self.nn_.kneighbors(\n\u001b[0;32m--> 289\u001b[0;31m                         X_class, n_neighbors=target_stats[class_minority])\n\u001b[0m\u001b[1;32m    290\u001b[0m                     index_target_class = self._selection_dist_based(\n\u001b[1;32m    291\u001b[0m                         \u001b[0mX\u001b[0m\u001b[1;33m,\u001b[0m \u001b[0my\u001b[0m\u001b[1;33m,\u001b[0m \u001b[0mdist_vec\u001b[0m\u001b[1;33m,\u001b[0m \u001b[0mn_samples\u001b[0m\u001b[1;33m,\u001b[0m \u001b[0mtarget_class\u001b[0m\u001b[1;33m,\u001b[0m\u001b[1;33m\u001b[0m\u001b[0m\n",
      "\u001b[0;32mC:\\ProgramData\\Anaconda3\\lib\\site-packages\\sklearn\\neighbors\\base.py\u001b[0m in \u001b[0;36mkneighbors\u001b[0;34m(self, X, n_neighbors, return_distance)\u001b[0m\n\u001b[1;32m    383\u001b[0m                 delayed(self._tree.query, check_pickle=False)(\n\u001b[1;32m    384\u001b[0m                     X[s], n_neighbors, return_distance)\n\u001b[0;32m--> 385\u001b[0;31m                 \u001b[1;32mfor\u001b[0m \u001b[0ms\u001b[0m \u001b[1;32min\u001b[0m \u001b[0mgen_even_slices\u001b[0m\u001b[1;33m(\u001b[0m\u001b[0mX\u001b[0m\u001b[1;33m.\u001b[0m\u001b[0mshape\u001b[0m\u001b[1;33m[\u001b[0m\u001b[1;36m0\u001b[0m\u001b[1;33m]\u001b[0m\u001b[1;33m,\u001b[0m \u001b[0mn_jobs\u001b[0m\u001b[1;33m)\u001b[0m\u001b[1;33m\u001b[0m\u001b[0m\n\u001b[0m\u001b[1;32m    386\u001b[0m             )\n\u001b[1;32m    387\u001b[0m             \u001b[1;32mif\u001b[0m \u001b[0mreturn_distance\u001b[0m\u001b[1;33m:\u001b[0m\u001b[1;33m\u001b[0m\u001b[0m\n",
      "\u001b[0;32mC:\\ProgramData\\Anaconda3\\lib\\site-packages\\sklearn\\externals\\joblib\\parallel.py\u001b[0m in \u001b[0;36m__call__\u001b[0;34m(self, iterable)\u001b[0m\n\u001b[1;32m    777\u001b[0m             \u001b[1;31m# was dispatched. In particular this covers the edge\u001b[0m\u001b[1;33m\u001b[0m\u001b[1;33m\u001b[0m\u001b[0m\n\u001b[1;32m    778\u001b[0m             \u001b[1;31m# case of Parallel used with an exhausted iterator.\u001b[0m\u001b[1;33m\u001b[0m\u001b[1;33m\u001b[0m\u001b[0m\n\u001b[0;32m--> 779\u001b[0;31m             \u001b[1;32mwhile\u001b[0m \u001b[0mself\u001b[0m\u001b[1;33m.\u001b[0m\u001b[0mdispatch_one_batch\u001b[0m\u001b[1;33m(\u001b[0m\u001b[0miterator\u001b[0m\u001b[1;33m)\u001b[0m\u001b[1;33m:\u001b[0m\u001b[1;33m\u001b[0m\u001b[0m\n\u001b[0m\u001b[1;32m    780\u001b[0m                 \u001b[0mself\u001b[0m\u001b[1;33m.\u001b[0m\u001b[0m_iterating\u001b[0m \u001b[1;33m=\u001b[0m \u001b[1;32mTrue\u001b[0m\u001b[1;33m\u001b[0m\u001b[0m\n\u001b[1;32m    781\u001b[0m             \u001b[1;32melse\u001b[0m\u001b[1;33m:\u001b[0m\u001b[1;33m\u001b[0m\u001b[0m\n",
      "\u001b[0;32mC:\\ProgramData\\Anaconda3\\lib\\site-packages\\sklearn\\externals\\joblib\\parallel.py\u001b[0m in \u001b[0;36mdispatch_one_batch\u001b[0;34m(self, iterator)\u001b[0m\n\u001b[1;32m    623\u001b[0m                 \u001b[1;32mreturn\u001b[0m \u001b[1;32mFalse\u001b[0m\u001b[1;33m\u001b[0m\u001b[0m\n\u001b[1;32m    624\u001b[0m             \u001b[1;32melse\u001b[0m\u001b[1;33m:\u001b[0m\u001b[1;33m\u001b[0m\u001b[0m\n\u001b[0;32m--> 625\u001b[0;31m                 \u001b[0mself\u001b[0m\u001b[1;33m.\u001b[0m\u001b[0m_dispatch\u001b[0m\u001b[1;33m(\u001b[0m\u001b[0mtasks\u001b[0m\u001b[1;33m)\u001b[0m\u001b[1;33m\u001b[0m\u001b[0m\n\u001b[0m\u001b[1;32m    626\u001b[0m                 \u001b[1;32mreturn\u001b[0m \u001b[1;32mTrue\u001b[0m\u001b[1;33m\u001b[0m\u001b[0m\n\u001b[1;32m    627\u001b[0m \u001b[1;33m\u001b[0m\u001b[0m\n",
      "\u001b[0;32mC:\\ProgramData\\Anaconda3\\lib\\site-packages\\sklearn\\externals\\joblib\\parallel.py\u001b[0m in \u001b[0;36m_dispatch\u001b[0;34m(self, batch)\u001b[0m\n\u001b[1;32m    586\u001b[0m         \u001b[0mdispatch_timestamp\u001b[0m \u001b[1;33m=\u001b[0m \u001b[0mtime\u001b[0m\u001b[1;33m.\u001b[0m\u001b[0mtime\u001b[0m\u001b[1;33m(\u001b[0m\u001b[1;33m)\u001b[0m\u001b[1;33m\u001b[0m\u001b[0m\n\u001b[1;32m    587\u001b[0m         \u001b[0mcb\u001b[0m \u001b[1;33m=\u001b[0m \u001b[0mBatchCompletionCallBack\u001b[0m\u001b[1;33m(\u001b[0m\u001b[0mdispatch_timestamp\u001b[0m\u001b[1;33m,\u001b[0m \u001b[0mlen\u001b[0m\u001b[1;33m(\u001b[0m\u001b[0mbatch\u001b[0m\u001b[1;33m)\u001b[0m\u001b[1;33m,\u001b[0m \u001b[0mself\u001b[0m\u001b[1;33m)\u001b[0m\u001b[1;33m\u001b[0m\u001b[0m\n\u001b[0;32m--> 588\u001b[0;31m         \u001b[0mjob\u001b[0m \u001b[1;33m=\u001b[0m \u001b[0mself\u001b[0m\u001b[1;33m.\u001b[0m\u001b[0m_backend\u001b[0m\u001b[1;33m.\u001b[0m\u001b[0mapply_async\u001b[0m\u001b[1;33m(\u001b[0m\u001b[0mbatch\u001b[0m\u001b[1;33m,\u001b[0m \u001b[0mcallback\u001b[0m\u001b[1;33m=\u001b[0m\u001b[0mcb\u001b[0m\u001b[1;33m)\u001b[0m\u001b[1;33m\u001b[0m\u001b[0m\n\u001b[0m\u001b[1;32m    589\u001b[0m         \u001b[0mself\u001b[0m\u001b[1;33m.\u001b[0m\u001b[0m_jobs\u001b[0m\u001b[1;33m.\u001b[0m\u001b[0mappend\u001b[0m\u001b[1;33m(\u001b[0m\u001b[0mjob\u001b[0m\u001b[1;33m)\u001b[0m\u001b[1;33m\u001b[0m\u001b[0m\n\u001b[1;32m    590\u001b[0m \u001b[1;33m\u001b[0m\u001b[0m\n",
      "\u001b[0;32mC:\\ProgramData\\Anaconda3\\lib\\site-packages\\sklearn\\externals\\joblib\\_parallel_backends.py\u001b[0m in \u001b[0;36mapply_async\u001b[0;34m(self, func, callback)\u001b[0m\n\u001b[1;32m    109\u001b[0m     \u001b[1;32mdef\u001b[0m \u001b[0mapply_async\u001b[0m\u001b[1;33m(\u001b[0m\u001b[0mself\u001b[0m\u001b[1;33m,\u001b[0m \u001b[0mfunc\u001b[0m\u001b[1;33m,\u001b[0m \u001b[0mcallback\u001b[0m\u001b[1;33m=\u001b[0m\u001b[1;32mNone\u001b[0m\u001b[1;33m)\u001b[0m\u001b[1;33m:\u001b[0m\u001b[1;33m\u001b[0m\u001b[0m\n\u001b[1;32m    110\u001b[0m         \u001b[1;34m\"\"\"Schedule a func to be run\"\"\"\u001b[0m\u001b[1;33m\u001b[0m\u001b[0m\n\u001b[0;32m--> 111\u001b[0;31m         \u001b[0mresult\u001b[0m \u001b[1;33m=\u001b[0m \u001b[0mImmediateResult\u001b[0m\u001b[1;33m(\u001b[0m\u001b[0mfunc\u001b[0m\u001b[1;33m)\u001b[0m\u001b[1;33m\u001b[0m\u001b[0m\n\u001b[0m\u001b[1;32m    112\u001b[0m         \u001b[1;32mif\u001b[0m \u001b[0mcallback\u001b[0m\u001b[1;33m:\u001b[0m\u001b[1;33m\u001b[0m\u001b[0m\n\u001b[1;32m    113\u001b[0m             \u001b[0mcallback\u001b[0m\u001b[1;33m(\u001b[0m\u001b[0mresult\u001b[0m\u001b[1;33m)\u001b[0m\u001b[1;33m\u001b[0m\u001b[0m\n",
      "\u001b[0;32mC:\\ProgramData\\Anaconda3\\lib\\site-packages\\sklearn\\externals\\joblib\\_parallel_backends.py\u001b[0m in \u001b[0;36m__init__\u001b[0;34m(self, batch)\u001b[0m\n\u001b[1;32m    330\u001b[0m         \u001b[1;31m# Don't delay the application, to avoid keeping the input\u001b[0m\u001b[1;33m\u001b[0m\u001b[1;33m\u001b[0m\u001b[0m\n\u001b[1;32m    331\u001b[0m         \u001b[1;31m# arguments in memory\u001b[0m\u001b[1;33m\u001b[0m\u001b[1;33m\u001b[0m\u001b[0m\n\u001b[0;32m--> 332\u001b[0;31m         \u001b[0mself\u001b[0m\u001b[1;33m.\u001b[0m\u001b[0mresults\u001b[0m \u001b[1;33m=\u001b[0m \u001b[0mbatch\u001b[0m\u001b[1;33m(\u001b[0m\u001b[1;33m)\u001b[0m\u001b[1;33m\u001b[0m\u001b[0m\n\u001b[0m\u001b[1;32m    333\u001b[0m \u001b[1;33m\u001b[0m\u001b[0m\n\u001b[1;32m    334\u001b[0m     \u001b[1;32mdef\u001b[0m \u001b[0mget\u001b[0m\u001b[1;33m(\u001b[0m\u001b[0mself\u001b[0m\u001b[1;33m)\u001b[0m\u001b[1;33m:\u001b[0m\u001b[1;33m\u001b[0m\u001b[0m\n",
      "\u001b[0;32mC:\\ProgramData\\Anaconda3\\lib\\site-packages\\sklearn\\externals\\joblib\\parallel.py\u001b[0m in \u001b[0;36m__call__\u001b[0;34m(self)\u001b[0m\n\u001b[1;32m    129\u001b[0m \u001b[1;33m\u001b[0m\u001b[0m\n\u001b[1;32m    130\u001b[0m     \u001b[1;32mdef\u001b[0m \u001b[0m__call__\u001b[0m\u001b[1;33m(\u001b[0m\u001b[0mself\u001b[0m\u001b[1;33m)\u001b[0m\u001b[1;33m:\u001b[0m\u001b[1;33m\u001b[0m\u001b[0m\n\u001b[0;32m--> 131\u001b[0;31m         \u001b[1;32mreturn\u001b[0m \u001b[1;33m[\u001b[0m\u001b[0mfunc\u001b[0m\u001b[1;33m(\u001b[0m\u001b[1;33m*\u001b[0m\u001b[0margs\u001b[0m\u001b[1;33m,\u001b[0m \u001b[1;33m**\u001b[0m\u001b[0mkwargs\u001b[0m\u001b[1;33m)\u001b[0m \u001b[1;32mfor\u001b[0m \u001b[0mfunc\u001b[0m\u001b[1;33m,\u001b[0m \u001b[0margs\u001b[0m\u001b[1;33m,\u001b[0m \u001b[0mkwargs\u001b[0m \u001b[1;32min\u001b[0m \u001b[0mself\u001b[0m\u001b[1;33m.\u001b[0m\u001b[0mitems\u001b[0m\u001b[1;33m]\u001b[0m\u001b[1;33m\u001b[0m\u001b[0m\n\u001b[0m\u001b[1;32m    132\u001b[0m \u001b[1;33m\u001b[0m\u001b[0m\n\u001b[1;32m    133\u001b[0m     \u001b[1;32mdef\u001b[0m \u001b[0m__len__\u001b[0m\u001b[1;33m(\u001b[0m\u001b[0mself\u001b[0m\u001b[1;33m)\u001b[0m\u001b[1;33m:\u001b[0m\u001b[1;33m\u001b[0m\u001b[0m\n",
      "\u001b[0;32mC:\\ProgramData\\Anaconda3\\lib\\site-packages\\sklearn\\externals\\joblib\\parallel.py\u001b[0m in \u001b[0;36m<listcomp>\u001b[0;34m(.0)\u001b[0m\n\u001b[1;32m    129\u001b[0m \u001b[1;33m\u001b[0m\u001b[0m\n\u001b[1;32m    130\u001b[0m     \u001b[1;32mdef\u001b[0m \u001b[0m__call__\u001b[0m\u001b[1;33m(\u001b[0m\u001b[0mself\u001b[0m\u001b[1;33m)\u001b[0m\u001b[1;33m:\u001b[0m\u001b[1;33m\u001b[0m\u001b[0m\n\u001b[0;32m--> 131\u001b[0;31m         \u001b[1;32mreturn\u001b[0m \u001b[1;33m[\u001b[0m\u001b[0mfunc\u001b[0m\u001b[1;33m(\u001b[0m\u001b[1;33m*\u001b[0m\u001b[0margs\u001b[0m\u001b[1;33m,\u001b[0m \u001b[1;33m**\u001b[0m\u001b[0mkwargs\u001b[0m\u001b[1;33m)\u001b[0m \u001b[1;32mfor\u001b[0m \u001b[0mfunc\u001b[0m\u001b[1;33m,\u001b[0m \u001b[0margs\u001b[0m\u001b[1;33m,\u001b[0m \u001b[0mkwargs\u001b[0m \u001b[1;32min\u001b[0m \u001b[0mself\u001b[0m\u001b[1;33m.\u001b[0m\u001b[0mitems\u001b[0m\u001b[1;33m]\u001b[0m\u001b[1;33m\u001b[0m\u001b[0m\n\u001b[0m\u001b[1;32m    132\u001b[0m \u001b[1;33m\u001b[0m\u001b[0m\n\u001b[1;32m    133\u001b[0m     \u001b[1;32mdef\u001b[0m \u001b[0m__len__\u001b[0m\u001b[1;33m(\u001b[0m\u001b[0mself\u001b[0m\u001b[1;33m)\u001b[0m\u001b[1;33m:\u001b[0m\u001b[1;33m\u001b[0m\u001b[0m\n",
      "\u001b[0;32msklearn\\neighbors\\binary_tree.pxi\u001b[0m in \u001b[0;36msklearn.neighbors.kd_tree.BinaryTree.query\u001b[0;34m()\u001b[0m\n",
      "\u001b[0;32msklearn\\neighbors\\binary_tree.pxi\u001b[0m in \u001b[0;36msklearn.neighbors.kd_tree.NeighborsHeap.__init__\u001b[0;34m()\u001b[0m\n",
      "\u001b[0;31mMemoryError\u001b[0m: "
     ]
    }
   ],
   "source": [
    "from imblearn.under_sampling import NearMiss\n",
    "nm2 = NearMiss(version=2)\n",
    "x_res_nm2, y_res_nm2 = nm2.fit_sample(x_train, y_train)\n",
    "print(sorted(Counter(y_res_nm2).items()))"
   ]
  },
  {
   "cell_type": "code",
   "execution_count": 44,
   "metadata": {
    "collapsed": false
   },
   "outputs": [
    {
     "name": "stdout",
     "output_type": "stream",
     "text": [
      "[(0, 96), (1, 9543)]\n"
     ]
    },
    {
     "name": "stderr",
     "output_type": "stream",
     "text": [
      "C:\\ProgramData\\Anaconda3\\lib\\site-packages\\imblearn\\under_sampling\\prototype_selection\\nearmiss.py:211: UserWarning: The number of the samples to be selected is larger than the number of samples available. The balancing ratio cannot be ensure and all samples will be returned.\n",
      "  warnings.warn('The number of the samples to be selected is larger'\n"
     ]
    }
   ],
   "source": [
    "from imblearn.under_sampling import NearMiss\n",
    "nm3 = NearMiss(version=3)\n",
    "x_res_nm3, y_res_nm3 = nm3.fit_sample(x_train, y_train)\n",
    "print(sorted(Counter(y_res_nm3).items()))"
   ]
  },
  {
   "cell_type": "code",
   "execution_count": 46,
   "metadata": {
    "collapsed": false
   },
   "outputs": [
    {
     "data": {
      "text/plain": [
       "0.5883869486722475"
      ]
     },
     "execution_count": 46,
     "metadata": {},
     "output_type": "execute_result"
    },
    {
     "data": {
      "text/plain": [
       "RandomForestClassifier(bootstrap=True, class_weight=None, criterion='gini',\n",
       "            max_depth=None, max_features='auto', max_leaf_nodes=None,\n",
       "            min_impurity_decrease=0.0, min_impurity_split=None,\n",
       "            min_samples_leaf=1, min_samples_split=2,\n",
       "            min_weight_fraction_leaf=0.0, n_estimators=10, n_jobs=1,\n",
       "            oob_score=False, random_state=None, verbose=0,\n",
       "            warm_start=False)"
      ]
     },
     "execution_count": 46,
     "metadata": {},
     "output_type": "execute_result"
    },
    {
     "data": {
      "text/plain": [
       "0.56155175677339464"
      ]
     },
     "execution_count": 46,
     "metadata": {},
     "output_type": "execute_result"
    }
   ],
   "source": [
    "from sklearn.ensemble import RandomForestClassifier\n",
    "from sklearn.model_selection import cross_val_score\n",
    "from sklearn import metrics\n",
    "rfc = RandomForestClassifier()\n",
    "rfc_cv_score = cross_val_score(rfc, x_res_nm1, y_res_nm1, cv=10, scoring='roc_auc')\n",
    "rfc_cv_score.mean()\n",
    "rfc.fit(x_res_nm1, y_res_nm1)\n",
    "rfc_pred = rfc.predict(x_test)\n",
    "metrics.roc_auc_score(y_test, rfc_pred)"
   ]
  },
  {
   "cell_type": "code",
   "execution_count": 47,
   "metadata": {
    "collapsed": false
   },
   "outputs": [
    {
     "data": {
      "text/html": [
       "<div>\n",
       "<style scoped>\n",
       "    .dataframe tbody tr th:only-of-type {\n",
       "        vertical-align: middle;\n",
       "    }\n",
       "\n",
       "    .dataframe tbody tr th {\n",
       "        vertical-align: top;\n",
       "    }\n",
       "\n",
       "    .dataframe thead th {\n",
       "        text-align: right;\n",
       "    }\n",
       "</style>\n",
       "<table border=\"1\" class=\"dataframe\">\n",
       "  <thead>\n",
       "    <tr style=\"text-align: right;\">\n",
       "      <th></th>\n",
       "      <th>id</th>\n",
       "      <th>is_click</th>\n",
       "    </tr>\n",
       "  </thead>\n",
       "  <tbody>\n",
       "    <tr>\n",
       "      <th>0</th>\n",
       "      <td>63_122715</td>\n",
       "      <td>0</td>\n",
       "    </tr>\n",
       "    <tr>\n",
       "      <th>1</th>\n",
       "      <td>56_76206</td>\n",
       "      <td>0</td>\n",
       "    </tr>\n",
       "    <tr>\n",
       "      <th>2</th>\n",
       "      <td>57_96189</td>\n",
       "      <td>0</td>\n",
       "    </tr>\n",
       "    <tr>\n",
       "      <th>3</th>\n",
       "      <td>56_166917</td>\n",
       "      <td>0</td>\n",
       "    </tr>\n",
       "    <tr>\n",
       "      <th>4</th>\n",
       "      <td>56_172838</td>\n",
       "      <td>0</td>\n",
       "    </tr>\n",
       "  </tbody>\n",
       "</table>\n",
       "</div>"
      ],
      "text/plain": [
       "          id  is_click\n",
       "0  63_122715         0\n",
       "1   56_76206         0\n",
       "2   57_96189         0\n",
       "3  56_166917         0\n",
       "4  56_172838         0"
      ]
     },
     "execution_count": 47,
     "metadata": {},
     "output_type": "execute_result"
    },
    {
     "data": {
      "text/plain": [
       "0    564160\n",
       "1    209698\n",
       "Name: is_click, dtype: int64"
      ]
     },
     "execution_count": 47,
     "metadata": {},
     "output_type": "execute_result"
    }
   ],
   "source": [
    "test_pred = rfc.predict(test_scaled)\n",
    "sample['is_click'] = test_pred\n",
    "sample.head()\n",
    "sample.is_click.value_counts()"
   ]
  },
  {
   "cell_type": "code",
   "execution_count": 48,
   "metadata": {
    "collapsed": true
   },
   "outputs": [],
   "source": [
    "sample.to_csv('sample_submission.csv', index=False)"
   ]
  },
  {
   "cell_type": "markdown",
   "metadata": {},
   "source": [
    "AV Score - 0.507884016070336"
   ]
  },
  {
   "cell_type": "code",
   "execution_count": 45,
   "metadata": {
    "collapsed": false
   },
   "outputs": [
    {
     "data": {
      "text/plain": [
       "0.52259700803572851"
      ]
     },
     "execution_count": 45,
     "metadata": {},
     "output_type": "execute_result"
    },
    {
     "data": {
      "text/plain": [
       "RandomForestClassifier(bootstrap=True, class_weight=None, criterion='gini',\n",
       "            max_depth=None, max_features='auto', max_leaf_nodes=None,\n",
       "            min_impurity_decrease=0.0, min_impurity_split=None,\n",
       "            min_samples_leaf=1, min_samples_split=2,\n",
       "            min_weight_fraction_leaf=0.0, n_estimators=10, n_jobs=1,\n",
       "            oob_score=False, random_state=None, verbose=0,\n",
       "            warm_start=False)"
      ]
     },
     "execution_count": 45,
     "metadata": {},
     "output_type": "execute_result"
    },
    {
     "data": {
      "text/plain": [
       "0.49987136792827214"
      ]
     },
     "execution_count": 45,
     "metadata": {},
     "output_type": "execute_result"
    }
   ],
   "source": [
    "from sklearn.ensemble import RandomForestClassifier\n",
    "from sklearn.model_selection import cross_val_score\n",
    "from sklearn import metrics\n",
    "rfc = RandomForestClassifier()\n",
    "rfc_cv_score = cross_val_score(rfc, x_res_nm3, y_res_nm3, cv=10, scoring='roc_auc')\n",
    "rfc_cv_score.mean()\n",
    "rfc.fit(x_res_nm3, y_res_nm3)\n",
    "rfc_pred = rfc.predict(x_test)\n",
    "metrics.roc_auc_score(y_test, rfc_pred)"
   ]
  },
  {
   "cell_type": "code",
   "execution_count": 56,
   "metadata": {
    "collapsed": false
   },
   "outputs": [
    {
     "name": "stdout",
     "output_type": "stream",
     "text": [
      "[(0, 757850), (1, 9543)]\n"
     ]
    }
   ],
   "source": [
    "from imblearn.under_sampling import TomekLinks\n",
    "x_res, y_res  = TomekLinks(ratio='auto').fit_sample(x_train,y_train)\n",
    "print(sorted(Counter(y_res).items()))"
   ]
  },
  {
   "cell_type": "code",
   "execution_count": 57,
   "metadata": {
    "collapsed": true
   },
   "outputs": [],
   "source": [
    "x_train_res, x_val_res, y_train_res, y_val_res = train_test_split(x_res,\n",
    "                                                    y_res,\n",
    "                                                    test_size = .3,\n",
    "                                                    random_state=12)"
   ]
  },
  {
   "cell_type": "code",
   "execution_count": 59,
   "metadata": {
    "collapsed": false
   },
   "outputs": [
    {
     "data": {
      "text/plain": [
       "0.5930057366912368"
      ]
     },
     "execution_count": 59,
     "metadata": {},
     "output_type": "execute_result"
    },
    {
     "data": {
      "text/plain": [
       "RandomForestClassifier(bootstrap=True, class_weight=None, criterion='gini',\n",
       "            max_depth=None, max_features='auto', max_leaf_nodes=None,\n",
       "            min_impurity_decrease=0.0, min_impurity_split=None,\n",
       "            min_samples_leaf=1, min_samples_split=2,\n",
       "            min_weight_fraction_leaf=0.0, n_estimators=10, n_jobs=1,\n",
       "            oob_score=False, random_state=None, verbose=0,\n",
       "            warm_start=False)"
      ]
     },
     "execution_count": 59,
     "metadata": {},
     "output_type": "execute_result"
    },
    {
     "data": {
      "text/plain": [
       "0.5"
      ]
     },
     "execution_count": 59,
     "metadata": {},
     "output_type": "execute_result"
    },
    {
     "data": {
      "text/plain": [
       "0.5"
      ]
     },
     "execution_count": 59,
     "metadata": {},
     "output_type": "execute_result"
    }
   ],
   "source": [
    "from sklearn.ensemble import RandomForestClassifier\n",
    "from sklearn.model_selection import cross_val_score\n",
    "from sklearn import metrics\n",
    "rfc = RandomForestClassifier()\n",
    "rfc_cv_score = cross_val_score(rfc, x_train_res, y_train_res, cv=10, scoring='roc_auc')\n",
    "rfc_cv_score.mean()\n",
    "rfc.fit(x_train_res, y_train_res)\n",
    "rfc_pred = rfc.predict(x_val_res)\n",
    "metrics.roc_auc_score(y_val_res, rfc_pred)\n",
    "rfc_pred = rfc.predict(x_test)\n",
    "metrics.roc_auc_score(y_test, rfc_pred)"
   ]
  },
  {
   "cell_type": "code",
   "execution_count": 60,
   "metadata": {
    "collapsed": false
   },
   "outputs": [
    {
     "name": "stdout",
     "output_type": "stream",
     "text": [
      "[(0, 699606), (1, 9543)]\n"
     ]
    }
   ],
   "source": [
    "from imblearn.under_sampling import EditedNearestNeighbours\n",
    "enn = EditedNearestNeighbours()\n",
    "x_res, y_res = enn.fit_sample(x_train, y_train)\n",
    "print(sorted(Counter(y_res).items()))"
   ]
  },
  {
   "cell_type": "code",
   "execution_count": 61,
   "metadata": {
    "collapsed": true
   },
   "outputs": [],
   "source": [
    "x_train_res, x_val_res, y_train_res, y_val_res = train_test_split(x_res,\n",
    "                                                    y_res,\n",
    "                                                    test_size = .3,\n",
    "                                                    random_state=12)"
   ]
  },
  {
   "cell_type": "code",
   "execution_count": 62,
   "metadata": {
    "collapsed": false
   },
   "outputs": [
    {
     "data": {
      "text/plain": [
       "0.61720854748140441"
      ]
     },
     "execution_count": 62,
     "metadata": {},
     "output_type": "execute_result"
    },
    {
     "data": {
      "text/plain": [
       "RandomForestClassifier(bootstrap=True, class_weight=None, criterion='gini',\n",
       "            max_depth=None, max_features='auto', max_leaf_nodes=None,\n",
       "            min_impurity_decrease=0.0, min_impurity_split=None,\n",
       "            min_samples_leaf=1, min_samples_split=2,\n",
       "            min_weight_fraction_leaf=0.0, n_estimators=10, n_jobs=1,\n",
       "            oob_score=False, random_state=None, verbose=0,\n",
       "            warm_start=False)"
      ]
     },
     "execution_count": 62,
     "metadata": {},
     "output_type": "execute_result"
    },
    {
     "data": {
      "text/plain": [
       "0.53954514596062453"
      ]
     },
     "execution_count": 62,
     "metadata": {},
     "output_type": "execute_result"
    },
    {
     "data": {
      "text/plain": [
       "0.50326296766037326"
      ]
     },
     "execution_count": 62,
     "metadata": {},
     "output_type": "execute_result"
    }
   ],
   "source": [
    "from sklearn.ensemble import RandomForestClassifier\n",
    "from sklearn.model_selection import cross_val_score\n",
    "from sklearn import metrics\n",
    "rfc = RandomForestClassifier()\n",
    "rfc_cv_score = cross_val_score(rfc, x_train_res, y_train_res, cv=10, scoring='roc_auc')\n",
    "rfc_cv_score.mean()\n",
    "rfc.fit(x_train_res, y_train_res)\n",
    "rfc_pred = rfc.predict(x_val_res)\n",
    "metrics.roc_auc_score(y_val_res, rfc_pred)\n",
    "rfc_pred = rfc.predict(x_test)\n",
    "metrics.roc_auc_score(y_test, rfc_pred)"
   ]
  },
  {
   "cell_type": "code",
   "execution_count": 63,
   "metadata": {
    "collapsed": false
   },
   "outputs": [
    {
     "data": {
      "text/html": [
       "<div>\n",
       "<style scoped>\n",
       "    .dataframe tbody tr th:only-of-type {\n",
       "        vertical-align: middle;\n",
       "    }\n",
       "\n",
       "    .dataframe tbody tr th {\n",
       "        vertical-align: top;\n",
       "    }\n",
       "\n",
       "    .dataframe thead th {\n",
       "        text-align: right;\n",
       "    }\n",
       "</style>\n",
       "<table border=\"1\" class=\"dataframe\">\n",
       "  <thead>\n",
       "    <tr style=\"text-align: right;\">\n",
       "      <th></th>\n",
       "      <th>id</th>\n",
       "      <th>is_click</th>\n",
       "    </tr>\n",
       "  </thead>\n",
       "  <tbody>\n",
       "    <tr>\n",
       "      <th>0</th>\n",
       "      <td>63_122715</td>\n",
       "      <td>0</td>\n",
       "    </tr>\n",
       "    <tr>\n",
       "      <th>1</th>\n",
       "      <td>56_76206</td>\n",
       "      <td>0</td>\n",
       "    </tr>\n",
       "    <tr>\n",
       "      <th>2</th>\n",
       "      <td>57_96189</td>\n",
       "      <td>0</td>\n",
       "    </tr>\n",
       "    <tr>\n",
       "      <th>3</th>\n",
       "      <td>56_166917</td>\n",
       "      <td>0</td>\n",
       "    </tr>\n",
       "    <tr>\n",
       "      <th>4</th>\n",
       "      <td>56_172838</td>\n",
       "      <td>0</td>\n",
       "    </tr>\n",
       "  </tbody>\n",
       "</table>\n",
       "</div>"
      ],
      "text/plain": [
       "          id  is_click\n",
       "0  63_122715         0\n",
       "1   56_76206         0\n",
       "2   57_96189         0\n",
       "3  56_166917         0\n",
       "4  56_172838         0"
      ]
     },
     "execution_count": 63,
     "metadata": {},
     "output_type": "execute_result"
    },
    {
     "data": {
      "text/plain": [
       "0    739557\n",
       "1     34301\n",
       "Name: is_click, dtype: int64"
      ]
     },
     "execution_count": 63,
     "metadata": {},
     "output_type": "execute_result"
    }
   ],
   "source": [
    "test_pred = rfc.predict(test_scaled)\n",
    "sample['is_click'] = test_pred\n",
    "sample.head()\n",
    "sample.is_click.value_counts()"
   ]
  },
  {
   "cell_type": "code",
   "execution_count": 64,
   "metadata": {
    "collapsed": true
   },
   "outputs": [],
   "source": [
    "sample.to_csv('sample_submission.csv', index=False)"
   ]
  },
  {
   "cell_type": "markdown",
   "metadata": {},
   "source": [
    "AV Score - 0.504758449377273"
   ]
  },
  {
   "cell_type": "code",
   "execution_count": null,
   "metadata": {
    "collapsed": true
   },
   "outputs": [],
   "source": [
    "from imblearn.under_sampling import RepeatedEditedNearestNeighbours\n",
    "renn = RepeatedEditedNearestNeighbours()\n",
    "X_res, y_res = renn.fit_sample(x_train, y_train)\n",
    "print(sorted(Counter(y_res).items()))"
   ]
  }
 ],
 "metadata": {
  "kernelspec": {
   "display_name": "Python 3",
   "language": "python",
   "name": "python3"
  },
  "language_info": {
   "codemirror_mode": {
    "name": "ipython",
    "version": 3
   },
   "file_extension": ".py",
   "mimetype": "text/x-python",
   "name": "python",
   "nbconvert_exporter": "python",
   "pygments_lexer": "ipython3",
   "version": "3.6.0"
  }
 },
 "nbformat": 4,
 "nbformat_minor": 2
}
