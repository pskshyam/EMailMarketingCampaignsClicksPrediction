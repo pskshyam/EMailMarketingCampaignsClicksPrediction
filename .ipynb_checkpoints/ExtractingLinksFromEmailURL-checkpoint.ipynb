{
 "cells": [
  {
   "cell_type": "code",
   "execution_count": 11,
   "metadata": {
    "collapsed": false
   },
   "outputs": [
    {
     "name": "stderr",
     "output_type": "stream",
     "text": [
      "C:\\ProgramData\\Anaconda3\\lib\\site-packages\\bs4\\__init__.py:181: UserWarning: No parser was explicitly specified, so I'm using the best available HTML parser for this system (\"lxml\"). This usually isn't a problem, but if you run this code on another system, or in a different virtual environment, it may use a different parser and behave differently.\n",
      "\n",
      "The code that caused this warning is on line 193 of the file C:\\ProgramData\\Anaconda3\\lib\\runpy.py. To get rid of this warning, change code that looks like this:\n",
      "\n",
      " BeautifulSoup([your markup])\n",
      "\n",
      "to this:\n",
      "\n",
      " BeautifulSoup([your markup], \"lxml\")\n",
      "\n",
      "  markup_type=markup_type))\n"
     ]
    }
   ],
   "source": [
    "from bs4 import BeautifulSoup\n",
    "import urllib3\n",
    "\n",
    "http = urllib3.PoolManager()\n",
    "\n",
    "url = 'http://r.newsletters.analyticsvidhya.com/7um447b5p4c.html?t=1521180203'\n",
    "response = http.request('GET', url)\n",
    "soup = BeautifulSoup(response.data)"
   ]
  },
  {
   "cell_type": "code",
   "execution_count": 15,
   "metadata": {
    "collapsed": true
   },
   "outputs": [],
   "source": [
    "from bs4 import BeautifulSoup\n",
    "import requests\n",
    "\n",
    "def links(url):\n",
    "    html = requests.get(url).content\n",
    "    bsObj = BeautifulSoup(html, 'lxml')\n",
    "\n",
    "    links = bsObj.findAll('a')\n",
    "    finalLinks = set()\n",
    "    for link in links:\n",
    "        finalLinks.add(link.attrs['href'])\n",
    "    return finalLinks"
   ]
  },
  {
   "cell_type": "code",
   "execution_count": 16,
   "metadata": {
    "collapsed": false
   },
   "outputs": [],
   "source": [
    "links = links('http://r.newsletters.analyticsvidhya.com/7um447b5p4c.html?t=1521180203')"
   ]
  },
  {
   "cell_type": "code",
   "execution_count": 17,
   "metadata": {
    "collapsed": false
   },
   "outputs": [
    {
     "data": {
      "text/plain": [
       "{'',\n",
       " '/cdn-cgi/l/email-protection',\n",
       " 'http://www.analyticsvidhya.com/blog/?utm_source=newsletter&utm_medium=email',\n",
       " 'http://www.analyticsvidhya.com/datahacksummit/?utm_source=newsletter&utm_medium=email',\n",
       " 'https://datahack.analyticsvidhya.com/contest/all/',\n",
       " 'https://datahack.analyticsvidhya.com/contest/all/?utm_source=newsletter&utm_medium=email',\n",
       " 'https://datahack.analyticsvidhya.com/contest/av-experts-meet-bengaluru-advanced-ml-problem-solv/?utm_source=newsletter&utm_medium=email',\n",
       " 'https://datahack.analyticsvidhya.com/contest/av-experts-meet-hyderabad-advanced-ml-problem-solv/?utm_source=newsletter&utm_medium=email',\n",
       " 'https://datahack.analyticsvidhya.com/contest/av-experts-meet-mumbai-advanced-ml-problem-solving/',\n",
       " 'https://datahack.analyticsvidhya.com/contest/av-experts-meet-mumbai-advanced-ml-problem-solving/?utm_source=newsletter&utm_medium=email',\n",
       " 'https://datahack.analyticsvidhya.com/contest/av-express-bengaluru-social-media-analytics/',\n",
       " 'https://datahack.analyticsvidhya.com/contest/fractal-analytics-hiring-hackathon/?utm_source=newsletter&utm_medium=email',\n",
       " 'https://docs.google.com/forms/d/e/1FAIpQLScpLNvIeVOUzoLKZHlLyJbK57FygAVvVDGcrWPWJTLiO1B2nQ/viewform?c=0&w=1',\n",
       " 'https://plus.google.com/b/100931874496007211164/ Analyticsvidhya',\n",
       " 'https://twitter.com/AnalyticsVidhya',\n",
       " 'https://www.analyticsvidhya.com/blog/',\n",
       " 'https://www.analyticsvidhya.com/blog/2017/05/neural-network-from-scratch-in-python-and-r/',\n",
       " 'https://www.analyticsvidhya.com/blog/2017/06/a-comprehensive-guide-for-linear-ridge-and-lasso-regression/',\n",
       " 'https://www.analyticsvidhya.com/blog/2017/06/architecture-of-convolutional-neural-networks-simplified-demystified/',\n",
       " 'https://www.analyticsvidhya.com/blog/2017/06/building-trust-in-machine-learning-models/',\n",
       " 'https://www.analyticsvidhya.com/blog/2017/06/course-review-pg-diploma-in-data-analytics-by-upgrad-iiit-b/',\n",
       " 'https://www.analyticsvidhya.com/blog/2017/06/getting-started-with-deep-learning-using-keras-in-r/',\n",
       " 'https://www.analyticsvidhya.com/blog/2017/06/hands-on-with-deep-learning-solution-for-age-detection-practice-problem/',\n",
       " 'https://www.analyticsvidhya.com/blog/2017/06/introductory-generative-adversarial-networks-gans/',\n",
       " 'https://www.analyticsvidhya.com/blog/2017/06/transfer-learning-the-art-of-fine-tuning-a-pre-trained-model/',\n",
       " 'https://www.analyticsvidhya.com/blog/2017/06/which-algorithm-takes-the-crown-light-gbm-vs-xgboost/',\n",
       " 'https://www.analyticsvidhya.com/blog/2017/06/word-embeddings-count-word2veec/',\n",
       " 'https://www.analyticsvidhya.com/datahacksummit/?utm_source=newsletter&utm_medium=email',\n",
       " 'https://www.analyticsvidhya.com/jobs/',\n",
       " 'https://www.analyticsvidhya.com/jobs/job/big-data-engineer-bangalore-2-to-3-years-of-experi/',\n",
       " 'https://www.analyticsvidhya.com/jobs/job/data-science-evangelist-gurgaon-2-to-3-years-of-ex/',\n",
       " 'https://www.analyticsvidhya.com/jobs/job/director-head-risk-analytics-modelling/',\n",
       " 'https://www.analyticsvidhya.com/jobs/job/director-vp-analytics-gurugram-8-14-years-of-exper/',\n",
       " 'https://www.analyticsvidhya.com/jobs/job/machine-learning-lead-bangalore-3-to-7-years-of-ex/',\n",
       " 'https://www.facebook.com/AnalyticsVidhya/',\n",
       " 'https://www.linkedin.com/in/jaink/recent-activity/'}"
      ]
     },
     "execution_count": 17,
     "metadata": {},
     "output_type": "execute_result"
    }
   ],
   "source": [
    "links"
   ]
  },
  {
   "cell_type": "code",
   "execution_count": 18,
   "metadata": {
    "collapsed": false
   },
   "outputs": [
    {
     "ename": "ModuleNotFoundError",
     "evalue": "No module named 'urllib2'",
     "output_type": "error",
     "traceback": [
      "\u001b[0;31m---------------------------------------------------------------------------\u001b[0m",
      "\u001b[0;31mModuleNotFoundError\u001b[0m                       Traceback (most recent call last)",
      "\u001b[0;32m<ipython-input-18-9a53a62255d8>\u001b[0m in \u001b[0;36m<module>\u001b[0;34m()\u001b[0m\n\u001b[0;32m----> 1\u001b[0;31m \u001b[1;32mimport\u001b[0m \u001b[0murllib2\u001b[0m\u001b[1;33m\u001b[0m\u001b[0m\n\u001b[0m\u001b[1;32m      2\u001b[0m \u001b[1;32mimport\u001b[0m \u001b[0mre\u001b[0m\u001b[1;33m\u001b[0m\u001b[0m\n\u001b[1;32m      3\u001b[0m \u001b[1;33m\u001b[0m\u001b[0m\n\u001b[1;32m      4\u001b[0m \u001b[0murl\u001b[0m \u001b[1;33m=\u001b[0m \u001b[1;34m\"http://r.newsletters.analyticsvidhya.com/7um447b5p4c.html?t=1521180203\"\u001b[0m\u001b[1;33m\u001b[0m\u001b[0m\n\u001b[1;32m      5\u001b[0m \u001b[1;33m\u001b[0m\u001b[0m\n",
      "\u001b[0;31mModuleNotFoundError\u001b[0m: No module named 'urllib2'"
     ]
    }
   ],
   "source": [
    "import urllib2\n",
    "import re\n",
    "\n",
    "url = \"http://r.newsletters.analyticsvidhya.com/7um447b5p4c.html?t=1521180203\"\n",
    "\n",
    "#connect to a URL\n",
    "website = urllib2.urlopen(url)\n",
    "\n",
    "#read html code\n",
    "html = website.read()\n",
    "\n",
    "#use re.findall to get all the links\n",
    "links = re.findall('\"((http|ftp)s?://.*?)\"', response)\n",
    "\n",
    "print(links)"
   ]
  }
 ],
 "metadata": {
  "kernelspec": {
   "display_name": "Python 3",
   "language": "python",
   "name": "python3"
  },
  "language_info": {
   "codemirror_mode": {
    "name": "ipython",
    "version": 3
   },
   "file_extension": ".py",
   "mimetype": "text/x-python",
   "name": "python",
   "nbconvert_exporter": "python",
   "pygments_lexer": "ipython3",
   "version": "3.6.0"
  }
 },
 "nbformat": 4,
 "nbformat_minor": 2
}
