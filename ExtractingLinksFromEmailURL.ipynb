{
 "cells": [
  {
   "cell_type": "code",
   "execution_count": 11,
   "metadata": {
    "collapsed": false
   },
   "outputs": [
    {
     "name": "stderr",
     "output_type": "stream",
     "text": [
      "C:\\ProgramData\\Anaconda3\\lib\\site-packages\\bs4\\__init__.py:181: UserWarning: No parser was explicitly specified, so I'm using the best available HTML parser for this system (\"lxml\"). This usually isn't a problem, but if you run this code on another system, or in a different virtual environment, it may use a different parser and behave differently.\n",
      "\n",
      "The code that caused this warning is on line 193 of the file C:\\ProgramData\\Anaconda3\\lib\\runpy.py. To get rid of this warning, change code that looks like this:\n",
      "\n",
      " BeautifulSoup([your markup])\n",
      "\n",
      "to this:\n",
      "\n",
      " BeautifulSoup([your markup], \"lxml\")\n",
      "\n",
      "  markup_type=markup_type))\n"
     ]
    }
   ],
   "source": [
    "from bs4 import BeautifulSoup\n",
    "import urllib3\n",
    "\n",
    "http = urllib3.PoolManager()\n",
    "\n",
    "url = 'http://r.newsletters.analyticsvidhya.com/7um447b5p4c.html?t=1521180203'\n",
    "response = http.request('GET', url)\n",
    "soup = BeautifulSoup(response.data)"
   ]
  },
  {
   "cell_type": "code",
   "execution_count": 15,
   "metadata": {
    "collapsed": true
   },
   "outputs": [],
   "source": [
    "from bs4 import BeautifulSoup\n",
    "import requests\n",
    "\n",
    "def links(url):\n",
    "    html = requests.get(url).content\n",
    "    bsObj = BeautifulSoup(html, 'lxml')\n",
    "\n",
    "    links = bsObj.findAll('a')\n",
    "    finalLinks = set()\n",
    "    for link in links:\n",
    "        finalLinks.add(link.string)\n",
    "    return finalLinks"
   ]
  },
  {
   "cell_type": "code",
   "execution_count": 2,
   "metadata": {
    "collapsed": true
   },
   "outputs": [],
   "source": [
    "url = 'http://r.newsletters.analyticsvidhya.com/7um447b5p4c.html?t=1521180203'"
   ]
  },
  {
   "cell_type": "code",
   "execution_count": 14,
   "metadata": {
    "collapsed": false
   },
   "outputs": [
    {
     "data": {
      "text/plain": [
       "'Book your early-bird spot'"
      ]
     },
     "execution_count": 14,
     "metadata": {},
     "output_type": "execute_result"
    }
   ],
   "source": [
    "html = requests.get(url).content\n",
    "#html\n",
    "bsObj = BeautifulSoup(html, 'lxml')\n",
    "#bsObj\n",
    "links = bsObj.findAll('a')\n",
    "links[1].string\n",
    "#finalLinks = set()\n",
    "#for link in links:\n",
    "#    finalLinks.add(link.attrs['href'])"
   ]
  },
  {
   "cell_type": "code",
   "execution_count": 16,
   "metadata": {
    "collapsed": false
   },
   "outputs": [],
   "source": [
    "links = links('http://r.newsletters.analyticsvidhya.com/7um447b5p4c.html?t=1521180203')"
   ]
  },
  {
   "cell_type": "code",
   "execution_count": 17,
   "metadata": {
    "collapsed": false
   },
   "outputs": [
    {
     "data": {
      "text/plain": [
       "{'Director/ VP (Analytics) - Gurugram (8 to 14 years of experience)',\n",
       " '\\xa0(7 to 9 years of experience)',\n",
       " 'Fractal Analytics Hiring Hackathon',\n",
       " 'Articles',\n",
       " 'Introduction to GANs',\n",
       " 'Introductory guide to Generative Adversarial Networks (GANs) and their promise!',\n",
       " 'Other\\xa0',\n",
       " 'Architecture of Convolutional Neural Networks (CNNs) demystified',\n",
       " '[email\\xa0protected]',\n",
       " 'Machine Learning Lead- Bangalore (3 to 7 years of experience)',\n",
       " 'Articles\\xa0on Machine Learning',\n",
       " 'Course Review – PG Diploma in Data Analytics by UpGrad & IIIT-B',\n",
       " 'Neural Networks from scratch in R & Python',\n",
       " 'A comprehensive beginners guide for Linear, Ridge and Lasso Regression',\n",
       " 'AV Experts Meet Mumbai',\n",
       " None,\n",
       " 'Getting started with Deep Learning using Keras and TensorFlow in R',\n",
       " 'Building Trust in Machine Learning Models (using LIME in Python)',\n",
       " '\\xa0- Chennai',\n",
       " 'Data Science Evangelist- Gurugram (2 to 3 years of experience)',\n",
       " 'Which algorithm takes the crown: Light GBM vs XGBOOST?',\n",
       " 'Book your early-bird spot',\n",
       " 'Big Data Engineer- Bangalore (2 to 3 years of experience)',\n",
       " 'Upcoming Events',\n",
       " 'More Jobs here...',\n",
       " ':\\xa0Advanced ML Problem Solving',\n",
       " '.\\xa0',\n",
       " 'Transfer learning & The art of using Pre-trained Models in Deep Learning',\n",
       " 'here',\n",
       " 'Director/ Head - Risk Analytics & Modelling',\n",
       " 'View in browser',\n",
       " '\\xa0on Deep Learning',\n",
       " 'Hands on with Deep Learning – Solution for Age Detection Practice Problem',\n",
       " 'reach out to us',\n",
       " 'An Intuitive Understanding of Word Embeddings: From Count Vectors to Word2Vec'}"
      ]
     },
     "execution_count": 17,
     "metadata": {},
     "output_type": "execute_result"
    }
   ],
   "source": [
    "links"
   ]
  },
  {
   "cell_type": "code",
   "execution_count": 18,
   "metadata": {
    "collapsed": false
   },
   "outputs": [
    {
     "ename": "ModuleNotFoundError",
     "evalue": "No module named 'urllib2'",
     "output_type": "error",
     "traceback": [
      "\u001b[0;31m---------------------------------------------------------------------------\u001b[0m",
      "\u001b[0;31mModuleNotFoundError\u001b[0m                       Traceback (most recent call last)",
      "\u001b[0;32m<ipython-input-18-9a53a62255d8>\u001b[0m in \u001b[0;36m<module>\u001b[0;34m()\u001b[0m\n\u001b[0;32m----> 1\u001b[0;31m \u001b[1;32mimport\u001b[0m \u001b[0murllib2\u001b[0m\u001b[1;33m\u001b[0m\u001b[0m\n\u001b[0m\u001b[1;32m      2\u001b[0m \u001b[1;32mimport\u001b[0m \u001b[0mre\u001b[0m\u001b[1;33m\u001b[0m\u001b[0m\n\u001b[1;32m      3\u001b[0m \u001b[1;33m\u001b[0m\u001b[0m\n\u001b[1;32m      4\u001b[0m \u001b[0murl\u001b[0m \u001b[1;33m=\u001b[0m \u001b[1;34m\"http://r.newsletters.analyticsvidhya.com/7um447b5p4c.html?t=1521180203\"\u001b[0m\u001b[1;33m\u001b[0m\u001b[0m\n\u001b[1;32m      5\u001b[0m \u001b[1;33m\u001b[0m\u001b[0m\n",
      "\u001b[0;31mModuleNotFoundError\u001b[0m: No module named 'urllib2'"
     ]
    }
   ],
   "source": [
    "import urllib2\n",
    "import re\n",
    "\n",
    "url = \"http://r.newsletters.analyticsvidhya.com/7um447b5p4c.html?t=1521180203\"\n",
    "\n",
    "#connect to a URL\n",
    "website = urllib2.urlopen(url)\n",
    "\n",
    "#read html code\n",
    "html = website.read()\n",
    "\n",
    "#use re.findall to get all the links\n",
    "links = re.findall('\"((http|ftp)s?://.*?)\"', response)\n",
    "\n",
    "print(links)"
   ]
  }
 ],
 "metadata": {
  "kernelspec": {
   "display_name": "Python 3",
   "language": "python",
   "name": "python3"
  },
  "language_info": {
   "codemirror_mode": {
    "name": "ipython",
    "version": 3
   },
   "file_extension": ".py",
   "mimetype": "text/x-python",
   "name": "python",
   "nbconvert_exporter": "python",
   "pygments_lexer": "ipython3",
   "version": "3.6.0"
  }
 },
 "nbformat": 4,
 "nbformat_minor": 2
}
