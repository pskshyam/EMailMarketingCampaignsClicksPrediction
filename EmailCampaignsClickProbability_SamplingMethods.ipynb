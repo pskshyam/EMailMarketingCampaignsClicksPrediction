{
 "cells": [
  {
   "cell_type": "code",
   "execution_count": 2,
   "metadata": {
    "collapsed": true
   },
   "outputs": [],
   "source": [
    "#Import basic necessary datasets\n",
    "import pandas as pd\n",
    "import numpy as np\n",
    "import matplotlib.pyplot as plt\n",
    "%matplotlib inline\n",
    "from IPython.core.interactiveshell import InteractiveShell #To print multiple outputs\n",
    "InteractiveShell.ast_node_interactivity = 'all'"
   ]
  },
  {
   "cell_type": "code",
   "execution_count": 3,
   "metadata": {
    "collapsed": true
   },
   "outputs": [],
   "source": [
    "train_merged = pd.read_csv('train_merged.csv')\n",
    "test_merged = pd.read_csv('test_merged.csv')\n",
    "sample = pd.read_csv('sample_submission.csv')"
   ]
  },
  {
   "cell_type": "code",
   "execution_count": 8,
   "metadata": {
    "collapsed": false
   },
   "outputs": [
    {
     "data": {
      "text/plain": [
       "Index(['user_id', 'campaign_id', 'communication_type', 'total_links',\n",
       "       'no_of_internal_links', 'no_of_images', 'no_of_sections', 'day_of_week',\n",
       "       'hour', 'day', 'month', 'IsWeekend'],\n",
       "      dtype='object')"
      ]
     },
     "execution_count": 8,
     "metadata": {},
     "output_type": "execute_result"
    }
   ],
   "source": [
    "feature_cols = train_merged.columns.drop(['id', 'send_date','email_body', 'subject', 'email_url','is_open','is_click'])\n",
    "feature_cols"
   ]
  },
  {
   "cell_type": "code",
   "execution_count": 24,
   "metadata": {
    "collapsed": false
   },
   "outputs": [
    {
     "data": {
      "text/plain": [
       "array([0], dtype=int64)"
      ]
     },
     "execution_count": 24,
     "metadata": {},
     "output_type": "execute_result"
    },
    {
     "data": {
      "text/plain": [
       "0.9875077087269142"
      ]
     },
     "execution_count": 24,
     "metadata": {},
     "output_type": "execute_result"
    }
   ],
   "source": [
    "from sklearn.linear_model import LogisticRegression\n",
    "from sklearn import metrics\n",
    "\n",
    "# Separate input features (X) and target variable (y)\n",
    "X = train_merged[feature_cols]\n",
    "y = train_merged.is_click\n",
    "\n",
    "# Train model\n",
    "logreg1 = LogisticRegression().fit(X, y)\n",
    " \n",
    "# Predict on training set\n",
    "x_pred = logreg1.predict(X)\n",
    " \n",
    "# Is our model still predicting just one class?\n",
    "np.unique(x_pred)\n",
    " \n",
    "# How's our accuracy?\n",
    "metrics.accuracy_score(y, x_pred)"
   ]
  },
  {
   "cell_type": "code",
   "execution_count": 25,
   "metadata": {
    "collapsed": false
   },
   "outputs": [
    {
     "data": {
      "text/plain": [
       "0    1010409\n",
       "1      12782\n",
       "Name: is_click, dtype: int64"
      ]
     },
     "execution_count": 25,
     "metadata": {},
     "output_type": "execute_result"
    }
   ],
   "source": [
    "train_merged.is_click.value_counts()"
   ]
  },
  {
   "cell_type": "code",
   "execution_count": 7,
   "metadata": {
    "collapsed": false
   },
   "outputs": [
    {
     "data": {
      "text/plain": [
       "1    1010409\n",
       "0    1010409\n",
       "Name: is_click, dtype: int64"
      ]
     },
     "execution_count": 7,
     "metadata": {},
     "output_type": "execute_result"
    }
   ],
   "source": [
    "from sklearn.utils import resample\n",
    "# Separate majority and minority classes\n",
    "df_majority = train_merged[train_merged.is_click==0]\n",
    "df_minority = train_merged[train_merged.is_click==1]\n",
    " \n",
    "# Upsample minority class\n",
    "df_minority_upsampled = resample(df_minority, \n",
    "                                 replace=True,     # sample with replacement\n",
    "                                 n_samples=1010409,    # to match majority class\n",
    "                                 random_state=123) # reproducible results\n",
    " \n",
    "# Combine majority class with upsampled minority class\n",
    "df_upsampled = pd.concat([df_majority, df_minority_upsampled])\n",
    " \n",
    "# Display new class counts\n",
    "df_upsampled.is_click.value_counts()"
   ]
  },
  {
   "cell_type": "code",
   "execution_count": 26,
   "metadata": {
    "collapsed": false
   },
   "outputs": [
    {
     "data": {
      "text/plain": [
       "array([0, 1], dtype=int64)"
      ]
     },
     "execution_count": 26,
     "metadata": {},
     "output_type": "execute_result"
    },
    {
     "data": {
      "text/plain": [
       "0.528576546725138"
      ]
     },
     "execution_count": 26,
     "metadata": {},
     "output_type": "execute_result"
    }
   ],
   "source": [
    "from sklearn.linear_model import LogisticRegression\n",
    "from sklearn import metrics\n",
    "# Separate input features (X) and target variable (y)\n",
    "y = df_upsampled.is_click\n",
    "X = df_upsampled[feature_cols]\n",
    " \n",
    "# Train model\n",
    "logreg2 = LogisticRegression().fit(X, y)\n",
    " \n",
    "# Predict on training set\n",
    "x_pred = logreg2.predict(X)\n",
    " \n",
    "# Is our model still predicting just one class?\n",
    "np.unique(x_pred)\n",
    " \n",
    "# How's our accuracy?\n",
    "metrics.accuracy_score(y, x_pred)\n"
   ]
  },
  {
   "cell_type": "code",
   "execution_count": 14,
   "metadata": {
    "collapsed": false
   },
   "outputs": [
    {
     "data": {
      "text/plain": [
       "1    12782\n",
       "0    12782\n",
       "Name: is_click, dtype: int64"
      ]
     },
     "execution_count": 14,
     "metadata": {},
     "output_type": "execute_result"
    }
   ],
   "source": [
    "# Downsample majority class\n",
    "df_majority_downsampled = resample(df_majority, \n",
    "                                 replace=False,    # sample without replacement\n",
    "                                 n_samples=12782,     # to match minority class\n",
    "                                 random_state=123) # reproducible results\n",
    " \n",
    "# Combine minority class with downsampled majority class\n",
    "df_downsampled = pd.concat([df_majority_downsampled, df_minority])\n",
    " \n",
    "# Display new class counts\n",
    "df_downsampled.is_click.value_counts()"
   ]
  },
  {
   "cell_type": "code",
   "execution_count": 27,
   "metadata": {
    "collapsed": false
   },
   "outputs": [
    {
     "data": {
      "text/plain": [
       "array([0, 1], dtype=int64)"
      ]
     },
     "execution_count": 27,
     "metadata": {},
     "output_type": "execute_result"
    },
    {
     "data": {
      "text/plain": [
       "0.5480754185573463"
      ]
     },
     "execution_count": 27,
     "metadata": {},
     "output_type": "execute_result"
    }
   ],
   "source": [
    "# Separate input features (X) and target variable (y)\n",
    "y = df_downsampled.is_click\n",
    "X = df_downsampled[feature_cols]\n",
    " \n",
    "# Train model\n",
    "logreg3 = LogisticRegression().fit(X, y)\n",
    " \n",
    "# Predict on training set\n",
    "y_pred = logreg3.predict(X)\n",
    " \n",
    "# Is our model still predicting just one class?\n",
    "np.unique(y_pred)\n",
    " \n",
    "# How's our accuracy?\n",
    "metrics.accuracy_score(y, y_pred)"
   ]
  },
  {
   "cell_type": "code",
   "execution_count": 28,
   "metadata": {
    "collapsed": false
   },
   "outputs": [
    {
     "data": {
      "text/plain": [
       "array([0.53182395, 0.32462369, 0.50820314, ..., 0.47150165, 0.50597994,\n",
       "       0.4838972 ])"
      ]
     },
     "execution_count": 28,
     "metadata": {},
     "output_type": "execute_result"
    },
    {
     "data": {
      "text/plain": [
       "0.5772933149199284"
      ]
     },
     "execution_count": 28,
     "metadata": {},
     "output_type": "execute_result"
    }
   ],
   "source": [
    "y_pred_prob = logreg3.predict_proba(X)\n",
    "y_pred_prob[:,1]\n",
    "metrics.roc_auc_score(y, y_pred_prob[:,1])"
   ]
  },
  {
   "cell_type": "code",
   "execution_count": 29,
   "metadata": {
    "collapsed": false
   },
   "outputs": [
    {
     "data": {
      "text/plain": [
       "array([0.01200864, 0.02631284, 0.00598568, ..., 0.01956273, 0.00894045,\n",
       "       0.01713344])"
      ]
     },
     "execution_count": 29,
     "metadata": {},
     "output_type": "execute_result"
    },
    {
     "data": {
      "text/plain": [
       "0.4911967732260011"
      ]
     },
     "execution_count": 29,
     "metadata": {},
     "output_type": "execute_result"
    }
   ],
   "source": [
    "y_pred_prob = logreg1.predict_proba(X)\n",
    "y_pred_prob[:,1]\n",
    "metrics.roc_auc_score(y, y_pred_prob[:,1])"
   ]
  },
  {
   "cell_type": "code",
   "execution_count": null,
   "metadata": {
    "collapsed": true
   },
   "outputs": [],
   "source": [
    "from sklearn.svm import SVC\n",
    "\n",
    "# Separate input features (X) and target variable (y)\n",
    "y = train_merged.is_click\n",
    "X = train_merged[feature_cols]\n",
    " \n",
    "# Train model\n",
    "svc = SVC(kernel='linear', \n",
    "            class_weight='balanced', # penalize\n",
    "            probability=True)\n",
    " \n",
    "svc.fit(X, y)\n",
    " \n",
    "# Predict on training set\n",
    "y_pred = svc.predict(X)\n",
    " \n",
    "# Is our model still predicting just one class?\n",
    "np.unique(y_pred)\n",
    " \n",
    "# How's our accuracy?\n",
    "metrics.accuracy_score(y, y_pred)\n",
    " \n",
    "# What about AUROC?\n",
    "y_pred_prob = svc.predict_proba(X)\n",
    "metrics.roc_auc_score(y, y_pred_prob)"
   ]
  }
 ],
 "metadata": {
  "kernelspec": {
   "display_name": "Python 3",
   "language": "python",
   "name": "python3"
  },
  "language_info": {
   "codemirror_mode": {
    "name": "ipython",
    "version": 3
   },
   "file_extension": ".py",
   "mimetype": "text/x-python",
   "name": "python",
   "nbconvert_exporter": "python",
   "pygments_lexer": "ipython3",
   "version": "3.6.0"
  }
 },
 "nbformat": 4,
 "nbformat_minor": 2
}
